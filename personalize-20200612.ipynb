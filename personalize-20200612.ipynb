{
 "cells": [
  {
   "cell_type": "markdown",
   "metadata": {},
   "source": [
    "# Module 1. Personalize User-Item Interaction Data 준비 및 환경 설정\n"
   ]
  },
  {
   "cell_type": "markdown",
   "metadata": {},
   "source": [
    "## Library Import \n",
    "\n",
    "파이썬에는 광범위한 라이브러리 모음이 포함되어 있으며, 본 LAB을 위해서 핵심 Data Scientist용 Tool 인 boto3 (AWS SDK) 및 Pandas/Numpy와 같은 라이브러리를 가져와야 합니다. "
   ]
  },
  {
   "cell_type": "code",
   "execution_count": 18,
   "metadata": {},
   "outputs": [
    {
     "name": "stdout",
     "output_type": "stream",
     "text": [
      "Collecting jsonlines\n",
      "  Downloading https://files.pythonhosted.org/packages/4f/9a/ab96291470e305504aa4b7a2e0ec132e930da89eb3ca7a82fbe03167c131/jsonlines-1.2.0-py2.py3-none-any.whl\n",
      "Requirement already satisfied: six in /home/ec2-user/anaconda3/envs/python3/lib/python3.6/site-packages (from jsonlines) (1.11.0)\n",
      "Installing collected packages: jsonlines\n",
      "Successfully installed jsonlines-1.2.0\n",
      "\u001b[33mYou are using pip version 10.0.1, however version 20.2b1 is available.\n",
      "You should consider upgrading via the 'pip install --upgrade pip' command.\u001b[0m\n"
     ]
    }
   ],
   "source": [
    "# Imports\n",
    "!pip install jsonlines\n",
    "#from codes import lambda_personalize\n",
    "import boto3\n",
    "import json\n",
    "import numpy as np\n",
    "import pandas as pd\n",
    "import time\n",
    "import jsonlines\n",
    "\n",
    "from datetime import datetime\n",
    "import sagemaker\n",
    "import time\n",
    "import warnings\n",
    "\n",
    "import matplotlib.pyplot as plt\n",
    "from matplotlib.dates import DateFormatter\n",
    "import matplotlib.dates as mdate\n",
    "from botocore.exceptions import ClientError"
   ]
  },
  {
   "cell_type": "markdown",
   "metadata": {},
   "source": [
    "다음으로 여러분의 환경이 Amazon Personalize와 성공적으로 통신할 수 있는지 확인해야 합니다."
   ]
  },
  {
   "cell_type": "code",
   "execution_count": 2,
   "metadata": {},
   "outputs": [],
   "source": [
    "# Configure the SDK to Personalize:\n",
    "personalize = boto3.client('personalize')\n",
    "personalize_runtime = boto3.client('personalize-runtime')\n",
    "s3 = boto3.resource('s3')"
   ]
  },
  {
   "cell_type": "markdown",
   "metadata": {},
   "source": [
    "생성할 오브젝트의 끝에 임의의 숫자를 부여하기 위해 suffix 정의"
   ]
  },
  {
   "cell_type": "code",
   "execution_count": 3,
   "metadata": {},
   "outputs": [],
   "source": [
    "# If you don't need profile, set USER_PROFILE=\"\"\n",
    "PROFILE_NAME=\"Kurly\"\n",
    "\n",
    "\n",
    "WORK_DATE=\"20200612\"\n",
    "WORK_DATE_PATH=\"2020/06/12\"\n",
    "\n",
    "data_dir = \"poc_data\"\n",
    "account_id = \"870180618679\"\n",
    "\n",
    "#INTERACTION_FILE_1=\"46b9579b-f217-4cb9-92cc-83cb9a0b0d0d.csv\"\n",
    "INTERACTION_FILE=\"f1355121-d9fe-4aaa-b3df-37f35f344384.csv\"\n",
    "#INTERACTION_FILE=\"interactions_\" + WORK_DATE +\".csv\"\n",
    "\n",
    "BUCKET_NAME = \"jihys-personal\"\n",
    "KEY_PREFIX = \"kurly\"\n",
    "\n",
    "PREFIX = \"data03/user+identifier/\" + WORK_DATE_PATH\n",
    "\n",
    "DATA_BUCKET_NAME = \"jihys-personal\"\n",
    "bucket=DATA_BUCKET_NAME \n",
    "#DATA_BUCKET_NAME = account_id + \"-kurly-personalize-0324\"\n",
    "#bucket_name = DATA_BUCKET_NAME\n",
    "ROLE_NAME = \"Kurly-PersonalizeRetailRole-0612\"\n",
    "DATA_PREFIX = \"dataset\"\n",
    "BATCH_PREFIX= \"batch\"\n",
    "#INTERACTIONS=\"interaction_\" + WORK_DATE + \".csv\"\n",
    "#MEMBERS=\"member_\" + WORK_DATE + \".csv\"\n",
    "#PRODUCTS=\"product_\" + WORK_DATE + \".csv\"\n",
    "\n",
    "DATA_SET_GROUP_NAME= WORK_DATE+ \"-dataset-group\"\n",
    "SCHEMA_NAME_INTERACTION= WORK_DATE+ \"-schema-interactions\"\n",
    "#SCHEMA_NAME_USERS= PREFIX + \"-schema-users\"\n",
    "#SCHEMA_NAME_ITEMS= PREFIX + \"-schema-items\"\n",
    "\n",
    "DATASET_NAME_INTERACTION=\"kurly-dataset-interactions\"\n",
    "DATASET_NAME_USERS=\"kurly-dataset-users\"\n",
    "DATASET_NAME_ITEMS=\"kurly-dataset-items\"\n",
    "\n",
    "suffix = str(np.random.uniform())[4:9]\n",
    "\n",
    "BATCH_TARGET_USERS_FILE= \"users_for_batch_\"+ WORK_DATE + \".json\"\n"
   ]
  },
  {
   "cell_type": "markdown",
   "metadata": {},
   "source": [
    "### 데이터 세트 다운로드 및 탐색"
   ]
  },
  {
   "cell_type": "code",
   "execution_count": 4,
   "metadata": {},
   "outputs": [
    {
     "name": "stdout",
     "output_type": "stream",
     "text": [
      "kurly/data03/user+identifier/2020/06/12/f1355121-d9fe-4aaa-b3df-37f35f344384.csv\n",
      "poc_data/f1355121-d9fe-4aaa-b3df-37f35f344384.csv\n"
     ]
    }
   ],
   "source": [
    "\n",
    "source_file_path = KEY_PREFIX +\"/\"+PREFIX+\"/\"+INTERACTION_FILE\n",
    "target_file_path = data_dir+\"/\"+INTERACTION_FILE\n",
    "print(source_file_path)\n",
    "print(target_file_path)\n",
    "\n",
    "\n",
    "#s3.Bucket(BUCKET_NAME).download_file('kurly/data03/user+identifier/2020/06/12/46b9579b-f217-4cb9-92cc-83cb9a0b0d0d.csv', target_file_path)\n",
    "s3.Bucket(BUCKET_NAME).download_file(source_file_path, target_file_path)\n"
   ]
  },
  {
   "cell_type": "code",
   "execution_count": 5,
   "metadata": {},
   "outputs": [
    {
     "data": {
      "text/html": [
       "<div>\n",
       "<style scoped>\n",
       "    .dataframe tbody tr th:only-of-type {\n",
       "        vertical-align: middle;\n",
       "    }\n",
       "\n",
       "    .dataframe tbody tr th {\n",
       "        vertical-align: top;\n",
       "    }\n",
       "\n",
       "    .dataframe thead th {\n",
       "        text-align: right;\n",
       "    }\n",
       "</style>\n",
       "<table border=\"1\" class=\"dataframe\">\n",
       "  <thead>\n",
       "    <tr style=\"text-align: right;\">\n",
       "      <th></th>\n",
       "      <th>EVENT_TYPE</th>\n",
       "      <th>USER_ID</th>\n",
       "      <th>ITEM_ID</th>\n",
       "      <th>TIMESTAMP</th>\n",
       "    </tr>\n",
       "  </thead>\n",
       "  <tbody>\n",
       "    <tr>\n",
       "      <th>0</th>\n",
       "      <td>click</td>\n",
       "      <td>2358D2214F28D1226464E33B3AC111D9</td>\n",
       "      <td>E41FA3D414E8EACA9467ECACE739B400</td>\n",
       "      <td>1.590865e+12</td>\n",
       "    </tr>\n",
       "    <tr>\n",
       "      <th>1</th>\n",
       "      <td>click</td>\n",
       "      <td>8E535A9C69DDFB4CE9004A395150BA27</td>\n",
       "      <td>F09A9EAE79258394989C32E851C9EC10</td>\n",
       "      <td>1.590865e+12</td>\n",
       "    </tr>\n",
       "    <tr>\n",
       "      <th>2</th>\n",
       "      <td>click</td>\n",
       "      <td>CA766DED13E4B52143576087E4054365</td>\n",
       "      <td>0B6ACE9E8971CF36F1782AA982A708DB</td>\n",
       "      <td>1.590865e+12</td>\n",
       "    </tr>\n",
       "    <tr>\n",
       "      <th>3</th>\n",
       "      <td>click</td>\n",
       "      <td>1A4B4636C84ADBA079DC12F80EF3E134</td>\n",
       "      <td>43D5B8FC1B0674E7CFD04C36D6BB6442</td>\n",
       "      <td>1.590865e+12</td>\n",
       "    </tr>\n",
       "    <tr>\n",
       "      <th>4</th>\n",
       "      <td>click</td>\n",
       "      <td>BECB61EA11D2672B317052C6B29F870A</td>\n",
       "      <td>68D13CF26C4B4F4F932E3EFF990093BA</td>\n",
       "      <td>1.590865e+12</td>\n",
       "    </tr>\n",
       "  </tbody>\n",
       "</table>\n",
       "</div>"
      ],
      "text/plain": [
       "  EVENT_TYPE                           USER_ID  \\\n",
       "0      click  2358D2214F28D1226464E33B3AC111D9   \n",
       "1      click  8E535A9C69DDFB4CE9004A395150BA27   \n",
       "2      click  CA766DED13E4B52143576087E4054365   \n",
       "3      click  1A4B4636C84ADBA079DC12F80EF3E134   \n",
       "4      click  BECB61EA11D2672B317052C6B29F870A   \n",
       "\n",
       "                            ITEM_ID     TIMESTAMP  \n",
       "0  E41FA3D414E8EACA9467ECACE739B400  1.590865e+12  \n",
       "1  F09A9EAE79258394989C32E851C9EC10  1.590865e+12  \n",
       "2  0B6ACE9E8971CF36F1782AA982A708DB  1.590865e+12  \n",
       "3  43D5B8FC1B0674E7CFD04C36D6BB6442  1.590865e+12  \n",
       "4  68D13CF26C4B4F4F932E3EFF990093BA  1.590865e+12  "
      ]
     },
     "execution_count": 5,
     "metadata": {},
     "output_type": "execute_result"
    }
   ],
   "source": [
    "#df_1=pd.read_csv('poc_data/46b9579b-f217-4cb9-92cc-83cb9a0b0d0d.csv')\n",
    "#df_2=pd.read_csv('poc_data/f1355121-d9fe-4aaa-b3df-37f35f344384.csv')\n",
    "\n",
    "df=pd.read_csv(target_file_path)\n",
    "#print(df_1.head())\n",
    "#print(df_2.head())\n",
    "#df=pd.concat(df_1, df_2)\n",
    "df.columns=['EVENT_TYPE','USER_ID','ITEM_ID','TIMESTAMP']\n",
    "df_origin=df\n",
    "df.head()\n"
   ]
  },
  {
   "cell_type": "code",
   "execution_count": 6,
   "metadata": {},
   "outputs": [
    {
     "data": {
      "text/plain": [
       "EVENT_TYPE     object\n",
       "USER_ID        object\n",
       "ITEM_ID        object\n",
       "TIMESTAMP     float64\n",
       "dtype: object"
      ]
     },
     "execution_count": 6,
     "metadata": {},
     "output_type": "execute_result"
    }
   ],
   "source": [
    "df=df_origin.copy()\n",
    "df.dtypes"
   ]
  },
  {
   "cell_type": "code",
   "execution_count": 7,
   "metadata": {},
   "outputs": [
    {
     "name": "stdout",
     "output_type": "stream",
     "text": [
      "<class 'pandas.core.frame.DataFrame'>\n",
      "RangeIndex: 61876589 entries, 0 to 61876588\n",
      "Data columns (total 4 columns):\n",
      "EVENT_TYPE    object\n",
      "USER_ID       object\n",
      "ITEM_ID       object\n",
      "TIMESTAMP     float64\n",
      "dtypes: float64(1), object(3)\n",
      "memory usage: 1.8+ GB\n"
     ]
    }
   ],
   "source": [
    "df.info()"
   ]
  },
  {
   "cell_type": "markdown",
   "metadata": {},
   "source": [
    "### NULL DATA제거 "
   ]
  },
  {
   "cell_type": "code",
   "execution_count": 8,
   "metadata": {
    "scrolled": true
   },
   "outputs": [
    {
     "name": "stdout",
     "output_type": "stream",
     "text": [
      "# of rows of Null TimeStamp : 333331\n",
      "# of rows of Null Event Type : 0\n",
      "# of rows of Null User ID : 0\n",
      "# of rows of Null Item ID : 6\n"
     ]
    }
   ],
   "source": [
    "print(\"# of rows of Null TimeStamp : {}\".format(df['TIMESTAMP'].isnull().sum()))\n",
    "print(\"# of rows of Null Event Type : {}\".format(df['EVENT_TYPE'].isnull().sum()))\n",
    "print(\"# of rows of Null User ID : {}\".format(df['USER_ID'].isnull().sum()))\n",
    "print(\"# of rows of Null Item ID : {}\".format(df['ITEM_ID'].isnull().sum()))\n",
    "#df[df['TIMESTAMP'].isnull()]\n",
    "\n",
    "#########전체 INTERACTION 'null' 확인##########\n",
    "#row_has_NaN = is_NaN.any(axis=1)\n",
    "#rows_with_NaN = df[row_has_NaN]\n",
    "#print(rows_with_NaN)\n",
    "#len(rows_with_NaN)\n",
    "##############################################"
   ]
  },
  {
   "cell_type": "code",
   "execution_count": 9,
   "metadata": {},
   "outputs": [
    {
     "name": "stdout",
     "output_type": "stream",
     "text": [
      "<class 'pandas.core.frame.DataFrame'>\n",
      "Int64Index: 61543252 entries, 0 to 61876588\n",
      "Data columns (total 4 columns):\n",
      "EVENT_TYPE    object\n",
      "USER_ID       object\n",
      "ITEM_ID       object\n",
      "TIMESTAMP     float64\n",
      "dtypes: float64(1), object(3)\n",
      "memory usage: 2.3+ GB\n"
     ]
    }
   ],
   "source": [
    "df=df.dropna()\n",
    "df.info()"
   ]
  },
  {
   "cell_type": "markdown",
   "metadata": {},
   "source": [
    "### 데이터 타입 확인 및 변경"
   ]
  },
  {
   "cell_type": "code",
   "execution_count": 10,
   "metadata": {},
   "outputs": [],
   "source": [
    "###Test Code to see timestamp format\n",
    "#arb_time_stamp = df.iloc[50]['TIMESTAMP']\n",
    "#print(arb_time_stamp)\n",
    "#print(datetime.utcfromtimestamp(arb_time_stamp).strftime('%Y-%m-%d %H:%M:%S'))\n"
   ]
  },
  {
   "cell_type": "code",
   "execution_count": 11,
   "metadata": {},
   "outputs": [
    {
     "name": "stdout",
     "output_type": "stream",
     "text": [
      "1590864667.87\n",
      "2020-05-30 18:51:07\n"
     ]
    }
   ],
   "source": [
    "df.TIMESTAMP  = df.TIMESTAMP / 1000\n",
    "arb_time_stamp = df.iloc[50]['TIMESTAMP']\n",
    "print(arb_time_stamp)\n",
    "print(datetime.utcfromtimestamp(arb_time_stamp).strftime('%Y-%m-%d %H:%M:%S'))"
   ]
  },
  {
   "cell_type": "code",
   "execution_count": 20,
   "metadata": {},
   "outputs": [
    {
     "name": "stdout",
     "output_type": "stream",
     "text": [
      "from 2020-04-21 04:39:00 to 2020-06-02 19:59:59\n"
     ]
    }
   ],
   "source": [
    "\n",
    "print(\"from\",datetime.utcfromtimestamp(df['TIMESTAMP'].min()).strftime('%Y-%m-%d %H:%M:%S'), \"to\", datetime.utcfromtimestamp(df['TIMESTAMP'].max()).strftime('%Y-%m-%d %H:%M:%S') )"
   ]
  },
  {
   "cell_type": "code",
   "execution_count": null,
   "metadata": {},
   "outputs": [],
   "source": [
    "df.EVENT_TYPE = df.EVENT_TYPE .astype(str)\n",
    "df.ITEM_ID = df.ITEM_ID.astype(str)\n",
    "df.USER_ID = df.USER_ID.astype(str)\n",
    "df.TIMESTAMP=df.TIMESTAMP.astype('int64')"
   ]
  },
  {
   "cell_type": "code",
   "execution_count": null,
   "metadata": {},
   "outputs": [],
   "source": [
    "item,item_unique=pd.factorize(df['ITEM_ID'])\n",
    "user,user_unique=pd.factorize(df['USER_ID'])\n",
    "df['ITEM_ID']=item\n",
    "df['USER_ID']=user"
   ]
  },
  {
   "cell_type": "code",
   "execution_count": null,
   "metadata": {},
   "outputs": [],
   "source": [
    "df.tail()"
   ]
  },
  {
   "cell_type": "code",
   "execution_count": null,
   "metadata": {},
   "outputs": [],
   "source": [
    "item_unique=pd.DataFrame(item_unique,columns=['ITEM_ID'])\n",
    "user_unique=pd.DataFrame(user_unique,columns=['USER_ID'])\n",
    "item_unique.to_csv(data_dir + \"/\"+\"unique_item_index.csv\")\n",
    "user_unique.to_csv(data_dir + \"/\"+\"unique_user_index.csv\")"
   ]
  },
  {
   "cell_type": "markdown",
   "metadata": {},
   "source": [
    "### 데이터 INTERACTION 정보 확인\n",
    "\n",
    "Personalize에서 학습을 수행하기 위해서는 다음과 [official limits](https://docs.aws.amazon.com/personalize/latest/dg/limits.html)같은 데이터 요구사항을 맞추어야 합니다. \n",
    "\n",
    "* 최소 25명 고유 사용자 \n",
    "* 최소 100개 고유 아이템 \n",
    "* 사용자 당 2개 이상의 Interaction(예. 구매,평가 등) 기록\n",
    "\n",
    "\n",
    "하지만 일반적으로 다음과 같은 데이터가 준비 되어 있는것이 좋습니다. \n",
    "\n",
    "* 최소 50명 고유 사용자 \n",
    "* 최소 100개 고유 아이템 \n",
    "* 사용자 당 24 이상의 Interaction(예. 구매,평가 등) 기록"
   ]
  },
  {
   "cell_type": "code",
   "execution_count": 21,
   "metadata": {},
   "outputs": [
    {
     "name": "stdout",
     "output_type": "stream",
     "text": [
      "unique_items: 10433, Unique_users : 1593566\n"
     ]
    }
   ],
   "source": [
    "unique_items = df['ITEM_ID'].unique()\n",
    "unique_users = df['USER_ID'].unique()\n",
    "print(\"unique_items: {}, Unique_users : {}\".format(len(unique_items),len(unique_users)))"
   ]
  },
  {
   "cell_type": "code",
   "execution_count": 22,
   "metadata": {},
   "outputs": [
    {
     "data": {
      "text/html": [
       "<div>\n",
       "<style scoped>\n",
       "    .dataframe tbody tr th:only-of-type {\n",
       "        vertical-align: middle;\n",
       "    }\n",
       "\n",
       "    .dataframe tbody tr th {\n",
       "        vertical-align: top;\n",
       "    }\n",
       "\n",
       "    .dataframe thead th {\n",
       "        text-align: right;\n",
       "    }\n",
       "</style>\n",
       "<table border=\"1\" class=\"dataframe\">\n",
       "  <thead>\n",
       "    <tr style=\"text-align: right;\">\n",
       "      <th></th>\n",
       "      <th>EVENT_TYPE</th>\n",
       "      <th>USER_ID</th>\n",
       "      <th>ITEM_ID</th>\n",
       "      <th>TIMESTAMP</th>\n",
       "    </tr>\n",
       "  </thead>\n",
       "  <tbody>\n",
       "    <tr>\n",
       "      <th>0</th>\n",
       "      <td>click</td>\n",
       "      <td>2358D2214F28D1226464E33B3AC111D9</td>\n",
       "      <td>E41FA3D414E8EACA9467ECACE739B400</td>\n",
       "      <td>1.590865e+09</td>\n",
       "    </tr>\n",
       "    <tr>\n",
       "      <th>1</th>\n",
       "      <td>click</td>\n",
       "      <td>8E535A9C69DDFB4CE9004A395150BA27</td>\n",
       "      <td>F09A9EAE79258394989C32E851C9EC10</td>\n",
       "      <td>1.590865e+09</td>\n",
       "    </tr>\n",
       "    <tr>\n",
       "      <th>2</th>\n",
       "      <td>click</td>\n",
       "      <td>CA766DED13E4B52143576087E4054365</td>\n",
       "      <td>0B6ACE9E8971CF36F1782AA982A708DB</td>\n",
       "      <td>1.590865e+09</td>\n",
       "    </tr>\n",
       "    <tr>\n",
       "      <th>3</th>\n",
       "      <td>click</td>\n",
       "      <td>1A4B4636C84ADBA079DC12F80EF3E134</td>\n",
       "      <td>43D5B8FC1B0674E7CFD04C36D6BB6442</td>\n",
       "      <td>1.590865e+09</td>\n",
       "    </tr>\n",
       "    <tr>\n",
       "      <th>4</th>\n",
       "      <td>click</td>\n",
       "      <td>BECB61EA11D2672B317052C6B29F870A</td>\n",
       "      <td>68D13CF26C4B4F4F932E3EFF990093BA</td>\n",
       "      <td>1.590865e+09</td>\n",
       "    </tr>\n",
       "  </tbody>\n",
       "</table>\n",
       "</div>"
      ],
      "text/plain": [
       "  EVENT_TYPE                           USER_ID  \\\n",
       "0      click  2358D2214F28D1226464E33B3AC111D9   \n",
       "1      click  8E535A9C69DDFB4CE9004A395150BA27   \n",
       "2      click  CA766DED13E4B52143576087E4054365   \n",
       "3      click  1A4B4636C84ADBA079DC12F80EF3E134   \n",
       "4      click  BECB61EA11D2672B317052C6B29F870A   \n",
       "\n",
       "                            ITEM_ID     TIMESTAMP  \n",
       "0  E41FA3D414E8EACA9467ECACE739B400  1.590865e+09  \n",
       "1  F09A9EAE79258394989C32E851C9EC10  1.590865e+09  \n",
       "2  0B6ACE9E8971CF36F1782AA982A708DB  1.590865e+09  \n",
       "3  43D5B8FC1B0674E7CFD04C36D6BB6442  1.590865e+09  \n",
       "4  68D13CF26C4B4F4F932E3EFF990093BA  1.590865e+09  "
      ]
     },
     "execution_count": 22,
     "metadata": {},
     "output_type": "execute_result"
    }
   ],
   "source": [
    "df.head()"
   ]
  },
  {
   "cell_type": "code",
   "execution_count": 23,
   "metadata": {},
   "outputs": [
    {
     "name": "stdout",
     "output_type": "stream",
     "text": [
      "click    50963282\n",
      "order    10579970\n",
      "Name: EVENT_TYPE, dtype: int64\n"
     ]
    },
    {
     "data": {
      "image/png": "[encoded data removed]",
      "text/plain": [
       "<Figure size 432x288 with 1 Axes>"
      ]
     },
     "metadata": {},
     "output_type": "display_data"
    }
   ],
   "source": [
    "#for col in category_feature:\n",
    "#    print(\"%s column is processing\" % (col))\n",
    "print(df.EVENT_TYPE.value_counts())\n",
    "df.EVENT_TYPE.value_counts().plot(kind='bar')\n",
    "plt.title(\"EVENT_TYPE\")\n",
    "\n",
    "plt.show()"
   ]
  },
  {
   "cell_type": "code",
   "execution_count": 24,
   "metadata": {},
   "outputs": [
    {
     "name": "stdout",
     "output_type": "stream",
     "text": [
      "<class 'pandas.core.frame.DataFrame'>\n",
      "Index: 1593566 entries, 00000798964B0E50F229649313A316BC to FFFFF91F35D7F58D8E63A8500EC86389\n",
      "Data columns (total 1 columns):\n",
      "INTERACTION_COUNTS    1593566 non-null int64\n",
      "dtypes: int64(1)\n",
      "memory usage: 24.3+ MB\n",
      "None\n"
     ]
    },
    {
     "data": {
      "text/html": [
       "<div>\n",
       "<style scoped>\n",
       "    .dataframe tbody tr th:only-of-type {\n",
       "        vertical-align: middle;\n",
       "    }\n",
       "\n",
       "    .dataframe tbody tr th {\n",
       "        vertical-align: top;\n",
       "    }\n",
       "\n",
       "    .dataframe thead th {\n",
       "        text-align: right;\n",
       "    }\n",
       "</style>\n",
       "<table border=\"1\" class=\"dataframe\">\n",
       "  <thead>\n",
       "    <tr style=\"text-align: right;\">\n",
       "      <th></th>\n",
       "      <th>INTERACTION_COUNTS</th>\n",
       "    </tr>\n",
       "    <tr>\n",
       "      <th>USER_ID</th>\n",
       "      <th></th>\n",
       "    </tr>\n",
       "  </thead>\n",
       "  <tbody>\n",
       "    <tr>\n",
       "      <th>00000798964B0E50F229649313A316BC</th>\n",
       "      <td>1</td>\n",
       "    </tr>\n",
       "    <tr>\n",
       "      <th>0000136D22B0F310C711DC7CEFFAB2EB</th>\n",
       "      <td>23</td>\n",
       "    </tr>\n",
       "    <tr>\n",
       "      <th>000016B055E48C09079951E895371491</th>\n",
       "      <td>16</td>\n",
       "    </tr>\n",
       "    <tr>\n",
       "      <th>00001BF330801C5FF0FA40D34784356F</th>\n",
       "      <td>1</td>\n",
       "    </tr>\n",
       "    <tr>\n",
       "      <th>00002189884F3922A12B4A7E6ACF827F</th>\n",
       "      <td>72</td>\n",
       "    </tr>\n",
       "  </tbody>\n",
       "</table>\n",
       "</div>"
      ],
      "text/plain": [
       "                                  INTERACTION_COUNTS\n",
       "USER_ID                                             \n",
       "00000798964B0E50F229649313A316BC                   1\n",
       "0000136D22B0F310C711DC7CEFFAB2EB                  23\n",
       "000016B055E48C09079951E895371491                  16\n",
       "00001BF330801C5FF0FA40D34784356F                   1\n",
       "00002189884F3922A12B4A7E6ACF827F                  72"
      ]
     },
     "execution_count": 24,
     "metadata": {},
     "output_type": "execute_result"
    }
   ],
   "source": [
    "user_activity_counts = df.groupby(\"USER_ID\").count().loc[:,[\"EVENT_TYPE\"]].rename(columns={\"EVENT_TYPE\":\"INTERACTION_COUNTS\"})\n",
    "print(user_activity_counts.info())\n",
    "user_activity_counts.head()\n"
   ]
  },
  {
   "cell_type": "code",
   "execution_count": 25,
   "metadata": {
    "scrolled": true
   },
   "outputs": [
    {
     "data": {
      "text/html": [
       "<div>\n",
       "<style scoped>\n",
       "    .dataframe tbody tr th:only-of-type {\n",
       "        vertical-align: middle;\n",
       "    }\n",
       "\n",
       "    .dataframe tbody tr th {\n",
       "        vertical-align: top;\n",
       "    }\n",
       "\n",
       "    .dataframe thead th {\n",
       "        text-align: right;\n",
       "    }\n",
       "</style>\n",
       "<table border=\"1\" class=\"dataframe\">\n",
       "  <thead>\n",
       "    <tr style=\"text-align: right;\">\n",
       "      <th></th>\n",
       "      <th>INTERACTION_COUNTS</th>\n",
       "    </tr>\n",
       "  </thead>\n",
       "  <tbody>\n",
       "    <tr>\n",
       "      <th>0.1000</th>\n",
       "      <td>1.0</td>\n",
       "    </tr>\n",
       "    <tr>\n",
       "      <th>0.2000</th>\n",
       "      <td>3.0</td>\n",
       "    </tr>\n",
       "    <tr>\n",
       "      <th>0.3000</th>\n",
       "      <td>5.0</td>\n",
       "    </tr>\n",
       "    <tr>\n",
       "      <th>0.4000</th>\n",
       "      <td>8.0</td>\n",
       "    </tr>\n",
       "    <tr>\n",
       "      <th>0.5000</th>\n",
       "      <td>13.0</td>\n",
       "    </tr>\n",
       "    <tr>\n",
       "      <th>0.6000</th>\n",
       "      <td>21.0</td>\n",
       "    </tr>\n",
       "    <tr>\n",
       "      <th>0.8000</th>\n",
       "      <td>53.0</td>\n",
       "    </tr>\n",
       "    <tr>\n",
       "      <th>0.9000</th>\n",
       "      <td>98.0</td>\n",
       "    </tr>\n",
       "    <tr>\n",
       "      <th>0.9500</th>\n",
       "      <td>158.0</td>\n",
       "    </tr>\n",
       "    <tr>\n",
       "      <th>0.9900</th>\n",
       "      <td>353.0</td>\n",
       "    </tr>\n",
       "    <tr>\n",
       "      <th>0.9990</th>\n",
       "      <td>799.0</td>\n",
       "    </tr>\n",
       "    <tr>\n",
       "      <th>0.9999</th>\n",
       "      <td>1518.0</td>\n",
       "    </tr>\n",
       "    <tr>\n",
       "      <th>1.0000</th>\n",
       "      <td>8712.0</td>\n",
       "    </tr>\n",
       "  </tbody>\n",
       "</table>\n",
       "</div>"
      ],
      "text/plain": [
       "        INTERACTION_COUNTS\n",
       "0.1000                 1.0\n",
       "0.2000                 3.0\n",
       "0.3000                 5.0\n",
       "0.4000                 8.0\n",
       "0.5000                13.0\n",
       "0.6000                21.0\n",
       "0.8000                53.0\n",
       "0.9000                98.0\n",
       "0.9500               158.0\n",
       "0.9900               353.0\n",
       "0.9990               799.0\n",
       "0.9999              1518.0\n",
       "1.0000              8712.0"
      ]
     },
     "execution_count": 25,
     "metadata": {},
     "output_type": "execute_result"
    }
   ],
   "source": [
    "user_activity_counts.quantile([.1,.2,.3,.4,.5,.6,.8,.9,.95,.99,.999,.9999,1.0])"
   ]
  },
  {
   "cell_type": "code",
   "execution_count": 26,
   "metadata": {},
   "outputs": [
    {
     "data": {
      "text/html": [
       "<div>\n",
       "<style scoped>\n",
       "    .dataframe tbody tr th:only-of-type {\n",
       "        vertical-align: middle;\n",
       "    }\n",
       "\n",
       "    .dataframe tbody tr th {\n",
       "        vertical-align: top;\n",
       "    }\n",
       "\n",
       "    .dataframe thead th {\n",
       "        text-align: right;\n",
       "    }\n",
       "</style>\n",
       "<table border=\"1\" class=\"dataframe\">\n",
       "  <thead>\n",
       "    <tr style=\"text-align: right;\">\n",
       "      <th></th>\n",
       "      <th>NUM_USERS</th>\n",
       "    </tr>\n",
       "    <tr>\n",
       "      <th>INTERACTION_COUNTS</th>\n",
       "      <th></th>\n",
       "    </tr>\n",
       "  </thead>\n",
       "  <tbody>\n",
       "    <tr>\n",
       "      <th>1</th>\n",
       "      <td>184713</td>\n",
       "    </tr>\n",
       "    <tr>\n",
       "      <th>2</th>\n",
       "      <td>117891</td>\n",
       "    </tr>\n",
       "    <tr>\n",
       "      <th>3</th>\n",
       "      <td>85866</td>\n",
       "    </tr>\n",
       "    <tr>\n",
       "      <th>4</th>\n",
       "      <td>68402</td>\n",
       "    </tr>\n",
       "    <tr>\n",
       "      <th>5</th>\n",
       "      <td>57207</td>\n",
       "    </tr>\n",
       "  </tbody>\n",
       "</table>\n",
       "</div>"
      ],
      "text/plain": [
       "                    NUM_USERS\n",
       "INTERACTION_COUNTS           \n",
       "1                      184713\n",
       "2                      117891\n",
       "3                       85866\n",
       "4                       68402\n",
       "5                       57207"
      ]
     },
     "execution_count": 26,
     "metadata": {},
     "output_type": "execute_result"
    }
   ],
   "source": [
    "user_activity_counts=user_activity_counts.reset_index()\n",
    "activities = user_activity_counts.groupby('INTERACTION_COUNTS').count()\n",
    "activities.columns=['NUM_USERS']\n",
    "activities.head()"
   ]
  },
  {
   "cell_type": "code",
   "execution_count": 27,
   "metadata": {},
   "outputs": [],
   "source": [
    "assert (len(unique_users)==activities['NUM_USERS'].sum())"
   ]
  },
  {
   "cell_type": "code",
   "execution_count": 28,
   "metadata": {},
   "outputs": [
    {
     "data": {
      "image/png": "[encoded data removed]",
      "text/plain": [
       "<Figure size 1080x360 with 1 Axes>"
      ]
     },
     "metadata": {},
     "output_type": "display_data"
    }
   ],
   "source": [
    "activities.loc[:8712,:].plot(kind='bar', figsize=(15,5), ylim=(0,190000))\n",
    "plt.title(\"activities users group\")\n",
    "\n",
    "plt.show()"
   ]
  },
  {
   "cell_type": "code",
   "execution_count": 29,
   "metadata": {},
   "outputs": [
    {
     "data": {
      "text/plain": [
       "582580"
      ]
     },
     "execution_count": 29,
     "metadata": {},
     "output_type": "execute_result"
    }
   ],
   "source": [
    "activities[activities.index > 24].NUM_USERS.sum()"
   ]
  },
  {
   "cell_type": "code",
   "execution_count": 30,
   "metadata": {},
   "outputs": [
    {
     "data": {
      "text/plain": [
       "EVENT_TYPE    38.619833\n",
       "ITEM_ID       38.619833\n",
       "TIMESTAMP     38.619833\n",
       "dtype: float64"
      ]
     },
     "execution_count": 30,
     "metadata": {},
     "output_type": "execute_result"
    }
   ],
   "source": [
    "df.groupby(\"USER_ID\").count().mean()"
   ]
  },
  {
   "cell_type": "code",
   "execution_count": 31,
   "metadata": {},
   "outputs": [
    {
     "name": "stdout",
     "output_type": "stream",
     "text": [
      "<class 'pandas.core.frame.DataFrame'>\n",
      "Int64Index: 159 entries, 7115 to 1581902\n",
      "Data columns (total 2 columns):\n",
      "USER_ID               159 non-null object\n",
      "INTERACTION_COUNTS    159 non-null int64\n",
      "dtypes: int64(1), object(1)\n",
      "memory usage: 3.7+ KB\n"
     ]
    }
   ],
   "source": [
    "#user_activity_counts['INTERACTION_COUNTS'].max()\n",
    "heavy_user=user_activity_counts[user_activity_counts['INTERACTION_COUNTS']>1518]\n",
    "heavy_user.info()"
   ]
  },
  {
   "cell_type": "code",
   "execution_count": 32,
   "metadata": {},
   "outputs": [
    {
     "name": "stdout",
     "output_type": "stream",
     "text": [
      "<class 'pandas.core.frame.DataFrame'>\n",
      "Int64Index: 1010986 entries, 0 to 1593565\n",
      "Data columns (total 2 columns):\n",
      "USER_ID               1010986 non-null object\n",
      "INTERACTION_COUNTS    1010986 non-null int64\n",
      "dtypes: int64(1), object(1)\n",
      "memory usage: 23.1+ MB\n",
      "None\n",
      "slow_user_percentage:0.6344174009736654\n"
     ]
    }
   ],
   "source": [
    "#user_activity_counts['INTERACTION_COUNTS'].max()\n",
    "slow_user=user_activity_counts[user_activity_counts['INTERACTION_COUNTS']<=24]\n",
    "print(slow_user.info())\n",
    "print(\"slow_user_percentage:{}\".format(len(slow_user)/len(user_activity_counts)))"
   ]
  },
  {
   "cell_type": "markdown",
   "metadata": {},
   "source": [
    "### 아이템 분석"
   ]
  },
  {
   "cell_type": "code",
   "execution_count": 33,
   "metadata": {},
   "outputs": [
    {
     "data": {
      "image/png": "[encoded data removed]",
      "text/plain": [
       "<Figure size 1080x360 with 1 Axes>"
      ]
     },
     "metadata": {},
     "output_type": "display_data"
    },
    {
     "data": {
      "image/png": "[encoded data removed]",
      "text/plain": [
       "<Figure size 1080x360 with 1 Axes>"
      ]
     },
     "metadata": {},
     "output_type": "display_data"
    },
    {
     "data": {
      "image/png": "[encoded data removed]",
      "text/plain": [
       "<Figure size 1080x360 with 1 Axes>"
      ]
     },
     "metadata": {},
     "output_type": "display_data"
    },
    {
     "data": {
      "image/png": "[encoded data removed]",
      "text/plain": [
       "<Figure size 1080x360 with 1 Axes>"
      ]
     },
     "metadata": {},
     "output_type": "display_data"
    },
    {
     "data": {
      "image/png": "[encoded data removed]",
      "text/plain": [
       "<Figure size 1080x360 with 1 Axes>"
      ]
     },
     "metadata": {},
     "output_type": "display_data"
    }
   ],
   "source": [
    "def draw_long_tails(df, is_in_event_types, groupby_column_name, count_name, range1=100, range2=1000, range3=3000):\n",
    "    filtered_df = df.loc[df[\"EVENT_TYPE\"].isin(is_in_event_types)]\n",
    "    groupby_df = filtered_df.groupby(groupby_column_name).count().loc[:,[\"EVENT_TYPE\"]].rename(columns={\"EVENT_TYPE\":count_name})\n",
    "    sorted_df = groupby_df.sort_values([count_name], ascending=False)\n",
    "    \n",
    "    sorted_df[:].plot(kind='line', figsize=(15,5))\n",
    "    plt.title(count_name + \" per \" + groupby_column_name)\n",
    "    plt.show()\n",
    "\n",
    "    sorted_df[:range1].plot(kind='line', figsize=(15,5))\n",
    "    plt.title(count_name + \" per \" + groupby_column_name + \"/ 1 ~\" + str(range1) + \"th\")\n",
    "    plt.show()\n",
    "    \n",
    "    sorted_df[range1:range2].plot(kind='line', figsize=(15,5))\n",
    "    plt.title(count_name + \" per \" + groupby_column_name + \" / \" + str(range1) + \"th ~ \"+ str(range2) + \"th\")\n",
    "    plt.show()\n",
    "\n",
    "    sorted_df[range2:range3].plot(kind='line', figsize=(15,5))\n",
    "    plt.title(count_name + \" per \" + groupby_column_name + \" / \" + str(range2) + \"th ~ \"+ str(range3) + \"th\")\n",
    "    plt.show()\n",
    "    \n",
    "    sorted_df[range3:].plot(kind='line', figsize=(15,5))\n",
    "    plt.title(count_name + \" per \" + groupby_column_name + \" / \" + str(range3) + \"th ~ \")\n",
    "    plt.show()\n",
    "    \n",
    "#draw_long_tails(interactions_org, [\"order\"], \"ITEM_ID\", \"ORDERS\", 100, 1000, 3000)\n",
    "draw_long_tails(df, [\"order\"], \"ITEM_ID\", \"ORDERS\", 100, 1000, 3000)"
   ]
  },
  {
   "cell_type": "code",
   "execution_count": null,
   "metadata": {},
   "outputs": [],
   "source": []
  },
  {
   "cell_type": "markdown",
   "metadata": {},
   "source": [
    "### 데이터 S3 업로드 "
   ]
  },
  {
   "cell_type": "code",
   "execution_count": 60,
   "metadata": {},
   "outputs": [
    {
     "name": "stdout",
     "output_type": "stream",
     "text": [
      "kurly/dataset/refined_interactions_20200612.csv\n",
      "poc_data/refined_interactions_20200612.csv\n"
     ]
    }
   ],
   "source": [
    "# File upload에 몇분 소요 (600MB)\n",
    "interaction_object_key = \"refined_interactions_\" + WORK_DATE + \".csv\"\n",
    "df[[\"USER_ID\",\"ITEM_ID\",\"TIMESTAMP\",\"EVENT_TYPE\"]].to_csv(data_dir + \"/\" + interaction_object_key,index=False)\n",
    "\n",
    "target=KEY_PREFIX+\"/\"+DATA_PREFIX+\"/\"+interaction_object_key\n",
    "source=data_dir + \"/\" + interaction_object_key\n",
    "print(target)\n",
    "print(source)\n",
    "boto3.Session().resource('s3').Bucket(DATA_BUCKET_NAME).Object(target).upload_file(source)\n"
   ]
  },
  {
   "cell_type": "markdown",
   "metadata": {},
   "source": [
    "## 스키마 생성\n",
    "\n",
    "Personalize가 데이터를 이해하는 방법의 핵심 구성 요소는 아래 정의 된 스키마(schema)에서 비롯됩니다. 이 설정은 CSV 파일을 통해 제공된 데이터를 요약하는 방법을 Personalize 서비스에 알려줍니다. 열(column)과 유형(type)은 위에서 만든 파일의 내용과 일치합니다."
   ]
  },
  {
   "cell_type": "code",
   "execution_count": 61,
   "metadata": {},
   "outputs": [],
   "source": [
    "interaction_schema_name=SCHEMA_NAME_INTERACTION"
   ]
  },
  {
   "cell_type": "code",
   "execution_count": 63,
   "metadata": {},
   "outputs": [
    {
     "name": "stdout",
     "output_type": "stream",
     "text": [
      "{\n",
      "  \"schemaArn\": \"arn:aws:personalize:ap-northeast-2:870180618679:schema/20200612-schema-interactions\",\n",
      "  \"ResponseMetadata\": {\n",
      "    \"RequestId\": \"cc0ea20c-bd1c-4e97-ad20-6855784ec04d\",\n",
      "    \"HTTPStatusCode\": 200,\n",
      "    \"HTTPHeaders\": {\n",
      "      \"content-type\": \"application/x-amz-json-1.1\",\n",
      "      \"date\": \"Mon, 15 Jun 2020 05:31:12 GMT\",\n",
      "      \"x-amzn-requestid\": \"cc0ea20c-bd1c-4e97-ad20-6855784ec04d\",\n",
      "      \"content-length\": \"99\",\n",
      "      \"connection\": \"keep-alive\"\n",
      "    },\n",
      "    \"RetryAttempts\": 0\n",
      "  }\n",
      "}\n"
     ]
    }
   ],
   "source": [
    "schema = {\n",
    "    \"type\": \"record\",\n",
    "    \"name\": \"Interactions\",\n",
    "    \"namespace\": \"com.amazonaws.personalize.schema\",\n",
    "    \"fields\": [\n",
    "        {\n",
    "            \"name\": \"USER_ID\",\n",
    "            \"type\": \"string\"\n",
    "        },\n",
    "        {\n",
    "            \"name\": \"ITEM_ID\",\n",
    "            \"type\": \"string\"\n",
    "        },\n",
    "       \n",
    "        {\n",
    "            \"name\": \"TIMESTAMP\",\n",
    "            \"type\": \"long\"\n",
    "        },\n",
    "        { \n",
    "            \"name\": \"EVENT_TYPE\",\n",
    "            \"type\": \"string\"\n",
    "        },\n",
    "    ],\n",
    "    \"version\": \"1.0\"\n",
    "}\n",
    "\n",
    "\n",
    "create_schema_response = personalize.create_schema(\n",
    "    name = interaction_schema_name,\n",
    "    schema = json.dumps(schema)\n",
    ")\n",
    "\n",
    "interaction_schema_arn = create_schema_response['schemaArn']\n",
    "print(json.dumps(create_schema_response, indent=2))"
   ]
  },
  {
   "cell_type": "code",
   "execution_count": 64,
   "metadata": {},
   "outputs": [],
   "source": [
    "#item_schema_name=\"DEMO-item-schema-\"+suffix"
   ]
  },
  {
   "cell_type": "code",
   "execution_count": 65,
   "metadata": {},
   "outputs": [
    {
     "data": {
      "text/plain": [
       "'\\nitem_schema = {\\n    \"type\": \"record\",\\n    \"name\": \"Items\",\\n    \"namespace\": \"com.amazonaws.personalize.schema\",\\n    \"fields\": [\\n    {\\n        \"name\": \"ITEM_ID\",\\n        \"type\": \"string\"\\n    },\\n    {\\n        \"name\": \"GENRE\",\\n        \"type\": \"string\",\\n        \"categorical\": True\\n    }\\n    ],\\n    \"version\": \"1.0\"\\n}\\n\\ncreate_metadata_schema_response = personalize.create_schema(\\n    name = item_schema_name,\\n    schema = json.dumps(item_schema)\\n)\\n\\nitem_schema_arn = create_metadata_schema_response[\\'schemaArn\\']\\nprint(json.dumps(create_metadata_schema_response, indent=2))\\n'"
      ]
     },
     "execution_count": 65,
     "metadata": {},
     "output_type": "execute_result"
    }
   ],
   "source": [
    "'''\n",
    "item_schema = {\n",
    "    \"type\": \"record\",\n",
    "    \"name\": \"Items\",\n",
    "    \"namespace\": \"com.amazonaws.personalize.schema\",\n",
    "    \"fields\": [\n",
    "    {\n",
    "        \"name\": \"ITEM_ID\",\n",
    "        \"type\": \"string\"\n",
    "    },\n",
    "    {\n",
    "        \"name\": \"GENRE\",\n",
    "        \"type\": \"string\",\n",
    "        \"categorical\": True\n",
    "    }\n",
    "    ],\n",
    "    \"version\": \"1.0\"\n",
    "}\n",
    "\n",
    "create_metadata_schema_response = personalize.create_schema(\n",
    "    name = item_schema_name,\n",
    "    schema = json.dumps(item_schema)\n",
    ")\n",
    "\n",
    "item_schema_arn = create_metadata_schema_response['schemaArn']\n",
    "print(json.dumps(create_metadata_schema_response, indent=2))\n",
    "'''"
   ]
  },
  {
   "cell_type": "markdown",
   "metadata": {},
   "source": [
    "## 데이터 세트 그룹 생성 및 대기\n",
    "\n",
    "Personalize에서 가장 큰 단위는 **데이터 세트 그룹(Dataset Group)** 이며, 이렇게 하면 데이터, 이벤트 추적기(event tracker), 솔루션(solution) 및 캠페인(campaign)이 분리됩니다. 공통의 데이터 수집을 공유하는 것들을 그룹화합니다. 원하는 경우 아래 그룹명을 자유롭게 변경해 주세요."
   ]
  },
  {
   "cell_type": "markdown",
   "metadata": {},
   "source": [
    "### 데이터 세트 그룹 생성"
   ]
  },
  {
   "cell_type": "code",
   "execution_count": 66,
   "metadata": {},
   "outputs": [
    {
     "name": "stdout",
     "output_type": "stream",
     "text": [
      "{\n",
      "  \"datasetGroupArn\": \"arn:aws:personalize:ap-northeast-2:870180618679:dataset-group/20200612-dataset-group\",\n",
      "  \"ResponseMetadata\": {\n",
      "    \"RequestId\": \"260dbafa-ccd7-45f5-b10a-1652244b904b\",\n",
      "    \"HTTPStatusCode\": 200,\n",
      "    \"HTTPHeaders\": {\n",
      "      \"content-type\": \"application/x-amz-json-1.1\",\n",
      "      \"date\": \"Mon, 15 Jun 2020 05:31:15 GMT\",\n",
      "      \"x-amzn-requestid\": \"260dbafa-ccd7-45f5-b10a-1652244b904b\",\n",
      "      \"content-length\": \"106\",\n",
      "      \"connection\": \"keep-alive\"\n",
      "    },\n",
      "    \"RetryAttempts\": 0\n",
      "  }\n",
      "}\n"
     ]
    }
   ],
   "source": [
    "create_dataset_group_response = personalize.create_dataset_group(\n",
    "    name = DATA_SET_GROUP_NAME\n",
    ")\n",
    "\n",
    "dataset_group_arn = create_dataset_group_response['datasetGroupArn']\n",
    "print(json.dumps(create_dataset_group_response, indent=2))"
   ]
  },
  {
   "cell_type": "markdown",
   "metadata": {},
   "source": [
    "#### 데이터 세트 그룹이 활성화 상태가 될 때까지 대기\n",
    "\n",
    "아래의 모든 항목에서 Dataset Group을 사용하려면 활성화(active)가 되어야 합니다. 아래 셀을 실행하고 DatasetGroup: ACTIVE로 변경될 때까지 기다려 주세요."
   ]
  },
  {
   "cell_type": "code",
   "execution_count": 67,
   "metadata": {},
   "outputs": [
    {
     "name": "stdout",
     "output_type": "stream",
     "text": [
      "DatasetGroup: CREATE PENDING\n",
      "DatasetGroup: CREATE PENDING\n",
      "DatasetGroup: ACTIVE\n"
     ]
    }
   ],
   "source": [
    "max_time = time.time() + 3*60*60 # 3 hours\n",
    "while time.time() < max_time:\n",
    "    describe_dataset_group_response = personalize.describe_dataset_group(\n",
    "        datasetGroupArn = dataset_group_arn\n",
    "    )\n",
    "    status = describe_dataset_group_response[\"datasetGroup\"][\"status\"]\n",
    "    print(\"DatasetGroup: {}\".format(status))\n",
    "    \n",
    "    if status == \"ACTIVE\" or status == \"CREATE FAILED\":\n",
    "        break\n",
    "        \n",
    "    time.sleep(15)"
   ]
  },
  {
   "cell_type": "markdown",
   "metadata": {},
   "source": [
    "### 데이터 세트 생성\n",
    "\n",
    "그룹 다음으로 생성할 것은 실제 데이터 세트입니다. 아래의 코드 셀을 실행하여 데이터 세트을 생성해 주세요."
   ]
  },
  {
   "cell_type": "markdown",
   "metadata": {},
   "source": [
    "### Interaction 데이터 세트 생성"
   ]
  },
  {
   "cell_type": "code",
   "execution_count": 68,
   "metadata": {},
   "outputs": [
    {
     "name": "stdout",
     "output_type": "stream",
     "text": [
      "{\n",
      "  \"datasetArn\": \"arn:aws:personalize:ap-northeast-2:870180618679:dataset/20200612-dataset-group/INTERACTIONS\",\n",
      "  \"ResponseMetadata\": {\n",
      "    \"RequestId\": \"c7a7da07-1559-46ca-b059-07fad3630083\",\n",
      "    \"HTTPStatusCode\": 200,\n",
      "    \"HTTPHeaders\": {\n",
      "      \"content-type\": \"application/x-amz-json-1.1\",\n",
      "      \"date\": \"Mon, 15 Jun 2020 05:52:39 GMT\",\n",
      "      \"x-amzn-requestid\": \"c7a7da07-1559-46ca-b059-07fad3630083\",\n",
      "      \"content-length\": \"108\",\n",
      "      \"connection\": \"keep-alive\"\n",
      "    },\n",
      "    \"RetryAttempts\": 0\n",
      "  }\n",
      "}\n"
     ]
    }
   ],
   "source": [
    "dataset_type = \"INTERACTIONS\"\n",
    "create_dataset_response = personalize.create_dataset(\n",
    "    name = DATASET_NAME_INTERACTION,\n",
    "    datasetType = dataset_type,\n",
    "    datasetGroupArn = dataset_group_arn,\n",
    "    schemaArn = interaction_schema_arn\n",
    ")\n",
    "\n",
    "interaction_dataset_arn = create_dataset_response['datasetArn']\n",
    "print(json.dumps(create_dataset_response, indent=2))"
   ]
  },
  {
   "cell_type": "markdown",
   "metadata": {},
   "source": [
    "###  ITEM 데이터 세트 생성 "
   ]
  },
  {
   "cell_type": "markdown",
   "metadata": {},
   "source": [
    "### S3 버킷에 정책 부여\n",
    "\n",
    "Amazon Personalize는 앞서 생성한 S3 버킷의 내용을 읽을 수 있어야 합니다. 아래 코드 셀로 S3 버킷 접근 정책(policy)을 부여합니다."
   ]
  },
  {
   "cell_type": "code",
   "execution_count": 73,
   "metadata": {},
   "outputs": [
    {
     "data": {
      "text/plain": [
       "{'ResponseMetadata': {'RequestId': '8A432FC717C650DB',\n",
       "  'HostId': 'PfMwvTJbkzqR3Exd52Wl4SN5FRHYhrNF6e4ZT6L9Yas1kUs33MQbnWHTsHgLRA4Hrd4mvJ5X+gw=',\n",
       "  'HTTPStatusCode': 204,\n",
       "  'HTTPHeaders': {'x-amz-id-2': 'PfMwvTJbkzqR3Exd52Wl4SN5FRHYhrNF6e4ZT6L9Yas1kUs33MQbnWHTsHgLRA4Hrd4mvJ5X+gw=',\n",
       "   'x-amz-request-id': '8A432FC717C650DB',\n",
       "   'date': 'Mon, 15 Jun 2020 05:54:08 GMT',\n",
       "   'server': 'AmazonS3'},\n",
       "  'RetryAttempts': 0}}"
      ]
     },
     "execution_count": 73,
     "metadata": {},
     "output_type": "execute_result"
    }
   ],
   "source": [
    "s3 = boto3.client(\"s3\")\n",
    "\n",
    "policy = {\n",
    "    \"Version\": \"2012-10-17\",\n",
    "    \"Id\": \"PersonalizeS3BucketAccessPolicy\",\n",
    "    \"Statement\": [\n",
    "        {\n",
    "            \"Sid\": \"PersonalizeS3BucketAccessPolicy\",\n",
    "            \"Effect\": \"Allow\",\n",
    "            \"Principal\": {\n",
    "                \"Service\": \"personalize.amazonaws.com\"\n",
    "            },\n",
    "            \"Action\": [\n",
    "                \"s3:*Object\",\n",
    "                \"s3:ListBucket\",\n",
    "            ],\n",
    "            \"Resource\": [\n",
    "                \"arn:aws:s3:::{}\".format(bucket),\n",
    "                \"arn:aws:s3:::{}/*\".format(bucket)\n",
    "            ]\n",
    "        }\n",
    "    ]\n",
    "}\n",
    "\n",
    "s3.put_bucket_policy(Bucket=DATA_BUCKET_NAME, Policy=json.dumps(policy))"
   ]
  },
  {
   "cell_type": "markdown",
   "metadata": {},
   "source": [
    "### Personalize IAM Role 생성\n",
    "\n",
    "또한, Amazon Personalize는 특정 작업들을 실행할 권한을 갖기 위해, AWS에서 역할을 맡을 수 있는 기능이 필요합니다. "
   ]
  },
  {
   "cell_type": "code",
   "execution_count": 79,
   "metadata": {},
   "outputs": [
    {
     "name": "stdout",
     "output_type": "stream",
     "text": [
      "arn:aws:iam::870180618679:role/Kurly-PersonalizeRetailRole-0612\n"
     ]
    }
   ],
   "source": [
    "iam = boto3.client(\"iam\")\n",
    "\n",
    "role_name = ROLE_NAME\n",
    "assume_role_policy_document = {\n",
    "    \"Version\": \"2012-10-17\",\n",
    "    \"Statement\": [\n",
    "        {\n",
    "          \"Effect\": \"Allow\",\n",
    "          \"Principal\": {\n",
    "            \"Service\": \"personalize.amazonaws.com\"\n",
    "          },\n",
    "          \"Action\": \"sts:AssumeRole\"\n",
    "        }\n",
    "    ]\n",
    "}\n",
    "\n",
    "\n",
    "\n",
    "\n",
    "try:\n",
    "    create_role_response = iam.create_role(\n",
    "        RoleName = role_name,\n",
    "        AssumeRolePolicyDocument = json.dumps(assume_role_policy_document)\n",
    "    );\n",
    "\n",
    "    iam.attach_role_policy(\n",
    "        RoleName = role_name,\n",
    "        PolicyArn = \"arn:aws:iam::aws:policy/AmazonS3ReadOnlyAccess\"\n",
    "    );\n",
    "\n",
    "    role_arn = create_role_response[\"Role\"][\"Arn\"]\n",
    "except ClientError as e:\n",
    "    if e.response['Error']['Code'] == 'EntityAlreadyExists':\n",
    "        role_arn = iam.get_role(RoleName=role_name)['Role']['Arn']\n",
    "    else:\n",
    "        raise\n",
    "        \n",
    "\n",
    "# AmazonPersonalizeFullAccess provides access to any S3 bucket with a name that includes \"personalize\" or \"Personalize\" \n",
    "# if you would like to use a bucket with a different name, please consider creating and attaching a new policy\n",
    "# that provides read access to your bucket or attaching the AmazonS3ReadOnlyAccess policy to the role\n",
    "policy_arn = \"arn:aws:iam::aws:policy/service-role/AmazonPersonalizeFullAccess\"\n",
    "iam.attach_role_policy(\n",
    "    RoleName = role_name,\n",
    "    PolicyArn = policy_arn\n",
    ")\n",
    "\n",
    "# Now add S3 support\n",
    "iam.attach_role_policy(\n",
    "    RoleName=role_name,    \n",
    "    PolicyArn='arn:aws:iam::aws:policy/AmazonS3FullAccess'\n",
    ")\n",
    "time.sleep(60) # wait for a minute to allow IAM role policy attachment to propagate\n",
    "\n",
    "\n",
    "print(role_arn)"
   ]
  },
  {
   "cell_type": "markdown",
   "metadata": {},
   "source": [
    "### 데이터 세트 Import\n",
    "\n",
    "이전에는 정보를 저장하기 위해 데이터 세트 그룹 및 데이터 세트를 생성했으므로, \n",
    "이제는 모델 구축을 위해 S3에서 Amazon Personalize로 데이터를 로드하는 import job을 실행합니다.\n",
    "\n",
    "#### Interaction 데이터 세트 Import Job 생성"
   ]
  },
  {
   "cell_type": "code",
   "execution_count": 80,
   "metadata": {},
   "outputs": [
    {
     "name": "stdout",
     "output_type": "stream",
     "text": [
      "{\n",
      "  \"datasetImportJobArn\": \"arn:aws:personalize:ap-northeast-2:870180618679:dataset-import-job/kurly-interaction-dataset-import-20200612\",\n",
      "  \"ResponseMetadata\": {\n",
      "    \"RequestId\": \"cb814849-3b6b-4c50-950e-1ec7cbbc5ede\",\n",
      "    \"HTTPStatusCode\": 200,\n",
      "    \"HTTPHeaders\": {\n",
      "      \"content-type\": \"application/x-amz-json-1.1\",\n",
      "      \"date\": \"Mon, 15 Jun 2020 06:06:47 GMT\",\n",
      "      \"x-amzn-requestid\": \"cb814849-3b6b-4c50-950e-1ec7cbbc5ede\",\n",
      "      \"content-length\": \"134\",\n",
      "      \"connection\": \"keep-alive\"\n",
      "    },\n",
      "    \"RetryAttempts\": 0\n",
      "  }\n",
      "}\n"
     ]
    }
   ],
   "source": [
    "create_dataset_import_job_response = personalize.create_dataset_import_job(\n",
    "    jobName = \"kurly-interaction-dataset-import-\" + WORK_DATE,\n",
    "    datasetArn = interaction_dataset_arn,\n",
    "    dataSource = {\n",
    "        \"dataLocation\": \"s3://{}/{}\".format(DATA_BUCKET_NAME, KEY_PREFIX+\"/\"+DATA_PREFIX+\"/\"+interaction_object_key)\n",
    "    },\n",
    "    roleArn = role_arn\n",
    ")\n",
    "\n",
    "interation_dataset_import_job_arn = create_dataset_import_job_response['datasetImportJobArn']\n",
    "print(json.dumps(create_dataset_import_job_response, indent=2))"
   ]
  },
  {
   "cell_type": "code",
   "execution_count": 81,
   "metadata": {},
   "outputs": [
    {
     "name": "stdout",
     "output_type": "stream",
     "text": [
      "Stored 'BUCKET_NAME' (str)\n",
      "Stored 'DATA_BUCKET_NAME' (str)\n",
      "Stored 'dataset_group_arn' (str)\n",
      "Stored 'interaction_dataset_arn' (str)\n",
      "Stored 'interation_dataset_import_job_arn' (str)\n",
      "Stored 'role_name' (str)\n",
      "Stored 'role_arn' (str)\n"
     ]
    }
   ],
   "source": [
    "#store values 세션 끊길거 대비 \n",
    "%store BUCKET_NAME\n",
    "%store DATA_BUCKET_NAME\n",
    "%store dataset_group_arn\n",
    "%store interaction_dataset_arn\n",
    "%store interation_dataset_import_job_arn\n",
    "%store role_name\n",
    "%store role_arn"
   ]
  },
  {
   "cell_type": "markdown",
   "metadata": {},
   "source": [
    "#### 아이템 데이터 세트 Import Job 생성"
   ]
  },
  {
   "cell_type": "markdown",
   "metadata": {},
   "source": [
    "### 데이터 세트 Import job이 활성화 상태가 될 때까지 대기\n",
    "\n",
    "Import job이 완료되기까지 시간이 걸립니다. 아래 코드 셀의 출력 결과가 DatasetImportJob: ACTIVE가 될 때까지 기다려 주세요."
   ]
  },
  {
   "cell_type": "code",
   "execution_count": 82,
   "metadata": {},
   "outputs": [
    {
     "name": "stdout",
     "output_type": "stream",
     "text": [
      "DatasetImportJob: CREATE PENDING\n",
      "DatasetImportJob: CREATE IN_PROGRESS\n",
      "DatasetImportJob: CREATE IN_PROGRESS\n",
      "DatasetImportJob: CREATE IN_PROGRESS\n",
      "DatasetImportJob: CREATE IN_PROGRESS\n",
      "DatasetImportJob: CREATE IN_PROGRESS\n",
      "DatasetImportJob: CREATE IN_PROGRESS\n",
      "DatasetImportJob: CREATE IN_PROGRESS\n",
      "DatasetImportJob: CREATE IN_PROGRESS\n",
      "DatasetImportJob: CREATE IN_PROGRESS\n",
      "DatasetImportJob: CREATE IN_PROGRESS\n",
      "DatasetImportJob: CREATE IN_PROGRESS\n",
      "DatasetImportJob: CREATE IN_PROGRESS\n",
      "DatasetImportJob: CREATE IN_PROGRESS\n",
      "DatasetImportJob: CREATE IN_PROGRESS\n",
      "DatasetImportJob: CREATE IN_PROGRESS\n",
      "DatasetImportJob: ACTIVE\n",
      "CPU times: user 83.1 ms, sys: 13.2 ms, total: 96.3 ms\n",
      "Wall time: 16min 1s\n"
     ]
    }
   ],
   "source": [
    "%%time\n",
    "\n",
    "status = None\n",
    "max_time = time.time() + 3*60*60 # 3 hours\n",
    "while time.time() < max_time:\n",
    "    describe_dataset_import_job_response = personalize.describe_dataset_import_job(\n",
    "        datasetImportJobArn = interation_dataset_import_job_arn\n",
    "    )\n",
    "    \n",
    "    dataset_import_job = describe_dataset_import_job_response[\"datasetImportJob\"]\n",
    "    if \"latestDatasetImportJobRun\" not in dataset_import_job:\n",
    "        status = dataset_import_job[\"status\"]\n",
    "        print(\"DatasetImportJob: {}\".format(status))\n",
    "    else:\n",
    "        status = dataset_import_job[\"latestDatasetImportJobRun\"][\"status\"]\n",
    "        print(\"LatestDatasetImportJobRun: {}\".format(status))\n",
    "    \n",
    "    if status == \"ACTIVE\" or status == \"CREATE FAILED\":\n",
    "        break\n",
    "        \n",
    "    time.sleep(60)"
   ]
  },
  {
   "cell_type": "markdown",
   "metadata": {},
   "source": [
    "## 솔루션 생성 "
   ]
  },
  {
   "cell_type": "code",
   "execution_count": 83,
   "metadata": {},
   "outputs": [],
   "source": [
    " # Recipe 선택 \n",
    "hrnn_recipe_arn = \"arn:aws:personalize:::recipe/aws-hrnn\""
   ]
  },
  {
   "cell_type": "code",
   "execution_count": 84,
   "metadata": {},
   "outputs": [
    {
     "name": "stdout",
     "output_type": "stream",
     "text": [
      "{\n",
      "  \"solutionArn\": \"arn:aws:personalize:ap-northeast-2:870180618679:solution/Kurly-hrnn-20200612\",\n",
      "  \"ResponseMetadata\": {\n",
      "    \"RequestId\": \"93b47101-7bfb-48b0-83db-808196da65e8\",\n",
      "    \"HTTPStatusCode\": 200,\n",
      "    \"HTTPHeaders\": {\n",
      "      \"content-type\": \"application/x-amz-json-1.1\",\n",
      "      \"date\": \"Mon, 15 Jun 2020 06:22:48 GMT\",\n",
      "      \"x-amzn-requestid\": \"93b47101-7bfb-48b0-83db-808196da65e8\",\n",
      "      \"content-length\": \"94\",\n",
      "      \"connection\": \"keep-alive\"\n",
      "    },\n",
      "    \"RetryAttempts\": 0\n",
      "  }\n",
      "}\n"
     ]
    }
   ],
   "source": [
    "# Solution 생성 \n",
    "create_solution_response = personalize.create_solution(\n",
    "    name = \"Kurly-hrnn-\" + WORK_DATE,\n",
    "    datasetGroupArn = dataset_group_arn,\n",
    "    recipeArn = hrnn_recipe_arn,\n",
    ")\n",
    "\n",
    "hrnn_solution_arn = create_solution_response['solutionArn']\n",
    "print(json.dumps(create_solution_response, indent=2))"
   ]
  },
  {
   "cell_type": "code",
   "execution_count": 85,
   "metadata": {},
   "outputs": [
    {
     "name": "stdout",
     "output_type": "stream",
     "text": [
      "{\n",
      "  \"solutionVersionArn\": \"arn:aws:personalize:ap-northeast-2:870180618679:solution/Kurly-hrnn-20200612/0e31a272\",\n",
      "  \"ResponseMetadata\": {\n",
      "    \"RequestId\": \"7430eb85-36b4-47d0-b712-d3b74d1f6817\",\n",
      "    \"HTTPStatusCode\": 200,\n",
      "    \"HTTPHeaders\": {\n",
      "      \"content-type\": \"application/x-amz-json-1.1\",\n",
      "      \"date\": \"Mon, 15 Jun 2020 06:22:48 GMT\",\n",
      "      \"x-amzn-requestid\": \"7430eb85-36b4-47d0-b712-d3b74d1f6817\",\n",
      "      \"content-length\": \"110\",\n",
      "      \"connection\": \"keep-alive\"\n",
      "    },\n",
      "    \"RetryAttempts\": 0\n",
      "  }\n",
      "}\n"
     ]
    }
   ],
   "source": [
    "# 솔루션 버전 생성\n",
    "create_solution_version_response = personalize.create_solution_version(\n",
    "    solutionArn = hrnn_solution_arn\n",
    ")\n",
    "\n",
    "hrnn_solution_version_arn = create_solution_version_response['solutionVersionArn']\n",
    "print(json.dumps(create_solution_version_response, indent=2))"
   ]
  },
  {
   "cell_type": "code",
   "execution_count": 92,
   "metadata": {},
   "outputs": [
    {
     "name": "stdout",
     "output_type": "stream",
     "text": [
      "HRNN SolutionVersion: CREATE IN_PROGRESS\n",
      "HRNN SolutionVersion: CREATE IN_PROGRESS\n",
      "HRNN SolutionVersion: CREATE IN_PROGRESS\n",
      "HRNN SolutionVersion: CREATE IN_PROGRESS\n",
      "HRNN SolutionVersion: CREATE IN_PROGRESS\n",
      "HRNN SolutionVersion: CREATE IN_PROGRESS\n",
      "HRNN SolutionVersion: CREATE IN_PROGRESS\n",
      "HRNN SolutionVersion: CREATE IN_PROGRESS\n",
      "HRNN SolutionVersion: CREATE IN_PROGRESS\n",
      "HRNN SolutionVersion: CREATE IN_PROGRESS\n",
      "HRNN SolutionVersion: CREATE IN_PROGRESS\n",
      "HRNN SolutionVersion: CREATE IN_PROGRESS\n",
      "HRNN SolutionVersion: CREATE IN_PROGRESS\n",
      "HRNN SolutionVersion: CREATE IN_PROGRESS\n",
      "HRNN SolutionVersion: CREATE IN_PROGRESS\n",
      "HRNN SolutionVersion: CREATE IN_PROGRESS\n",
      "HRNN SolutionVersion: CREATE IN_PROGRESS\n",
      "HRNN SolutionVersion: CREATE IN_PROGRESS\n",
      "HRNN SolutionVersion: CREATE IN_PROGRESS\n",
      "HRNN SolutionVersion: CREATE IN_PROGRESS\n",
      "HRNN SolutionVersion: CREATE IN_PROGRESS\n",
      "HRNN SolutionVersion: CREATE IN_PROGRESS\n",
      "HRNN SolutionVersion: CREATE IN_PROGRESS\n",
      "HRNN SolutionVersion: CREATE IN_PROGRESS\n",
      "HRNN SolutionVersion: CREATE IN_PROGRESS\n",
      "HRNN SolutionVersion: CREATE IN_PROGRESS\n",
      "HRNN SolutionVersion: CREATE IN_PROGRESS\n",
      "HRNN SolutionVersion: CREATE IN_PROGRESS\n",
      "HRNN SolutionVersion: ACTIVE\n",
      "All solution creation completed\n",
      "CPU times: user 161 ms, sys: 21.6 ms, total: 183 ms\n",
      "Wall time: 28min 2s\n"
     ]
    }
   ],
   "source": [
    "%%time\n",
    "\n",
    "max_time = time.time() + 3*60*60 # 3 hours\n",
    "while time.time() < max_time:\n",
    "      \n",
    "    #hrnn status\n",
    "    describe_solution_version_response = personalize.describe_solution_version(\n",
    "        solutionVersionArn = hrnn_solution_version_arn\n",
    "    )  \n",
    "    status_hrnn = describe_solution_version_response[\"solutionVersion\"][\"status\"]\n",
    "    print(\"HRNN SolutionVersion: {}\".format(status_hrnn))\n",
    "       \n",
    "    if  (status_hrnn == \"ACTIVE\" or status_hrnn == \"CREATE FAILED\"):\n",
    "        break\n",
    " \n",
    "    time.sleep(60)\n",
    "\n",
    "print(\"All solution creation completed\")"
   ]
  },
  {
   "cell_type": "code",
   "execution_count": 93,
   "metadata": {},
   "outputs": [
    {
     "name": "stdout",
     "output_type": "stream",
     "text": [
      "Stored 'hrnn_solution_version_arn' (str)\n",
      "Stored 'hrnn_solution_arn' (str)\n"
     ]
    }
   ],
   "source": [
    "%store hrnn_solution_version_arn\n",
    "%store hrnn_solution_arn\n"
   ]
  },
  {
   "cell_type": "markdown",
   "metadata": {},
   "source": [
    "## 솔루션 평가하기 "
   ]
  },
  {
   "cell_type": "code",
   "execution_count": 94,
   "metadata": {},
   "outputs": [],
   "source": [
    "%store -r"
   ]
  },
  {
   "cell_type": "code",
   "execution_count": 95,
   "metadata": {},
   "outputs": [
    {
     "name": "stdout",
     "output_type": "stream",
     "text": [
      "{\n",
      "  \"solutionVersionArn\": \"arn:aws:personalize:ap-northeast-2:870180618679:solution/Kurly-hrnn-20200612/0e31a272\",\n",
      "  \"metrics\": {\n",
      "    \"coverage\": 0.746,\n",
      "    \"mean_reciprocal_rank_at_25\": 0.257,\n",
      "    \"normalized_discounted_cumulative_gain_at_10\": 0.2976,\n",
      "    \"normalized_discounted_cumulative_gain_at_25\": 0.3336,\n",
      "    \"normalized_discounted_cumulative_gain_at_5\": 0.2647,\n",
      "    \"precision_at_10\": 0.0595,\n",
      "    \"precision_at_25\": 0.033,\n",
      "    \"precision_at_5\": 0.0882\n",
      "  },\n",
      "  \"ResponseMetadata\": {\n",
      "    \"RequestId\": \"5c19a2c3-f82b-4d3e-939d-bbd50b126882\",\n",
      "    \"HTTPStatusCode\": 200,\n",
      "    \"HTTPHeaders\": {\n",
      "      \"content-type\": \"application/x-amz-json-1.1\",\n",
      "      \"date\": \"Mon, 15 Jun 2020 09:27:45 GMT\",\n",
      "      \"x-amzn-requestid\": \"5c19a2c3-f82b-4d3e-939d-bbd50b126882\",\n",
      "      \"content-length\": \"405\",\n",
      "      \"connection\": \"keep-alive\"\n",
      "    },\n",
      "    \"RetryAttempts\": 0\n",
      "  }\n",
      "}\n"
     ]
    }
   ],
   "source": [
    "get_solution_metrics_response = personalize.get_solution_metrics(\n",
    "    solutionVersionArn = hrnn_solution_version_arn\n",
    ")\n",
    "\n",
    "print(json.dumps(get_solution_metrics_response, indent=2))\n",
    "\n"
   ]
  },
  {
   "cell_type": "markdown",
   "metadata": {},
   "source": [
    "## Batch Inference"
   ]
  },
  {
   "cell_type": "code",
   "execution_count": null,
   "metadata": {},
   "outputs": [],
   "source": [
    "batch_target_users = df.USER_ID.unique()\n",
    "\n",
    "BATCH_TARGET_USERS_FILE= \"users_for_batch_\"+ WORK_DATE + \".json\"\n",
    "\n",
    "n = 0\n",
    "f = open(data_dir+\"/\"+BATCH_TARGET_USERS_FILE,\"w\")\n",
    "for user in batch_target_users:\n",
    "    f.write(\"{\\\"userId\\\":\\\"%s\\\"}\\n\" % user)\n",
    "    n = n + 1\n",
    "    #for the test\n",
    "    #if n> 100:\n",
    "    #    break\n",
    "    \n",
    "f.close()\n",
    "print(BATCH_TARGET_USERS_FILE)\n",
    "print(n)"
   ]
  },
  {
   "cell_type": "code",
   "execution_count": 5,
   "metadata": {},
   "outputs": [
    {
     "name": "stdout",
     "output_type": "stream",
     "text": [
      "s3://jihys-personal/kurly/batch/users_for_batch_20200612.json\n"
     ]
    }
   ],
   "source": [
    "# Upload files to S3\n",
    "S3_BATCH_FILE_PATH=KEY_PREFIX+\"/\"+\"batch\"+\"/\"\n",
    "\n",
    "boto3.Session().resource('s3').Bucket(DATA_BUCKET_NAME).Object(S3_BATCH_FILE_PATH+BATCH_TARGET_USERS_FILE).upload_file(data_dir+\"/\"+BATCH_TARGET_USERS_FILE)\n",
    "\n",
    "s3_input_path = \"s3://\" + DATA_BUCKET_NAME + \"/\"+S3_BATCH_FILE_PATH+BATCH_TARGET_USERS_FILE\n",
    "print(s3_input_path)"
   ]
  },
  {
   "cell_type": "code",
   "execution_count": 6,
   "metadata": {},
   "outputs": [
    {
     "name": "stdout",
     "output_type": "stream",
     "text": [
      "s3://jihys-personal/kurly/batch/\n"
     ]
    }
   ],
   "source": [
    "# Define the output path\n",
    "s3_output_path = \"s3://\" +DATA_BUCKET_NAME +\"/\"+S3_BATCH_FILE_PATH\n",
    "print(s3_output_path)"
   ]
  },
  {
   "cell_type": "code",
   "execution_count": 102,
   "metadata": {},
   "outputs": [],
   "source": [
    "batchInferenceJobArn = personalize.create_batch_inference_job (\n",
    "    solutionVersionArn = hrnn_solution_version_arn,\n",
    "    jobName = \"Kurly-Batch-Inference-Job-HRNN-\"+WORK_DATE+suffix,\n",
    "    roleArn = role_arn,\n",
    "    jobInput = \n",
    "     {\"s3DataSource\": {\"path\": s3_input_path}},\n",
    "    jobOutput = \n",
    "     {\"s3DataDestination\":{\"path\": s3_output_path}}\n",
    ")\n",
    "batchInferenceJobArn = batchInferenceJobArn['batchInferenceJobArn']"
   ]
  },
  {
   "cell_type": "code",
   "execution_count": 104,
   "metadata": {},
   "outputs": [
    {
     "name": "stdout",
     "output_type": "stream",
     "text": [
      "Import Started on:  01:08:05 PM\n",
      "DatasetInferenceJob: ACTIVE\n",
      "Import Completed on:  01:08:05 PM\n"
     ]
    }
   ],
   "source": [
    "current_time = datetime.now()\n",
    "print(\"Import Started on: \", current_time.strftime(\"%I:%M:%S %p\"))\n",
    "\n",
    "max_time = time.time() + 3*60*60 # 3 hours\n",
    "while time.time() < max_time:\n",
    "    describe_dataset_inference_job_response = personalize.describe_batch_inference_job(\n",
    "        batchInferenceJobArn = batchInferenceJobArn\n",
    "    )\n",
    "    status = describe_dataset_inference_job_response[\"batchInferenceJob\"]['status']\n",
    "    print(\"DatasetInferenceJob: {}\".format(status))\n",
    "    \n",
    "    if status == \"ACTIVE\" or status == \"CREATE FAILED\":\n",
    "        break\n",
    "        \n",
    "    time.sleep(60)\n",
    "    \n",
    "current_time = datetime.now()\n",
    "print(\"Import Completed on: \", current_time.strftime(\"%I:%M:%S %p\"))"
   ]
  },
  {
   "cell_type": "code",
   "execution_count": 8,
   "metadata": {},
   "outputs": [
    {
     "name": "stdout",
     "output_type": "stream",
     "text": [
      "kurly/batch/users_for_batch_20200612.json.out poc_data/users_for_batch_20200612.json.out\n"
     ]
    },
    {
     "ename": "FileNotFoundError",
     "evalue": "[Errno 2] No such file or directory: 'poc_datausers_for_batch_20200612.json.out'",
     "output_type": "error",
     "traceback": [
      "\u001b[0;31m---------------------------------------------------------------------------\u001b[0m",
      "\u001b[0;31mFileNotFoundError\u001b[0m                         Traceback (most recent call last)",
      "\u001b[0;32m<ipython-input-8-10e9e3065417>\u001b[0m in \u001b[0;36m<module>\u001b[0;34m()\u001b[0m\n\u001b[1;32m      7\u001b[0m \u001b[0mpd\u001b[0m\u001b[0;34m.\u001b[0m\u001b[0mset_option\u001b[0m\u001b[0;34m(\u001b[0m\u001b[0;34m'display.max_rows'\u001b[0m\u001b[0;34m,\u001b[0m \u001b[0;36m30\u001b[0m\u001b[0;34m)\u001b[0m\u001b[0;34m\u001b[0m\u001b[0m\n\u001b[1;32m      8\u001b[0m \u001b[0mcount\u001b[0m\u001b[0;34m=\u001b[0m\u001b[0;36m0\u001b[0m\u001b[0;34m\u001b[0m\u001b[0m\n\u001b[0;32m----> 9\u001b[0;31m \u001b[0;32mwith\u001b[0m \u001b[0mopen\u001b[0m\u001b[0;34m(\u001b[0m\u001b[0mdata_dir\u001b[0m\u001b[0;34m+\u001b[0m\u001b[0mexport_name\u001b[0m\u001b[0;34m)\u001b[0m \u001b[0;32mas\u001b[0m \u001b[0mjson_file\u001b[0m\u001b[0;34m:\u001b[0m\u001b[0;34m\u001b[0m\u001b[0m\n\u001b[0m\u001b[1;32m     10\u001b[0m     \u001b[0;31m# Get the first line and parse it\u001b[0m\u001b[0;34m\u001b[0m\u001b[0;34m\u001b[0m\u001b[0m\n\u001b[1;32m     11\u001b[0m     \u001b[0mline\u001b[0m \u001b[0;34m=\u001b[0m \u001b[0mjson\u001b[0m\u001b[0;34m.\u001b[0m\u001b[0mloads\u001b[0m\u001b[0;34m(\u001b[0m\u001b[0mjson_file\u001b[0m\u001b[0;34m.\u001b[0m\u001b[0mreadline\u001b[0m\u001b[0;34m(\u001b[0m\u001b[0;34m)\u001b[0m\u001b[0;34m)\u001b[0m\u001b[0;34m\u001b[0m\u001b[0m\n",
      "\u001b[0;31mFileNotFoundError\u001b[0m: [Errno 2] No such file or directory: 'poc_datausers_for_batch_20200612.json.out'"
     ]
    }
   ],
   "source": [
    "s3 = boto3.client('s3')\n",
    "export_name = BATCH_TARGET_USERS_FILE + \".out\"\n",
    "\n",
    "s3.download_file(DATA_BUCKET_NAME,S3_BATCH_FILE_PATH+export_name,data_dir+\"/\"+export_name)\n",
    "print(S3_BATCH_FILE_PATH+export_name,data_dir+\"/\"+export_name)\n",
    "# Update DF rendering\n",
    "pd.set_option('display.max_rows', 30)\n",
    "count=0\n",
    "with open(data_dir+export_name) as json_file:\n",
    "    # Get the first line and parse it\n",
    "    line = json.loads(json_file.readline())\n",
    "    # Do the same for the other lines\n",
    "    while line:\n",
    "        # extract the user ID \n",
    "        col_header = \"User: \" + line['input']['userId']\n",
    "        # Create a list for all the artists\n",
    "        recommendation_list = []\n",
    "        # Add all the entries\n",
    "        for item in line['output']['recommendedItems']:\n",
    "            #title = get_movie_title(item)\n",
    "            #recommendation_list.append(title)\n",
    "            recommendation_list.append(item)\n",
    "        if count>0:\n",
    "            new_rec_DF = pd.DataFrame(recommendation_list, columns = [col_header])\n",
    "            batch_recommendations_df = batch_recommendations_df.join(new_rec_DF)\n",
    "            count+=1\n",
    "        else:\n",
    "            batch_recommendations_df = pd.DataFrame(recommendation_list, columns=[col_header])\n",
    "            count+=1\n",
    "        try:\n",
    "            line = json.loads(json_file.readline())\n",
    "        except:\n",
    "            line = None\n",
    "batch_recommendations_df\n",
    "print(count)"
   ]
  },
  {
   "cell_type": "code",
   "execution_count": 19,
   "metadata": {},
   "outputs": [
    {
     "name": "stdout",
     "output_type": "stream",
     "text": [
      "Found records: 1593566 1593566\n",
      "dup:    218593, unique:   1374973\n",
      "\n",
      "{'count': 4297, 'keys': '1003887'} 35,378,320,421,212,800,140,230,508,16,654,32,596,871,601,196,384,201,783,194,236,545,1253,318,232\n",
      "{'count': 2621, 'keys': '1144243'} 508,92,212,35,230,574,384,800,421,871,596,1541,62,570,534,140,236,5,751,301,3090,432,1225,318,747\n",
      "{'count': 1806, 'keys': '1018703'} 411,474,983,1219,1630,1212,35,292,230,212,286,800,196,136,508,421,358,871,1182,534,574,140,135,843,1541\n",
      "{'count': 1783, 'keys': '1030897'} 212,230,800,508,35,2114,421,626,384,140,751,871,747,194,596,196,301,574,236,601,16,32,318,534,2319\n",
      "{'count': 1681, 'keys': '1003582'} 421,37,35,230,212,800,140,601,508,2319,190,677,32,384,16,574,348,751,747,318,871,196,236,301,596\n",
      "{'count': 1535, 'keys': '1037193'} 800,751,212,230,35,508,301,384,421,596,747,574,871,140,127,2319,534,236,190,196,194,16,2114,62,32\n",
      "{'count': 1533, 'keys': '1072304'} 384,230,386,212,35,800,421,3253,508,407,574,751,2678,32,33,1193,2319,2114,292,974,272,92,1487,843,5\n",
      "{'count': 1303, 'keys': '1038566'} 32,17,140,497,35,451,421,212,230,196,384,751,2058,800,843,495,570,2114,701,236,508,411,16,292,596\n",
      "{'count': 1267, 'keys': '1091856'} 230,212,35,800,421,751,508,1339,534,384,2114,574,196,596,2679,871,140,301,236,318,601,411,2319,747,451\n",
      "{'count': 1241, 'keys': '1012884'} 983,1219,1212,474,411,1630,358,1796,35,292,286,782,230,781,212,1417,800,196,421,508,574,32,871,140,451\n",
      "{'count': 1213, 'keys': '1153658'} 92,508,1541,2007,35,751,570,310,2114,212,616,800,1033,230,421,1012,7477,5,534,786,432,1970,871,384,701\n",
      "{'count': 1195, 'keys': '1082757'} 4202,843,574,35,384,212,32,230,1578,16,905,1198,421,4513,800,1852,751,1956,776,1640,136,1864,1602,1300,196\n"
     ]
    }
   ],
   "source": [
    "\n",
    "def read_batch_result(filename, key_name):\n",
    "    result = {}\n",
    "    fp = open(filename)\n",
    "    reader = jsonlines.Reader(fp)\n",
    "    count = 0\n",
    "    for record in reader:\n",
    "        result[record[\"input\"][key_name]] = str.join(\",\",record[\"output\"][\"recommendedItems\"])\n",
    "        count += 1\n",
    "    reader.close()\n",
    "    fp.close()\n",
    "    \n",
    "    print(\"Found records:\", count, len(result))\n",
    "    return result\n",
    "\n",
    "def unique_count(result):\n",
    "    recommend_keys = {}\n",
    "    \n",
    "    duplicate_cnt = 0\n",
    "    unique_cnt = 0\n",
    "    for k in result:\n",
    "        key = result[k]\n",
    "        \n",
    "        if key not in recommend_keys:\n",
    "            unique_cnt += 1            \n",
    "            recommend_keys[key] = { \"count\": 1, \"keys\": k }\n",
    "        else:\n",
    "            recommend_keys[key][\"count\"] = recommend_keys[key][\"count\"] + 1\n",
    "            #recommend_keys[key][\"keys\"] = recommend_keys[key][\"keys\"] + \",\" + k\n",
    "            duplicate_cnt += 1\n",
    "        #print(f'dup:%10d, unique:%10d, %s is processing…\\r' % (duplicate_cnt, unique_cnt, k), end=\"\")\n",
    "\n",
    "    return recommend_keys, unique_cnt, duplicate_cnt\n",
    "\n",
    "hrnn_result = read_batch_result(\"poc_data/\"+\"users_for_batch_20200612.json.out\", \"userId\")\n",
    "recommend_keys, unique_cnt, duplicate_cnt = unique_count(hrnn_result)\n",
    "\n",
    "print(f'dup:%10d, unique:%10d\\n' % (duplicate_cnt, unique_cnt))\n",
    "cnt = 10\n",
    "for i in sorted(recommend_keys, key=lambda x: (recommend_keys[x]['count']), reverse=True):\n",
    "    print(recommend_keys[i], i)\n",
    "    if cnt < 0: \n",
    "        break\n",
    "    cnt -=1"
   ]
  },
  {
   "cell_type": "code",
   "execution_count": null,
   "metadata": {},
   "outputs": [],
   "source": [
    "%store batchInferenceJobArn"
   ]
  },
  {
   "cell_type": "markdown",
   "metadata": {},
   "source": [
    "## 캠페인 생성하기 "
   ]
  },
  {
   "cell_type": "code",
   "execution_count": null,
   "metadata": {},
   "outputs": [],
   "source": [
    "'''\n",
    "create_campaign_response = personalize.create_campaign(\n",
    "    name = \"Kurly-hrnn-campaign-\" + WORK_DATE,\n",
    "    solutionVersionArn = hrnn_solution_version_arn,\n",
    "    minProvisionedTPS = 1\n",
    ")\n",
    "\n",
    "hrnn_campaign_arn = create_campaign_response['campaignArn']\n",
    "print(json.dumps(create_campaign_response, indent=2))\n",
    "'''"
   ]
  },
  {
   "cell_type": "code",
   "execution_count": null,
   "metadata": {},
   "outputs": [],
   "source": [
    "'''\n",
    "user_id= test_user_id\n",
    "get_recommendations_response = personalize_runtime.get_recommendations(\n",
    "    campaignArn = hrnn_campaign_arn,\n",
    "    userId = str(user_id),\n",
    ")\n",
    "# Update DF rendering\n",
    "pd.set_option('display.max_rows', 30)\n",
    "\n",
    "print(\"Recommendations for user: \", user_id)\n",
    "\n",
    "item_list = get_recommendations_response['itemList']\n",
    "\n",
    "recommendation_title_list = []\n",
    "recommendation_id_list=[]\n",
    "for item in item_list:\n",
    "    recommendation_title_list.append(title)\n",
    "    recommendation_id_list.append(item['itemId'])\n",
    "recommendations_df = pd.DataFrame(recommendation_title_list, columns = ['OriginalRecs'])\n",
    "recommendations_df\n",
    "'''"
   ]
  },
  {
   "cell_type": "code",
   "execution_count": null,
   "metadata": {},
   "outputs": [],
   "source": [
    "%store hrnn_campaign_arn\n"
   ]
  }
 ],
 "metadata": {
  "kernelspec": {
   "display_name": "conda_python3",
   "language": "python",
   "name": "conda_python3"
  },
  "language_info": {
   "codemirror_mode": {
    "name": "ipython",
    "version": 3
   },
   "file_extension": ".py",
   "mimetype": "text/x-python",
   "name": "python",
   "nbconvert_exporter": "python",
   "pygments_lexer": "ipython3",
   "version": "3.6.5"
  }
 },
 "nbformat": 4,
 "nbformat_minor": 4
}
