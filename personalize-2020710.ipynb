{
 "cells": [
  {
   "cell_type": "markdown",
   "metadata": {},
   "source": [
    "# Module 1. Personalize User-Item Interaction Data 준비 및 환경 설정\n"
   ]
  },
  {
   "cell_type": "markdown",
   "metadata": {},
   "source": [
    "## Library Import \n",
    "\n",
    "파이썬에는 광범위한 라이브러리 모음이 포함되어 있으며, 본 LAB을 위해서 핵심 Data Scientist용 Tool 인 boto3 (AWS SDK) 및 Pandas/Numpy와 같은 라이브러리를 가져와야 합니다. "
   ]
  },
  {
   "cell_type": "code",
   "execution_count": 1,
   "metadata": {},
   "outputs": [],
   "source": [
    "# Imports\n",
    "#!pip install jsonlines\n",
    "#from codes import lambda_personalize\n",
    "import boto3\n",
    "import json\n",
    "import numpy as np\n",
    "import pandas as pd\n",
    "import time\n",
    "import jsonlines\n",
    "import os\n",
    "\n",
    "from datetime import datetime\n",
    "import sagemaker\n",
    "import time\n",
    "import warnings\n",
    "\n",
    "import matplotlib.pyplot as plt\n",
    "from matplotlib.dates import DateFormatter\n",
    "import matplotlib.dates as mdate\n",
    "from botocore.exceptions import ClientError"
   ]
  },
  {
   "cell_type": "markdown",
   "metadata": {},
   "source": [
    "다음으로 여러분의 환경이 Amazon Personalize와 성공적으로 통신할 수 있는지 확인해야 합니다."
   ]
  },
  {
   "cell_type": "code",
   "execution_count": 2,
   "metadata": {},
   "outputs": [],
   "source": [
    "# Configure the SDK to Personalize:\n",
    "personalize = boto3.client('personalize')\n",
    "personalize_runtime = boto3.client('personalize-runtime')\n",
    "s3 = boto3.resource('s3')"
   ]
  },
  {
   "cell_type": "markdown",
   "metadata": {},
   "source": [
    "생성할 오브젝트의 끝에 임의의 숫자를 부여하기 위해 suffix 정의"
   ]
  },
  {
   "cell_type": "code",
   "execution_count": 3,
   "metadata": {},
   "outputs": [],
   "source": [
    "# If you don't need profile, set USER_PROFILE=\"\"\n",
    "PROFILE_NAME=\"Customer\"\n",
    "\n",
    "\n",
    "WORK_DATE=\"20200710\"\n",
    "WORK_DATE_PATH=\"2020/07/10\"\n",
    "\n",
    "data_dir = \"poc_data\"\n",
    "account_id = \"870180618679\"\n",
    "\n",
    "#INTERACTION_FILE=\"interactions_\" + WORK_DATE +\".csv\"\n",
    "#INTERACTION_FILE_1=\"46b9579b-f217-4cb9-92cc-83cb9a0b0d0d.csv\"\n",
    "\n",
    "BUCKET_NAME = \"customer-poc\"\n",
    "KEY_PREFIX = \"hrnn-meta01\"\n",
    "\n",
    "PREFIX=WORK_DATE\n",
    "\n",
    "INTERACTION_FILE=\"event/61bafa78-d05f-495a-b711-a9d517ed051a.csv\"\n",
    "USER_FILE=\"user/85c22025-c19f-4624-b6c1-bdbd6509f4b3.csv\"\n",
    "ITEM_FILE=\"item/018b720a-f8a1-4904-be7f-4c1334ad4bae.csv\"\n",
    "\n",
    "\n",
    "DATA_BUCKET_NAME = \"customer-poc\"\n",
    "bucket=DATA_BUCKET_NAME \n",
    "#bucket_name = DATA_BUCKET_NAME\n",
    "ROLE_NAME = \"Customer-PersonalizeRetailRole-0612\"\n",
    "DATA_PREFIX = \"dataset\"\n",
    "BATCH_PREFIX= \"batch\"\n",
    "#INTERACTIONS=\"interaction_\" + WORK_DATE + \".csv\"\n",
    "#MEMBERS=\"member_\" + WORK_DATE + \".csv\"\n",
    "#PRODUCTS=\"product_\" + WORK_DATE + \".csv\"\n",
    "\n",
    "DATA_SET_GROUP_NAME= WORK_DATE+ \"-dataset-group\"\n",
    "SCHEMA_NAME_INTERACTION= WORK_DATE+ \"-schema-interactions\"\n",
    "#SCHEMA_NAME_USERS= PREFIX + \"-schema-users\"\n",
    "#SCHEMA_NAME_ITEMS= PREFIX + \"-schema-items\"\n",
    "\n",
    "DATASET_NAME_INTERACTION=\"customer-dataset-interactions\"\n",
    "DATASET_NAME_USERS=\"customer-dataset-users\"\n",
    "DATASET_NAME_ITEMS=\"kurly-dataset-items\"\n",
    "\n",
    "suffix = str(np.random.uniform())[4:9]\n",
    "\n",
    "BATCH_TARGET_USERS_FILE= \"users_for_batch_\"+ WORK_DATE + \".json\"\n"
   ]
  },
  {
   "cell_type": "markdown",
   "metadata": {},
   "source": [
    "## Interaction Data 다운로드 "
   ]
  },
  {
   "cell_type": "code",
   "execution_count": 4,
   "metadata": {},
   "outputs": [
    {
     "name": "stdout",
     "output_type": "stream",
     "text": [
      "poc_data/20200710/event\n"
     ]
    }
   ],
   "source": [
    "target_file_path = data_dir+\"/\"+PREFIX+\"/\"+'event'\n",
    "os.makedirs(target_file_path,exist_ok=True)\n",
    "print(target_file_path)\n",
    "source_file = KEY_PREFIX +\"/\"+PREFIX+\"/\"+INTERACTION_FILE\n",
    "target_file = data_dir+\"/\"+PREFIX+\"/\"+INTERACTION_FILE\n",
    "\n",
    "#s3.Bucket(BUCKET_NAME).download_file('kurly/data03/user+identifier/2020/06/12/46b9579b-f217-4cb9-92cc-83cb9a0b0d0d.csv', target_file_path)\n",
    "s3.Bucket(BUCKET_NAME).download_file(source_file, target_file)\n"
   ]
  },
  {
   "cell_type": "code",
   "execution_count": 5,
   "metadata": {},
   "outputs": [
    {
     "data": {
      "text/html": [
       "<div>\n",
       "<style scoped>\n",
       "    .dataframe tbody tr th:only-of-type {\n",
       "        vertical-align: middle;\n",
       "    }\n",
       "\n",
       "    .dataframe tbody tr th {\n",
       "        vertical-align: top;\n",
       "    }\n",
       "\n",
       "    .dataframe thead th {\n",
       "        text-align: right;\n",
       "    }\n",
       "</style>\n",
       "<table border=\"1\" class=\"dataframe\">\n",
       "  <thead>\n",
       "    <tr style=\"text-align: right;\">\n",
       "      <th></th>\n",
       "      <th>EVENT_TYPE</th>\n",
       "      <th>USER_ID</th>\n",
       "      <th>ITEM_ID</th>\n",
       "      <th>TIMESTAMP</th>\n",
       "    </tr>\n",
       "  </thead>\n",
       "  <tbody>\n",
       "    <tr>\n",
       "      <th>0</th>\n",
       "      <td>click</td>\n",
       "      <td>162509</td>\n",
       "      <td>37371.0</td>\n",
       "      <td>1.590775e+12</td>\n",
       "    </tr>\n",
       "    <tr>\n",
       "      <th>1</th>\n",
       "      <td>click</td>\n",
       "      <td>161673</td>\n",
       "      <td>7486.0</td>\n",
       "      <td>1.590774e+12</td>\n",
       "    </tr>\n",
       "    <tr>\n",
       "      <th>2</th>\n",
       "      <td>click</td>\n",
       "      <td>160726</td>\n",
       "      <td>31226.0</td>\n",
       "      <td>1.590772e+12</td>\n",
       "    </tr>\n",
       "    <tr>\n",
       "      <th>3</th>\n",
       "      <td>click</td>\n",
       "      <td>1189032</td>\n",
       "      <td>141.0</td>\n",
       "      <td>1.590772e+12</td>\n",
       "    </tr>\n",
       "    <tr>\n",
       "      <th>4</th>\n",
       "      <td>click</td>\n",
       "      <td>1201660</td>\n",
       "      <td>28628.0</td>\n",
       "      <td>1.590773e+12</td>\n",
       "    </tr>\n",
       "  </tbody>\n",
       "</table>\n",
       "</div>"
      ],
      "text/plain": [
       "  EVENT_TYPE  USER_ID  ITEM_ID     TIMESTAMP\n",
       "0      click   162509  37371.0  1.590775e+12\n",
       "1      click   161673   7486.0  1.590774e+12\n",
       "2      click   160726  31226.0  1.590772e+12\n",
       "3      click  1189032    141.0  1.590772e+12\n",
       "4      click  1201660  28628.0  1.590773e+12"
      ]
     },
     "execution_count": 5,
     "metadata": {},
     "output_type": "execute_result"
    }
   ],
   "source": [
    "#df_1=pd.read_csv('poc_data/46b9579b-f217-4cb9-92cc-83cb9a0b0d0d.csv')\n",
    "#df_2=pd.read_csv('poc_data/f1355121-d9fe-4aaa-b3df-37f35f344384.csv')\n",
    "\n",
    "df=pd.read_csv(target_file, usecols=['EVENT_TYPE','USER_ID','ITEM_ID','TIMESTAMP'])\n",
    "#print(df_1.head())\n",
    "#print(df_2.head())\n",
    "#df=pd.concat(df_1, df_2)\n",
    "#df.columns=['EVENT_TYPE','USER_ID','ITEM_ID','TIMESTAMP']\n",
    "df_origin=df\n",
    "df.head()\n"
   ]
  },
  {
   "cell_type": "code",
   "execution_count": 6,
   "metadata": {},
   "outputs": [
    {
     "data": {
      "text/plain": [
       "EVENT_TYPE     object\n",
       "USER_ID         int64\n",
       "ITEM_ID       float64\n",
       "TIMESTAMP     float64\n",
       "dtype: object"
      ]
     },
     "execution_count": 6,
     "metadata": {},
     "output_type": "execute_result"
    }
   ],
   "source": [
    "df=df_origin.copy()\n",
    "df.dtypes"
   ]
  },
  {
   "cell_type": "code",
   "execution_count": 7,
   "metadata": {},
   "outputs": [
    {
     "name": "stdout",
     "output_type": "stream",
     "text": [
      "<class 'pandas.core.frame.DataFrame'>\n",
      "RangeIndex: 60160726 entries, 0 to 60160725\n",
      "Data columns (total 4 columns):\n",
      "EVENT_TYPE    object\n",
      "USER_ID       int64\n",
      "ITEM_ID       float64\n",
      "TIMESTAMP     float64\n",
      "dtypes: float64(2), int64(1), object(1)\n",
      "memory usage: 1.8+ GB\n"
     ]
    }
   ],
   "source": [
    "df.info()"
   ]
  },
  {
   "cell_type": "markdown",
   "metadata": {},
   "source": [
    "### NULL DATA제거 "
   ]
  },
  {
   "cell_type": "code",
   "execution_count": 8,
   "metadata": {
    "scrolled": true
   },
   "outputs": [
    {
     "name": "stdout",
     "output_type": "stream",
     "text": [
      "# of rows of Null TimeStamp : 323054\n",
      "# of rows of Null Event Type : 0\n",
      "# of rows of Null User ID : 0\n",
      "# of rows of Null Item ID : 44\n"
     ]
    }
   ],
   "source": [
    "print(\"# of rows of Null TimeStamp : {}\".format(df['TIMESTAMP'].isnull().sum()))\n",
    "print(\"# of rows of Null Event Type : {}\".format(df['EVENT_TYPE'].isnull().sum()))\n",
    "print(\"# of rows of Null User ID : {}\".format(df['USER_ID'].isnull().sum()))\n",
    "print(\"# of rows of Null Item ID : {}\".format(df['ITEM_ID'].isnull().sum()))\n",
    "#df[df['TIMESTAMP'].isnull()]\n",
    "\n",
    "#########전체 INTERACTION 'null' 확인##########\n",
    "#row_has_NaN = is_NaN.any(axis=1)\n",
    "#rows_with_NaN = df[row_has_NaN]\n",
    "#print(rows_with_NaN)\n",
    "#len(rows_with_NaN)\n",
    "##############################################"
   ]
  },
  {
   "cell_type": "code",
   "execution_count": 9,
   "metadata": {},
   "outputs": [
    {
     "name": "stdout",
     "output_type": "stream",
     "text": [
      "<class 'pandas.core.frame.DataFrame'>\n",
      "Int64Index: 59837630 entries, 0 to 60160725\n",
      "Data columns (total 4 columns):\n",
      "EVENT_TYPE    object\n",
      "USER_ID       int64\n",
      "ITEM_ID       float64\n",
      "TIMESTAMP     float64\n",
      "dtypes: float64(2), int64(1), object(1)\n",
      "memory usage: 2.2+ GB\n"
     ]
    }
   ],
   "source": [
    "df=df.dropna()\n",
    "df.info()"
   ]
  },
  {
   "cell_type": "markdown",
   "metadata": {},
   "source": [
    "### 데이터 타입 확인 및 변경"
   ]
  },
  {
   "cell_type": "code",
   "execution_count": 10,
   "metadata": {},
   "outputs": [],
   "source": [
    "###Test Code to see timestamp format\n",
    "#arb_time_stamp = df.iloc[50]['TIMESTAMP']\n",
    "#print(arb_time_stamp)\n",
    "#print(datetime.utcfromtimestamp(arb_time_stamp).strftime('%Y-%m-%d %H:%M:%S'))\n"
   ]
  },
  {
   "cell_type": "code",
   "execution_count": 11,
   "metadata": {},
   "outputs": [
    {
     "name": "stdout",
     "output_type": "stream",
     "text": [
      "1589385199.831\n",
      "2020-05-13 15:53:19\n"
     ]
    }
   ],
   "source": [
    "df.TIMESTAMP  = df.TIMESTAMP / 1000\n",
    "arb_time_stamp = df.iloc[50]['TIMESTAMP']\n",
    "print(arb_time_stamp)\n",
    "print(datetime.utcfromtimestamp(arb_time_stamp).strftime('%Y-%m-%d %H:%M:%S'))"
   ]
  },
  {
   "cell_type": "code",
   "execution_count": 12,
   "metadata": {},
   "outputs": [
    {
     "name": "stdout",
     "output_type": "stream",
     "text": [
      "from 2020-04-21 04:39:00 to 2020-05-31 15:00:01\n"
     ]
    }
   ],
   "source": [
    "\n",
    "print(\"from\",datetime.utcfromtimestamp(df['TIMESTAMP'].min()).strftime('%Y-%m-%d %H:%M:%S'), \"to\", datetime.utcfromtimestamp(df['TIMESTAMP'].max()).strftime('%Y-%m-%d %H:%M:%S') )"
   ]
  },
  {
   "cell_type": "code",
   "execution_count": 14,
   "metadata": {},
   "outputs": [],
   "source": [
    "df.EVENT_TYPE = df.EVENT_TYPE .astype(str)\n",
    "df.ITEM_ID = df.ITEM_ID.astype(str)\n",
    "df.USER_ID = df.USER_ID.astype(str)\n",
    "df.TIMESTAMP=df.TIMESTAMP.astype('int64')"
   ]
  },
  {
   "cell_type": "code",
   "execution_count": 15,
   "metadata": {},
   "outputs": [],
   "source": [
    "#item,item_unique=pd.factorize(df['ITEM_ID'])\n",
    "#user,user_unique=pd.factorize(df['USER_ID'])\n",
    "#df['ITEM_ID']=item\n",
    "#df['USER_ID']=user"
   ]
  },
  {
   "cell_type": "code",
   "execution_count": 16,
   "metadata": {},
   "outputs": [
    {
     "data": {
      "text/html": [
       "<div>\n",
       "<style scoped>\n",
       "    .dataframe tbody tr th:only-of-type {\n",
       "        vertical-align: middle;\n",
       "    }\n",
       "\n",
       "    .dataframe tbody tr th {\n",
       "        vertical-align: top;\n",
       "    }\n",
       "\n",
       "    .dataframe thead th {\n",
       "        text-align: right;\n",
       "    }\n",
       "</style>\n",
       "<table border=\"1\" class=\"dataframe\">\n",
       "  <thead>\n",
       "    <tr style=\"text-align: right;\">\n",
       "      <th></th>\n",
       "      <th>EVENT_TYPE</th>\n",
       "      <th>USER_ID</th>\n",
       "      <th>ITEM_ID</th>\n",
       "      <th>TIMESTAMP</th>\n",
       "    </tr>\n",
       "  </thead>\n",
       "  <tbody>\n",
       "    <tr>\n",
       "      <th>60160721</th>\n",
       "      <td>click</td>\n",
       "      <td>495101</td>\n",
       "      <td>17480.0</td>\n",
       "      <td>1590149226</td>\n",
       "    </tr>\n",
       "    <tr>\n",
       "      <th>60160722</th>\n",
       "      <td>click</td>\n",
       "      <td>302238</td>\n",
       "      <td>35325.0</td>\n",
       "      <td>1590149226</td>\n",
       "    </tr>\n",
       "    <tr>\n",
       "      <th>60160723</th>\n",
       "      <td>click</td>\n",
       "      <td>491361</td>\n",
       "      <td>29240.0</td>\n",
       "      <td>1590149235</td>\n",
       "    </tr>\n",
       "    <tr>\n",
       "      <th>60160724</th>\n",
       "      <td>click</td>\n",
       "      <td>62776</td>\n",
       "      <td>33293.0</td>\n",
       "      <td>1590150628</td>\n",
       "    </tr>\n",
       "    <tr>\n",
       "      <th>60160725</th>\n",
       "      <td>order</td>\n",
       "      <td>63991</td>\n",
       "      <td>34291.0</td>\n",
       "      <td>1590150634</td>\n",
       "    </tr>\n",
       "  </tbody>\n",
       "</table>\n",
       "</div>"
      ],
      "text/plain": [
       "         EVENT_TYPE USER_ID  ITEM_ID   TIMESTAMP\n",
       "60160721      click  495101  17480.0  1590149226\n",
       "60160722      click  302238  35325.0  1590149226\n",
       "60160723      click  491361  29240.0  1590149235\n",
       "60160724      click   62776  33293.0  1590150628\n",
       "60160725      order   63991  34291.0  1590150634"
      ]
     },
     "execution_count": 16,
     "metadata": {},
     "output_type": "execute_result"
    }
   ],
   "source": [
    "df.tail()"
   ]
  },
  {
   "cell_type": "code",
   "execution_count": 17,
   "metadata": {},
   "outputs": [],
   "source": [
    "#item_unique=pd.DataFrame(item_unique,columns=['ITEM_ID'])\n",
    "#user_unique=pd.DataFrame(user_unique,columns=['USER_ID'])\n",
    "item_unique=df.ITEM_ID.unique()\n",
    "user_unique=df.USER_ID.unique()\n",
    "item_unique=pd.DataFrame(item_unique)\n",
    "user_unique=pd.DataFrame(user_unique)\n",
    "item_unique.to_csv(data_dir+\"/\" + WORK_DATE+\"/\"+\"unique_item_index.csv\")\n",
    "user_unique.to_csv(data_dir+\"/\" + WORK_DATE+\"/\"+\"unique_user_index.csv\")"
   ]
  },
  {
   "cell_type": "markdown",
   "metadata": {},
   "source": [
    "###  INTERACTION DATA 정보 확인\n",
    "\n",
    "Personalize에서 학습을 수행하기 위해서는 다음과 [official limits](https://docs.aws.amazon.com/personalize/latest/dg/limits.html)같은 데이터 요구사항을 맞추어야 합니다. \n",
    "\n",
    "* 최소 25명 고유 사용자 \n",
    "* 최소 100개 고유 아이템 \n",
    "* 사용자 당 2개 이상의 Interaction(예. 구매,평가 등) 기록\n",
    "\n",
    "\n",
    "하지만 일반적으로 다음과 같은 데이터가 준비 되어 있는것이 좋습니다. \n",
    "\n",
    "* 최소 50명 고유 사용자 \n",
    "* 최소 100개 고유 아이템 \n",
    "* 사용자 당 24 이상의 Interaction(예. 구매,평가 등) 기록"
   ]
  },
  {
   "cell_type": "code",
   "execution_count": 18,
   "metadata": {},
   "outputs": [
    {
     "name": "stdout",
     "output_type": "stream",
     "text": [
      "unique_items: 10479, Unique_users : 1538172\n"
     ]
    }
   ],
   "source": [
    "unique_items = df['ITEM_ID'].unique()\n",
    "unique_users = df['USER_ID'].unique()\n",
    "print(\"unique_items: {}, Unique_users : {}\".format(len(unique_items),len(unique_users)))"
   ]
  },
  {
   "cell_type": "code",
   "execution_count": 19,
   "metadata": {},
   "outputs": [
    {
     "data": {
      "text/html": [
       "<div>\n",
       "<style scoped>\n",
       "    .dataframe tbody tr th:only-of-type {\n",
       "        vertical-align: middle;\n",
       "    }\n",
       "\n",
       "    .dataframe tbody tr th {\n",
       "        vertical-align: top;\n",
       "    }\n",
       "\n",
       "    .dataframe thead th {\n",
       "        text-align: right;\n",
       "    }\n",
       "</style>\n",
       "<table border=\"1\" class=\"dataframe\">\n",
       "  <thead>\n",
       "    <tr style=\"text-align: right;\">\n",
       "      <th></th>\n",
       "      <th>EVENT_TYPE</th>\n",
       "      <th>USER_ID</th>\n",
       "      <th>ITEM_ID</th>\n",
       "      <th>TIMESTAMP</th>\n",
       "    </tr>\n",
       "  </thead>\n",
       "  <tbody>\n",
       "    <tr>\n",
       "      <th>0</th>\n",
       "      <td>click</td>\n",
       "      <td>162509</td>\n",
       "      <td>37371.0</td>\n",
       "      <td>1590774863</td>\n",
       "    </tr>\n",
       "    <tr>\n",
       "      <th>1</th>\n",
       "      <td>click</td>\n",
       "      <td>161673</td>\n",
       "      <td>7486.0</td>\n",
       "      <td>1590774201</td>\n",
       "    </tr>\n",
       "    <tr>\n",
       "      <th>2</th>\n",
       "      <td>click</td>\n",
       "      <td>160726</td>\n",
       "      <td>31226.0</td>\n",
       "      <td>1590772203</td>\n",
       "    </tr>\n",
       "    <tr>\n",
       "      <th>3</th>\n",
       "      <td>click</td>\n",
       "      <td>1189032</td>\n",
       "      <td>141.0</td>\n",
       "      <td>1590771794</td>\n",
       "    </tr>\n",
       "    <tr>\n",
       "      <th>4</th>\n",
       "      <td>click</td>\n",
       "      <td>1201660</td>\n",
       "      <td>28628.0</td>\n",
       "      <td>1590773149</td>\n",
       "    </tr>\n",
       "  </tbody>\n",
       "</table>\n",
       "</div>"
      ],
      "text/plain": [
       "  EVENT_TYPE  USER_ID  ITEM_ID   TIMESTAMP\n",
       "0      click   162509  37371.0  1590774863\n",
       "1      click   161673   7486.0  1590774201\n",
       "2      click   160726  31226.0  1590772203\n",
       "3      click  1189032    141.0  1590771794\n",
       "4      click  1201660  28628.0  1590773149"
      ]
     },
     "execution_count": 19,
     "metadata": {},
     "output_type": "execute_result"
    }
   ],
   "source": [
    "df.head()"
   ]
  },
  {
   "cell_type": "code",
   "execution_count": 20,
   "metadata": {},
   "outputs": [
    {
     "name": "stdout",
     "output_type": "stream",
     "text": [
      "click    49514094\n",
      "order    10323536\n",
      "Name: EVENT_TYPE, dtype: int64\n"
     ]
    },
    {
     "data": {
      "image/png": "[encoded data removed]",
      "text/plain": [
       "<Figure size 432x288 with 1 Axes>"
      ]
     },
     "metadata": {},
     "output_type": "display_data"
    }
   ],
   "source": [
    "#for col in category_feature:\n",
    "#    print(\"%s column is processing\" % (col))\n",
    "print(df.EVENT_TYPE.value_counts())\n",
    "df.EVENT_TYPE.value_counts().plot(kind='bar')\n",
    "plt.title(\"EVENT_TYPE\")\n",
    "\n",
    "plt.show()"
   ]
  },
  {
   "cell_type": "code",
   "execution_count": 21,
   "metadata": {},
   "outputs": [
    {
     "name": "stdout",
     "output_type": "stream",
     "text": [
      "<class 'pandas.core.frame.DataFrame'>\n",
      "Index: 1538172 entries, 1 to 999999\n",
      "Data columns (total 1 columns):\n",
      "INTERACTION_COUNTS    1538172 non-null int64\n",
      "dtypes: int64(1)\n",
      "memory usage: 23.5+ MB\n",
      "None\n"
     ]
    },
    {
     "data": {
      "text/html": [
       "<div>\n",
       "<style scoped>\n",
       "    .dataframe tbody tr th:only-of-type {\n",
       "        vertical-align: middle;\n",
       "    }\n",
       "\n",
       "    .dataframe tbody tr th {\n",
       "        vertical-align: top;\n",
       "    }\n",
       "\n",
       "    .dataframe thead th {\n",
       "        text-align: right;\n",
       "    }\n",
       "</style>\n",
       "<table border=\"1\" class=\"dataframe\">\n",
       "  <thead>\n",
       "    <tr style=\"text-align: right;\">\n",
       "      <th></th>\n",
       "      <th>INTERACTION_COUNTS</th>\n",
       "    </tr>\n",
       "    <tr>\n",
       "      <th>USER_ID</th>\n",
       "      <th></th>\n",
       "    </tr>\n",
       "  </thead>\n",
       "  <tbody>\n",
       "    <tr>\n",
       "      <th>1</th>\n",
       "      <td>413</td>\n",
       "    </tr>\n",
       "    <tr>\n",
       "      <th>10</th>\n",
       "      <td>2717</td>\n",
       "    </tr>\n",
       "    <tr>\n",
       "      <th>100</th>\n",
       "      <td>538</td>\n",
       "    </tr>\n",
       "    <tr>\n",
       "      <th>1000</th>\n",
       "      <td>107</td>\n",
       "    </tr>\n",
       "    <tr>\n",
       "      <th>10000</th>\n",
       "      <td>5</td>\n",
       "    </tr>\n",
       "  </tbody>\n",
       "</table>\n",
       "</div>"
      ],
      "text/plain": [
       "         INTERACTION_COUNTS\n",
       "USER_ID                    \n",
       "1                       413\n",
       "10                     2717\n",
       "100                     538\n",
       "1000                    107\n",
       "10000                     5"
      ]
     },
     "execution_count": 21,
     "metadata": {},
     "output_type": "execute_result"
    }
   ],
   "source": [
    "user_activity_counts = df.groupby(\"USER_ID\").count().loc[:,[\"EVENT_TYPE\"]].rename(columns={\"EVENT_TYPE\":\"INTERACTION_COUNTS\"})\n",
    "print(user_activity_counts.info())\n",
    "user_activity_counts.head()\n"
   ]
  },
  {
   "cell_type": "code",
   "execution_count": 22,
   "metadata": {
    "scrolled": true
   },
   "outputs": [
    {
     "data": {
      "text/html": [
       "<div>\n",
       "<style scoped>\n",
       "    .dataframe tbody tr th:only-of-type {\n",
       "        vertical-align: middle;\n",
       "    }\n",
       "\n",
       "    .dataframe tbody tr th {\n",
       "        vertical-align: top;\n",
       "    }\n",
       "\n",
       "    .dataframe thead th {\n",
       "        text-align: right;\n",
       "    }\n",
       "</style>\n",
       "<table border=\"1\" class=\"dataframe\">\n",
       "  <thead>\n",
       "    <tr style=\"text-align: right;\">\n",
       "      <th></th>\n",
       "      <th>INTERACTION_COUNTS</th>\n",
       "    </tr>\n",
       "  </thead>\n",
       "  <tbody>\n",
       "    <tr>\n",
       "      <th>0.1000</th>\n",
       "      <td>1.0000</td>\n",
       "    </tr>\n",
       "    <tr>\n",
       "      <th>0.2000</th>\n",
       "      <td>2.0000</td>\n",
       "    </tr>\n",
       "    <tr>\n",
       "      <th>0.3000</th>\n",
       "      <td>4.0000</td>\n",
       "    </tr>\n",
       "    <tr>\n",
       "      <th>0.4000</th>\n",
       "      <td>7.0000</td>\n",
       "    </tr>\n",
       "    <tr>\n",
       "      <th>0.5000</th>\n",
       "      <td>12.0000</td>\n",
       "    </tr>\n",
       "    <tr>\n",
       "      <th>0.6000</th>\n",
       "      <td>19.0000</td>\n",
       "    </tr>\n",
       "    <tr>\n",
       "      <th>0.8000</th>\n",
       "      <td>52.0000</td>\n",
       "    </tr>\n",
       "    <tr>\n",
       "      <th>0.9000</th>\n",
       "      <td>100.0000</td>\n",
       "    </tr>\n",
       "    <tr>\n",
       "      <th>0.9500</th>\n",
       "      <td>164.0000</td>\n",
       "    </tr>\n",
       "    <tr>\n",
       "      <th>0.9900</th>\n",
       "      <td>374.0000</td>\n",
       "    </tr>\n",
       "    <tr>\n",
       "      <th>0.9990</th>\n",
       "      <td>869.0000</td>\n",
       "    </tr>\n",
       "    <tr>\n",
       "      <th>0.9999</th>\n",
       "      <td>1695.1829</td>\n",
       "    </tr>\n",
       "    <tr>\n",
       "      <th>1.0000</th>\n",
       "      <td>8644.0000</td>\n",
       "    </tr>\n",
       "  </tbody>\n",
       "</table>\n",
       "</div>"
      ],
      "text/plain": [
       "        INTERACTION_COUNTS\n",
       "0.1000              1.0000\n",
       "0.2000              2.0000\n",
       "0.3000              4.0000\n",
       "0.4000              7.0000\n",
       "0.5000             12.0000\n",
       "0.6000             19.0000\n",
       "0.8000             52.0000\n",
       "0.9000            100.0000\n",
       "0.9500            164.0000\n",
       "0.9900            374.0000\n",
       "0.9990            869.0000\n",
       "0.9999           1695.1829\n",
       "1.0000           8644.0000"
      ]
     },
     "execution_count": 22,
     "metadata": {},
     "output_type": "execute_result"
    }
   ],
   "source": [
    "user_activity_counts.quantile([.1,.2,.3,.4,.5,.6,.8,.9,.95,.99,.999,.9999,1.0])"
   ]
  },
  {
   "cell_type": "code",
   "execution_count": 23,
   "metadata": {},
   "outputs": [
    {
     "data": {
      "text/html": [
       "<div>\n",
       "<style scoped>\n",
       "    .dataframe tbody tr th:only-of-type {\n",
       "        vertical-align: middle;\n",
       "    }\n",
       "\n",
       "    .dataframe tbody tr th {\n",
       "        vertical-align: top;\n",
       "    }\n",
       "\n",
       "    .dataframe thead th {\n",
       "        text-align: right;\n",
       "    }\n",
       "</style>\n",
       "<table border=\"1\" class=\"dataframe\">\n",
       "  <thead>\n",
       "    <tr style=\"text-align: right;\">\n",
       "      <th></th>\n",
       "      <th>NUM_USERS</th>\n",
       "    </tr>\n",
       "    <tr>\n",
       "      <th>INTERACTION_COUNTS</th>\n",
       "      <th></th>\n",
       "    </tr>\n",
       "  </thead>\n",
       "  <tbody>\n",
       "    <tr>\n",
       "      <th>1</th>\n",
       "      <td>204284</td>\n",
       "    </tr>\n",
       "    <tr>\n",
       "      <th>2</th>\n",
       "      <td>125551</td>\n",
       "    </tr>\n",
       "    <tr>\n",
       "      <th>3</th>\n",
       "      <td>89083</td>\n",
       "    </tr>\n",
       "    <tr>\n",
       "      <th>4</th>\n",
       "      <td>69315</td>\n",
       "    </tr>\n",
       "    <tr>\n",
       "      <th>5</th>\n",
       "      <td>56924</td>\n",
       "    </tr>\n",
       "  </tbody>\n",
       "</table>\n",
       "</div>"
      ],
      "text/plain": [
       "                    NUM_USERS\n",
       "INTERACTION_COUNTS           \n",
       "1                      204284\n",
       "2                      125551\n",
       "3                       89083\n",
       "4                       69315\n",
       "5                       56924"
      ]
     },
     "execution_count": 23,
     "metadata": {},
     "output_type": "execute_result"
    }
   ],
   "source": [
    "user_activity_counts=user_activity_counts.reset_index()\n",
    "activities = user_activity_counts.groupby('INTERACTION_COUNTS').count()\n",
    "activities.columns=['NUM_USERS']\n",
    "activities.head()"
   ]
  },
  {
   "cell_type": "code",
   "execution_count": 24,
   "metadata": {},
   "outputs": [],
   "source": [
    "assert (len(unique_users)==activities['NUM_USERS'].sum())"
   ]
  },
  {
   "cell_type": "code",
   "execution_count": 25,
   "metadata": {},
   "outputs": [
    {
     "data": {
      "image/png": "[encoded data removed]",
      "text/plain": [
       "<Figure size 1080x360 with 1 Axes>"
      ]
     },
     "metadata": {},
     "output_type": "display_data"
    }
   ],
   "source": [
    "activities.loc[:8712,:].plot(kind='bar', figsize=(15,5), ylim=(0,190000))\n",
    "plt.title(\"activities users group\")\n",
    "\n",
    "plt.show()"
   ]
  },
  {
   "cell_type": "code",
   "execution_count": 26,
   "metadata": {},
   "outputs": [
    {
     "data": {
      "text/plain": [
       "536441"
      ]
     },
     "execution_count": 26,
     "metadata": {},
     "output_type": "execute_result"
    }
   ],
   "source": [
    "activities[activities.index > 24].NUM_USERS.sum()"
   ]
  },
  {
   "cell_type": "code",
   "execution_count": 27,
   "metadata": {},
   "outputs": [
    {
     "data": {
      "text/plain": [
       "EVENT_TYPE    38.901781\n",
       "ITEM_ID       38.901781\n",
       "TIMESTAMP     38.901781\n",
       "dtype: float64"
      ]
     },
     "execution_count": 27,
     "metadata": {},
     "output_type": "execute_result"
    }
   ],
   "source": [
    "df.groupby(\"USER_ID\").count().mean()"
   ]
  },
  {
   "cell_type": "code",
   "execution_count": 28,
   "metadata": {},
   "outputs": [
    {
     "name": "stdout",
     "output_type": "stream",
     "text": [
      "<class 'pandas.core.frame.DataFrame'>\n",
      "Int64Index: 237 entries, 1 to 1536017\n",
      "Data columns (total 2 columns):\n",
      "USER_ID               237 non-null object\n",
      "INTERACTION_COUNTS    237 non-null int64\n",
      "dtypes: int64(1), object(1)\n",
      "memory usage: 5.6+ KB\n"
     ]
    }
   ],
   "source": [
    "#user_activity_counts['INTERACTION_COUNTS'].max()\n",
    "heavy_user=user_activity_counts[user_activity_counts['INTERACTION_COUNTS']>1518]\n",
    "heavy_user.info()"
   ]
  },
  {
   "cell_type": "code",
   "execution_count": 29,
   "metadata": {},
   "outputs": [
    {
     "name": "stdout",
     "output_type": "stream",
     "text": [
      "<class 'pandas.core.frame.DataFrame'>\n",
      "Int64Index: 1001731 entries, 4 to 1538171\n",
      "Data columns (total 2 columns):\n",
      "USER_ID               1001731 non-null object\n",
      "INTERACTION_COUNTS    1001731 non-null int64\n",
      "dtypes: int64(1), object(1)\n",
      "memory usage: 22.9+ MB\n",
      "None\n",
      "slow_user_percentage:0.6512477148199292\n"
     ]
    }
   ],
   "source": [
    "#user_activity_counts['INTERACTION_COUNTS'].max()\n",
    "slow_user=user_activity_counts[user_activity_counts['INTERACTION_COUNTS']<=24]\n",
    "print(slow_user.info())\n",
    "print(\"slow_user_percentage:{}\".format(len(slow_user)/len(user_activity_counts)))"
   ]
  },
  {
   "cell_type": "markdown",
   "metadata": {},
   "source": [
    "### 아이템 분석"
   ]
  },
  {
   "cell_type": "code",
   "execution_count": 30,
   "metadata": {},
   "outputs": [
    {
     "data": {
      "image/png": "[encoded data removed]",
      "text/plain": [
       "<Figure size 1080x360 with 1 Axes>"
      ]
     },
     "metadata": {},
     "output_type": "display_data"
    },
    {
     "data": {
      "image/png": "[encoded data removed]",
      "text/plain": [
       "<Figure size 1080x360 with 1 Axes>"
      ]
     },
     "metadata": {},
     "output_type": "display_data"
    },
    {
     "data": {
      "image/png": "[encoded data removed]",
      "text/plain": [
       "<Figure size 1080x360 with 1 Axes>"
      ]
     },
     "metadata": {},
     "output_type": "display_data"
    },
    {
     "data": {
      "image/png": "[encoded data removed]",
      "text/plain": [
       "<Figure size 1080x360 with 1 Axes>"
      ]
     },
     "metadata": {},
     "output_type": "display_data"
    },
    {
     "data": {
      "image/png": "[encoded data removed]",
      "text/plain": [
       "<Figure size 1080x360 with 1 Axes>"
      ]
     },
     "metadata": {},
     "output_type": "display_data"
    }
   ],
   "source": [
    "def draw_long_tails(df, is_in_event_types, groupby_column_name, count_name, range1=100, range2=1000, range3=3000):\n",
    "    filtered_df = df.loc[df[\"EVENT_TYPE\"].isin(is_in_event_types)]\n",
    "    groupby_df = filtered_df.groupby(groupby_column_name).count().loc[:,[\"EVENT_TYPE\"]].rename(columns={\"EVENT_TYPE\":count_name})\n",
    "    sorted_df = groupby_df.sort_values([count_name], ascending=False)\n",
    "    \n",
    "    sorted_df[:].plot(kind='line', figsize=(15,5))\n",
    "    plt.title(count_name + \" per \" + groupby_column_name)\n",
    "    plt.show()\n",
    "\n",
    "    sorted_df[:range1].plot(kind='line', figsize=(15,5))\n",
    "    plt.title(count_name + \" per \" + groupby_column_name + \"/ 1 ~\" + str(range1) + \"th\")\n",
    "    plt.show()\n",
    "    \n",
    "    sorted_df[range1:range2].plot(kind='line', figsize=(15,5))\n",
    "    plt.title(count_name + \" per \" + groupby_column_name + \" / \" + str(range1) + \"th ~ \"+ str(range2) + \"th\")\n",
    "    plt.show()\n",
    "\n",
    "    sorted_df[range2:range3].plot(kind='line', figsize=(15,5))\n",
    "    plt.title(count_name + \" per \" + groupby_column_name + \" / \" + str(range2) + \"th ~ \"+ str(range3) + \"th\")\n",
    "    plt.show()\n",
    "    \n",
    "    sorted_df[range3:].plot(kind='line', figsize=(15,5))\n",
    "    plt.title(count_name + \" per \" + groupby_column_name + \" / \" + str(range3) + \"th ~ \")\n",
    "    plt.show()\n",
    "    \n",
    "#draw_long_tails(interactions_org, [\"order\"], \"ITEM_ID\", \"ORDERS\", 100, 1000, 3000)\n",
    "draw_long_tails(df, [\"order\"], \"ITEM_ID\", \"ORDERS\", 100, 1000, 3000)"
   ]
  },
  {
   "cell_type": "markdown",
   "metadata": {},
   "source": [
    "## User Data 분석"
   ]
  },
  {
   "cell_type": "code",
   "execution_count": 31,
   "metadata": {},
   "outputs": [],
   "source": [
    "target_file_path = data_dir+\"/\"+PREFIX+\"/\"+'user'\n",
    "os.makedirs(target_file_path,exist_ok=True)\n",
    "source_file = KEY_PREFIX +\"/\"+PREFIX+\"/\"+USER_FILE\n",
    "target_file = data_dir+\"/\"+PREFIX+\"/\"+USER_FILE\n",
    "\n",
    "#s3.Bucket(BUCKET_NAME).download_file('kurly/data03/user+identifier/2020/06/12/46b9579b-f217-4cb9-92cc-83cb9a0b0d0d.csv', target_file_path)\n",
    "s3.Bucket(BUCKET_NAME).download_file(source_file, target_file)"
   ]
  },
  {
   "cell_type": "code",
   "execution_count": 32,
   "metadata": {},
   "outputs": [
    {
     "data": {
      "text/html": [
       "<div>\n",
       "<style scoped>\n",
       "    .dataframe tbody tr th:only-of-type {\n",
       "        vertical-align: middle;\n",
       "    }\n",
       "\n",
       "    .dataframe tbody tr th {\n",
       "        vertical-align: top;\n",
       "    }\n",
       "\n",
       "    .dataframe thead th {\n",
       "        text-align: right;\n",
       "    }\n",
       "</style>\n",
       "<table border=\"1\" class=\"dataframe\">\n",
       "  <thead>\n",
       "    <tr style=\"text-align: right;\">\n",
       "      <th></th>\n",
       "      <th>USER_ID</th>\n",
       "      <th>LEVEL</th>\n",
       "    </tr>\n",
       "  </thead>\n",
       "  <tbody>\n",
       "    <tr>\n",
       "      <th>0</th>\n",
       "      <td>21658</td>\n",
       "      <td>1</td>\n",
       "    </tr>\n",
       "    <tr>\n",
       "      <th>1</th>\n",
       "      <td>1483526</td>\n",
       "      <td>20</td>\n",
       "    </tr>\n",
       "    <tr>\n",
       "      <th>2</th>\n",
       "      <td>250253</td>\n",
       "      <td>1</td>\n",
       "    </tr>\n",
       "    <tr>\n",
       "      <th>3</th>\n",
       "      <td>257988</td>\n",
       "      <td>1</td>\n",
       "    </tr>\n",
       "    <tr>\n",
       "      <th>4</th>\n",
       "      <td>250019</td>\n",
       "      <td>1</td>\n",
       "    </tr>\n",
       "  </tbody>\n",
       "</table>\n",
       "</div>"
      ],
      "text/plain": [
       "   USER_ID  LEVEL\n",
       "0    21658      1\n",
       "1  1483526     20\n",
       "2   250253      1\n",
       "3   257988      1\n",
       "4   250019      1"
      ]
     },
     "execution_count": 32,
     "metadata": {},
     "output_type": "execute_result"
    }
   ],
   "source": [
    "users=pd.read_csv(target_file)\n",
    "users.columns=['USER_ID','LEVEL']\n",
    "users.head()\n"
   ]
  },
  {
   "cell_type": "code",
   "execution_count": 33,
   "metadata": {},
   "outputs": [
    {
     "name": "stdout",
     "output_type": "stream",
     "text": [
      "<class 'pandas.core.frame.DataFrame'>\n",
      "RangeIndex: 1175631 entries, 0 to 1175630\n",
      "Data columns (total 2 columns):\n",
      "USER_ID    1175631 non-null object\n",
      "LEVEL      1175631 non-null object\n",
      "dtypes: object(2)\n",
      "memory usage: 17.9+ MB\n"
     ]
    }
   ],
   "source": [
    "users.USER_ID = users.USER_ID.astype(str)\n",
    "users.LEVEL = users.LEVEL.astype(str)\n",
    "users.info()"
   ]
  },
  {
   "cell_type": "code",
   "execution_count": 34,
   "metadata": {},
   "outputs": [
    {
     "data": {
      "text/html": [
       "<div>\n",
       "<style scoped>\n",
       "    .dataframe tbody tr th:only-of-type {\n",
       "        vertical-align: middle;\n",
       "    }\n",
       "\n",
       "    .dataframe tbody tr th {\n",
       "        vertical-align: top;\n",
       "    }\n",
       "\n",
       "    .dataframe thead th {\n",
       "        text-align: right;\n",
       "    }\n",
       "</style>\n",
       "<table border=\"1\" class=\"dataframe\">\n",
       "  <thead>\n",
       "    <tr style=\"text-align: right;\">\n",
       "      <th></th>\n",
       "      <th>USER_LEVEL_COUNTS</th>\n",
       "    </tr>\n",
       "    <tr>\n",
       "      <th>LEVEL</th>\n",
       "      <th></th>\n",
       "    </tr>\n",
       "  </thead>\n",
       "  <tbody>\n",
       "    <tr>\n",
       "      <th>1</th>\n",
       "      <td>893800</td>\n",
       "    </tr>\n",
       "    <tr>\n",
       "      <th>11</th>\n",
       "      <td>1004</td>\n",
       "    </tr>\n",
       "    <tr>\n",
       "      <th>12</th>\n",
       "      <td>2227</td>\n",
       "    </tr>\n",
       "    <tr>\n",
       "      <th>14</th>\n",
       "      <td>14317</td>\n",
       "    </tr>\n",
       "    <tr>\n",
       "      <th>15</th>\n",
       "      <td>26568</td>\n",
       "    </tr>\n",
       "    <tr>\n",
       "      <th>16</th>\n",
       "      <td>63311</td>\n",
       "    </tr>\n",
       "    <tr>\n",
       "      <th>20</th>\n",
       "      <td>135271</td>\n",
       "    </tr>\n",
       "    <tr>\n",
       "      <th>5</th>\n",
       "      <td>39127</td>\n",
       "    </tr>\n",
       "    <tr>\n",
       "      <th>81</th>\n",
       "      <td>4</td>\n",
       "    </tr>\n",
       "    <tr>\n",
       "      <th>83</th>\n",
       "      <td>1</td>\n",
       "    </tr>\n",
       "    <tr>\n",
       "      <th>94</th>\n",
       "      <td>1</td>\n",
       "    </tr>\n",
       "  </tbody>\n",
       "</table>\n",
       "</div>"
      ],
      "text/plain": [
       "       USER_LEVEL_COUNTS\n",
       "LEVEL                   \n",
       "1                 893800\n",
       "11                  1004\n",
       "12                  2227\n",
       "14                 14317\n",
       "15                 26568\n",
       "16                 63311\n",
       "20                135271\n",
       "5                  39127\n",
       "81                     4\n",
       "83                     1\n",
       "94                     1"
      ]
     },
     "execution_count": 34,
     "metadata": {},
     "output_type": "execute_result"
    }
   ],
   "source": [
    "user_level_counts = users.groupby('LEVEL').count().loc[:,[\"USER_ID\"]].rename(columns={\"USER_ID\":\"USER_LEVEL_COUNTS\"})\n",
    "user_level_counts"
   ]
  },
  {
   "cell_type": "markdown",
   "metadata": {},
   "source": [
    "## Item 데이터 분석 "
   ]
  },
  {
   "cell_type": "code",
   "execution_count": 35,
   "metadata": {},
   "outputs": [],
   "source": [
    "target_file_path = data_dir+\"/\"+PREFIX+\"/\"+'item'\n",
    "os.makedirs(target_file_path,exist_ok=True)\n",
    "\n",
    "source_file = KEY_PREFIX +\"/\"+PREFIX+\"/\"+ITEM_FILE\n",
    "target_file = data_dir+\"/\"+PREFIX+\"/\"+ITEM_FILE\n",
    "\n",
    "#s3.Bucket(BUCKET_NAME).download_file('kurly/data03/user+identifier/2020/06/12/46b9579b-f217-4cb9-92cc-83cb9a0b0d0d.csv', target_file_path)\n",
    "s3.Bucket(BUCKET_NAME).download_file(source_file, target_file)\n"
   ]
  },
  {
   "cell_type": "code",
   "execution_count": 36,
   "metadata": {},
   "outputs": [
    {
     "data": {
      "text/html": [
       "<div>\n",
       "<style scoped>\n",
       "    .dataframe tbody tr th:only-of-type {\n",
       "        vertical-align: middle;\n",
       "    }\n",
       "\n",
       "    .dataframe tbody tr th {\n",
       "        vertical-align: top;\n",
       "    }\n",
       "\n",
       "    .dataframe thead th {\n",
       "        text-align: right;\n",
       "    }\n",
       "</style>\n",
       "<table border=\"1\" class=\"dataframe\">\n",
       "  <thead>\n",
       "    <tr style=\"text-align: right;\">\n",
       "      <th></th>\n",
       "      <th>KURLY_ONLY</th>\n",
       "      <th>KEEP_TYPE</th>\n",
       "      <th>MAIN_CATEGORY</th>\n",
       "      <th>MIDDLE_CATEGORY</th>\n",
       "      <th>ITEM_ID</th>\n",
       "    </tr>\n",
       "  </thead>\n",
       "  <tbody>\n",
       "    <tr>\n",
       "      <th>0</th>\n",
       "      <td>0</td>\n",
       "      <td>COLD</td>\n",
       "      <td>채소/과일/곡류</td>\n",
       "      <td>채소</td>\n",
       "      <td>6</td>\n",
       "    </tr>\n",
       "    <tr>\n",
       "      <th>1</th>\n",
       "      <td>0</td>\n",
       "      <td>COLD</td>\n",
       "      <td>채소/과일/곡류</td>\n",
       "      <td>채소</td>\n",
       "      <td>7</td>\n",
       "    </tr>\n",
       "    <tr>\n",
       "      <th>2</th>\n",
       "      <td>0</td>\n",
       "      <td>COLD</td>\n",
       "      <td>채소/과일/곡류</td>\n",
       "      <td>채소</td>\n",
       "      <td>8</td>\n",
       "    </tr>\n",
       "    <tr>\n",
       "      <th>3</th>\n",
       "      <td>1</td>\n",
       "      <td>ROOM</td>\n",
       "      <td>채소/과일/곡류</td>\n",
       "      <td>과일</td>\n",
       "      <td>9</td>\n",
       "    </tr>\n",
       "    <tr>\n",
       "      <th>4</th>\n",
       "      <td>0</td>\n",
       "      <td>COLD</td>\n",
       "      <td>정육/달걀</td>\n",
       "      <td>달걀</td>\n",
       "      <td>10</td>\n",
       "    </tr>\n",
       "  </tbody>\n",
       "</table>\n",
       "</div>"
      ],
      "text/plain": [
       "   KURLY_ONLY KEEP_TYPE MAIN_CATEGORY MIDDLE_CATEGORY  ITEM_ID\n",
       "0           0      COLD      채소/과일/곡류              채소        6\n",
       "1           0      COLD      채소/과일/곡류              채소        7\n",
       "2           0      COLD      채소/과일/곡류              채소        8\n",
       "3           1      ROOM      채소/과일/곡류              과일        9\n",
       "4           0      COLD         정육/달걀              달걀       10"
      ]
     },
     "execution_count": 36,
     "metadata": {},
     "output_type": "execute_result"
    }
   ],
   "source": [
    "items=pd.read_csv(target_file)\n",
    "items_origin=items\n",
    "items.head()\n"
   ]
  },
  {
   "cell_type": "code",
   "execution_count": 42,
   "metadata": {},
   "outputs": [
    {
     "data": {
      "text/html": [
       "<div>\n",
       "<style scoped>\n",
       "    .dataframe tbody tr th:only-of-type {\n",
       "        vertical-align: middle;\n",
       "    }\n",
       "\n",
       "    .dataframe tbody tr th {\n",
       "        vertical-align: top;\n",
       "    }\n",
       "\n",
       "    .dataframe thead th {\n",
       "        text-align: right;\n",
       "    }\n",
       "</style>\n",
       "<table border=\"1\" class=\"dataframe\">\n",
       "  <thead>\n",
       "    <tr style=\"text-align: right;\">\n",
       "      <th></th>\n",
       "      <th>ITEM_ID</th>\n",
       "      <th>MIDDLE_CATEGORY</th>\n",
       "    </tr>\n",
       "  </thead>\n",
       "  <tbody>\n",
       "    <tr>\n",
       "      <th>0</th>\n",
       "      <td>6</td>\n",
       "      <td>채소</td>\n",
       "    </tr>\n",
       "    <tr>\n",
       "      <th>1</th>\n",
       "      <td>7</td>\n",
       "      <td>채소</td>\n",
       "    </tr>\n",
       "    <tr>\n",
       "      <th>2</th>\n",
       "      <td>8</td>\n",
       "      <td>채소</td>\n",
       "    </tr>\n",
       "    <tr>\n",
       "      <th>3</th>\n",
       "      <td>9</td>\n",
       "      <td>과일</td>\n",
       "    </tr>\n",
       "    <tr>\n",
       "      <th>4</th>\n",
       "      <td>10</td>\n",
       "      <td>달걀</td>\n",
       "    </tr>\n",
       "  </tbody>\n",
       "</table>\n",
       "</div>"
      ],
      "text/plain": [
       "   ITEM_ID MIDDLE_CATEGORY\n",
       "0        6              채소\n",
       "1        7              채소\n",
       "2        8              채소\n",
       "3        9              과일\n",
       "4       10              달걀"
      ]
     },
     "execution_count": 42,
     "metadata": {},
     "output_type": "execute_result"
    }
   ],
   "source": [
    "items=items_origin.copy()\n",
    "items=items[[\"ITEM_ID\",\"MIDDLE_CATEGORY\"]]\n",
    "items.head()"
   ]
  },
  {
   "cell_type": "code",
   "execution_count": 43,
   "metadata": {},
   "outputs": [
    {
     "name": "stdout",
     "output_type": "stream",
     "text": [
      "<class 'pandas.core.frame.DataFrame'>\n",
      "RangeIndex: 30161 entries, 0 to 30160\n",
      "Data columns (total 2 columns):\n",
      "ITEM_ID            30161 non-null int64\n",
      "MIDDLE_CATEGORY    30110 non-null object\n",
      "dtypes: int64(1), object(1)\n",
      "memory usage: 471.3+ KB\n"
     ]
    }
   ],
   "source": [
    "items.info()"
   ]
  },
  {
   "cell_type": "code",
   "execution_count": 44,
   "metadata": {},
   "outputs": [
    {
     "data": {
      "text/html": [
       "<div>\n",
       "<style scoped>\n",
       "    .dataframe tbody tr th:only-of-type {\n",
       "        vertical-align: middle;\n",
       "    }\n",
       "\n",
       "    .dataframe tbody tr th {\n",
       "        vertical-align: top;\n",
       "    }\n",
       "\n",
       "    .dataframe thead th {\n",
       "        text-align: right;\n",
       "    }\n",
       "</style>\n",
       "<table border=\"1\" class=\"dataframe\">\n",
       "  <thead>\n",
       "    <tr style=\"text-align: right;\">\n",
       "      <th></th>\n",
       "      <th>MIDDLECAT_COUNTS</th>\n",
       "    </tr>\n",
       "    <tr>\n",
       "      <th>MIDDLE_CATEGORY</th>\n",
       "      <th></th>\n",
       "    </tr>\n",
       "  </thead>\n",
       "  <tbody>\n",
       "    <tr>\n",
       "      <th>Kurly's Kitchen</th>\n",
       "      <td>79</td>\n",
       "    </tr>\n",
       "    <tr>\n",
       "      <th>간편식/간편조리</th>\n",
       "      <td>1823</td>\n",
       "    </tr>\n",
       "    <tr>\n",
       "      <th>건어물</th>\n",
       "      <td>170</td>\n",
       "    </tr>\n",
       "    <tr>\n",
       "      <th>견과류</th>\n",
       "      <td>235</td>\n",
       "    </tr>\n",
       "    <tr>\n",
       "      <th>과일</th>\n",
       "      <td>626</td>\n",
       "    </tr>\n",
       "    <tr>\n",
       "      <th>국/찌개/탕</th>\n",
       "      <td>233</td>\n",
       "    </tr>\n",
       "    <tr>\n",
       "      <th>기저귀/물티슈</th>\n",
       "      <td>191</td>\n",
       "    </tr>\n",
       "    <tr>\n",
       "      <th>기타</th>\n",
       "      <td>4149</td>\n",
       "    </tr>\n",
       "    <tr>\n",
       "      <th>김/해조류</th>\n",
       "      <td>151</td>\n",
       "    </tr>\n",
       "    <tr>\n",
       "      <th>냉동식품</th>\n",
       "      <td>459</td>\n",
       "    </tr>\n",
       "    <tr>\n",
       "      <th>달걀</th>\n",
       "      <td>56</td>\n",
       "    </tr>\n",
       "    <tr>\n",
       "      <th>닭/오리고기</th>\n",
       "      <td>87</td>\n",
       "    </tr>\n",
       "    <tr>\n",
       "      <th>델리미트</th>\n",
       "      <td>184</td>\n",
       "    </tr>\n",
       "    <tr>\n",
       "      <th>돼지고기</th>\n",
       "      <td>188</td>\n",
       "    </tr>\n",
       "    <tr>\n",
       "      <th>두부/어묵/소시지</th>\n",
       "      <td>215</td>\n",
       "    </tr>\n",
       "    <tr>\n",
       "      <th>디저트/케이크</th>\n",
       "      <td>582</td>\n",
       "    </tr>\n",
       "    <tr>\n",
       "      <th>떡/한과</th>\n",
       "      <td>263</td>\n",
       "    </tr>\n",
       "    <tr>\n",
       "      <th>물/음료/주스</th>\n",
       "      <td>991</td>\n",
       "    </tr>\n",
       "    <tr>\n",
       "      <th>밀가루/믹스</th>\n",
       "      <td>79</td>\n",
       "    </tr>\n",
       "    <tr>\n",
       "      <th>바디/스킨/오랄케어</th>\n",
       "      <td>792</td>\n",
       "    </tr>\n",
       "    <tr>\n",
       "      <th>반려동물</th>\n",
       "      <td>1178</td>\n",
       "    </tr>\n",
       "    <tr>\n",
       "      <th>반찬/김치</th>\n",
       "      <td>955</td>\n",
       "    </tr>\n",
       "    <tr>\n",
       "      <th>빵/잼</th>\n",
       "      <td>888</td>\n",
       "    </tr>\n",
       "    <tr>\n",
       "      <th>생선</th>\n",
       "      <td>436</td>\n",
       "    </tr>\n",
       "    <tr>\n",
       "      <th>생필품</th>\n",
       "      <td>1803</td>\n",
       "    </tr>\n",
       "    <tr>\n",
       "      <th>소고기</th>\n",
       "      <td>444</td>\n",
       "    </tr>\n",
       "    <tr>\n",
       "      <th>수산가공품</th>\n",
       "      <td>332</td>\n",
       "    </tr>\n",
       "    <tr>\n",
       "      <th>스낵/초콜릿/시리얼</th>\n",
       "      <td>2000</td>\n",
       "    </tr>\n",
       "    <tr>\n",
       "      <th>쌀/잡곡</th>\n",
       "      <td>243</td>\n",
       "    </tr>\n",
       "    <tr>\n",
       "      <th>아이 식기</th>\n",
       "      <td>37</td>\n",
       "    </tr>\n",
       "    <tr>\n",
       "      <th>아이스크림</th>\n",
       "      <td>410</td>\n",
       "    </tr>\n",
       "    <tr>\n",
       "      <th>양고기</th>\n",
       "      <td>31</td>\n",
       "    </tr>\n",
       "    <tr>\n",
       "      <th>양념육/돈까스</th>\n",
       "      <td>220</td>\n",
       "    </tr>\n",
       "    <tr>\n",
       "      <th>영양제/건강식품</th>\n",
       "      <td>584</td>\n",
       "    </tr>\n",
       "    <tr>\n",
       "      <th>올리브/안타파스토</th>\n",
       "      <td>80</td>\n",
       "    </tr>\n",
       "    <tr>\n",
       "      <th>올리브오일/기름</th>\n",
       "      <td>232</td>\n",
       "    </tr>\n",
       "    <tr>\n",
       "      <th>우유/두유/유제품</th>\n",
       "      <td>463</td>\n",
       "    </tr>\n",
       "    <tr>\n",
       "      <th>유아식/아동식</th>\n",
       "      <td>627</td>\n",
       "    </tr>\n",
       "    <tr>\n",
       "      <th>유아용품</th>\n",
       "      <td>552</td>\n",
       "    </tr>\n",
       "    <tr>\n",
       "      <th>이벤트</th>\n",
       "      <td>224</td>\n",
       "    </tr>\n",
       "    <tr>\n",
       "      <th>이유식 재료</th>\n",
       "      <td>37</td>\n",
       "    </tr>\n",
       "    <tr>\n",
       "      <th>장/식초/양념</th>\n",
       "      <td>461</td>\n",
       "    </tr>\n",
       "    <tr>\n",
       "      <th>주방용품</th>\n",
       "      <td>1426</td>\n",
       "    </tr>\n",
       "    <tr>\n",
       "      <th>증정</th>\n",
       "      <td>573</td>\n",
       "    </tr>\n",
       "    <tr>\n",
       "      <th>차/커피</th>\n",
       "      <td>950</td>\n",
       "    </tr>\n",
       "    <tr>\n",
       "      <th>채소</th>\n",
       "      <td>691</td>\n",
       "    </tr>\n",
       "    <tr>\n",
       "      <th>치즈/버터</th>\n",
       "      <td>375</td>\n",
       "    </tr>\n",
       "    <tr>\n",
       "      <th>테이블웨어/홈데코</th>\n",
       "      <td>911</td>\n",
       "    </tr>\n",
       "    <tr>\n",
       "      <th>파스타/면</th>\n",
       "      <td>287</td>\n",
       "    </tr>\n",
       "    <tr>\n",
       "      <th>해산물/조개류</th>\n",
       "      <td>425</td>\n",
       "    </tr>\n",
       "    <tr>\n",
       "      <th>향신료/소스</th>\n",
       "      <td>682</td>\n",
       "    </tr>\n",
       "  </tbody>\n",
       "</table>\n",
       "</div>"
      ],
      "text/plain": [
       "                 MIDDLECAT_COUNTS\n",
       "MIDDLE_CATEGORY                  \n",
       "Kurly's Kitchen                79\n",
       "간편식/간편조리                     1823\n",
       "건어물                           170\n",
       "견과류                           235\n",
       "과일                            626\n",
       "국/찌개/탕                        233\n",
       "기저귀/물티슈                       191\n",
       "기타                           4149\n",
       "김/해조류                         151\n",
       "냉동식품                          459\n",
       "달걀                             56\n",
       "닭/오리고기                         87\n",
       "델리미트                          184\n",
       "돼지고기                          188\n",
       "두부/어묵/소시지                     215\n",
       "디저트/케이크                       582\n",
       "떡/한과                          263\n",
       "물/음료/주스                       991\n",
       "밀가루/믹스                         79\n",
       "바디/스킨/오랄케어                    792\n",
       "반려동물                         1178\n",
       "반찬/김치                         955\n",
       "빵/잼                           888\n",
       "생선                            436\n",
       "생필품                          1803\n",
       "소고기                           444\n",
       "수산가공품                         332\n",
       "스낵/초콜릿/시리얼                   2000\n",
       "쌀/잡곡                          243\n",
       "아이 식기                          37\n",
       "아이스크림                         410\n",
       "양고기                            31\n",
       "양념육/돈까스                       220\n",
       "영양제/건강식품                      584\n",
       "올리브/안타파스토                      80\n",
       "올리브오일/기름                      232\n",
       "우유/두유/유제품                     463\n",
       "유아식/아동식                       627\n",
       "유아용품                          552\n",
       "이벤트                           224\n",
       "이유식 재료                         37\n",
       "장/식초/양념                       461\n",
       "주방용품                         1426\n",
       "증정                            573\n",
       "차/커피                          950\n",
       "채소                            691\n",
       "치즈/버터                         375\n",
       "테이블웨어/홈데코                     911\n",
       "파스타/면                         287\n",
       "해산물/조개류                       425\n",
       "향신료/소스                        682"
      ]
     },
     "execution_count": 44,
     "metadata": {},
     "output_type": "execute_result"
    }
   ],
   "source": [
    "item_middlecat_counts = items.groupby('MIDDLE_CATEGORY').count().loc[:,[\"ITEM_ID\"]].rename(columns={\"ITEM_ID\":\"MIDDLECAT_COUNTS\"})\n",
    "item_middlecat_counts "
   ]
  },
  {
   "cell_type": "code",
   "execution_count": 45,
   "metadata": {},
   "outputs": [
    {
     "name": "stdout",
     "output_type": "stream",
     "text": [
      "# of rows of Null ITEM_ID : 0\n",
      "# of rows of Null MIDDLE_CATEGORY : 51\n"
     ]
    }
   ],
   "source": [
    "print(\"# of rows of Null ITEM_ID : {}\".format(items['ITEM_ID'].isnull().sum()))\n",
    "#print(\"# of rows of Null MAIN_CATEGORY : {}\".format(items['MAIN_CATEGORY'].isnull().sum()))\n",
    "#print(\"# of rows of Null KURLY_ONLY : {}\".format(items['KURLY_ONLY'].isnull().sum()))\n",
    "print(\"# of rows of Null MIDDLE_CATEGORY : {}\".format(items['MIDDLE_CATEGORY'].isnull().sum()))"
   ]
  },
  {
   "cell_type": "code",
   "execution_count": 47,
   "metadata": {},
   "outputs": [],
   "source": [
    "items.ITEM_ID = items.ITEM_ID.astype(str)"
   ]
  },
  {
   "cell_type": "code",
   "execution_count": 49,
   "metadata": {},
   "outputs": [],
   "source": [
    "\n",
    "for i,item in enumerate(items[\"MIDDLE_CATEGORY\"]):\n",
    "    if (not item  or pd.isnull(item)):\n",
    "        pass\n",
    "    else:\n",
    "        items[\"MIDDLE_CATEGORY\"][i]=item.replace('/', '|') \n",
    " "
   ]
  },
  {
   "cell_type": "code",
   "execution_count": 50,
   "metadata": {},
   "outputs": [
    {
     "data": {
      "text/html": [
       "<div>\n",
       "<style scoped>\n",
       "    .dataframe tbody tr th:only-of-type {\n",
       "        vertical-align: middle;\n",
       "    }\n",
       "\n",
       "    .dataframe tbody tr th {\n",
       "        vertical-align: top;\n",
       "    }\n",
       "\n",
       "    .dataframe thead th {\n",
       "        text-align: right;\n",
       "    }\n",
       "</style>\n",
       "<table border=\"1\" class=\"dataframe\">\n",
       "  <thead>\n",
       "    <tr style=\"text-align: right;\">\n",
       "      <th></th>\n",
       "      <th>MIDDLECAT_COUNTS</th>\n",
       "    </tr>\n",
       "    <tr>\n",
       "      <th>MIDDLE_CATEGORY</th>\n",
       "      <th></th>\n",
       "    </tr>\n",
       "  </thead>\n",
       "  <tbody>\n",
       "    <tr>\n",
       "      <th>Kurly's Kitchen</th>\n",
       "      <td>79</td>\n",
       "    </tr>\n",
       "    <tr>\n",
       "      <th>간편식|간편조리</th>\n",
       "      <td>1823</td>\n",
       "    </tr>\n",
       "    <tr>\n",
       "      <th>건어물</th>\n",
       "      <td>170</td>\n",
       "    </tr>\n",
       "    <tr>\n",
       "      <th>견과류</th>\n",
       "      <td>235</td>\n",
       "    </tr>\n",
       "    <tr>\n",
       "      <th>과일</th>\n",
       "      <td>626</td>\n",
       "    </tr>\n",
       "    <tr>\n",
       "      <th>국|찌개|탕</th>\n",
       "      <td>233</td>\n",
       "    </tr>\n",
       "    <tr>\n",
       "      <th>기저귀|물티슈</th>\n",
       "      <td>191</td>\n",
       "    </tr>\n",
       "    <tr>\n",
       "      <th>기타</th>\n",
       "      <td>4149</td>\n",
       "    </tr>\n",
       "    <tr>\n",
       "      <th>김|해조류</th>\n",
       "      <td>151</td>\n",
       "    </tr>\n",
       "    <tr>\n",
       "      <th>냉동식품</th>\n",
       "      <td>459</td>\n",
       "    </tr>\n",
       "    <tr>\n",
       "      <th>달걀</th>\n",
       "      <td>56</td>\n",
       "    </tr>\n",
       "    <tr>\n",
       "      <th>닭|오리고기</th>\n",
       "      <td>87</td>\n",
       "    </tr>\n",
       "    <tr>\n",
       "      <th>델리미트</th>\n",
       "      <td>184</td>\n",
       "    </tr>\n",
       "    <tr>\n",
       "      <th>돼지고기</th>\n",
       "      <td>188</td>\n",
       "    </tr>\n",
       "    <tr>\n",
       "      <th>두부|어묵|소시지</th>\n",
       "      <td>215</td>\n",
       "    </tr>\n",
       "    <tr>\n",
       "      <th>디저트|케이크</th>\n",
       "      <td>582</td>\n",
       "    </tr>\n",
       "    <tr>\n",
       "      <th>떡|한과</th>\n",
       "      <td>263</td>\n",
       "    </tr>\n",
       "    <tr>\n",
       "      <th>물|음료|주스</th>\n",
       "      <td>991</td>\n",
       "    </tr>\n",
       "    <tr>\n",
       "      <th>밀가루|믹스</th>\n",
       "      <td>79</td>\n",
       "    </tr>\n",
       "    <tr>\n",
       "      <th>바디|스킨|오랄케어</th>\n",
       "      <td>792</td>\n",
       "    </tr>\n",
       "    <tr>\n",
       "      <th>반려동물</th>\n",
       "      <td>1178</td>\n",
       "    </tr>\n",
       "    <tr>\n",
       "      <th>반찬|김치</th>\n",
       "      <td>955</td>\n",
       "    </tr>\n",
       "    <tr>\n",
       "      <th>빵|잼</th>\n",
       "      <td>888</td>\n",
       "    </tr>\n",
       "    <tr>\n",
       "      <th>생선</th>\n",
       "      <td>436</td>\n",
       "    </tr>\n",
       "    <tr>\n",
       "      <th>생필품</th>\n",
       "      <td>1803</td>\n",
       "    </tr>\n",
       "    <tr>\n",
       "      <th>소고기</th>\n",
       "      <td>444</td>\n",
       "    </tr>\n",
       "    <tr>\n",
       "      <th>수산가공품</th>\n",
       "      <td>332</td>\n",
       "    </tr>\n",
       "    <tr>\n",
       "      <th>스낵|초콜릿|시리얼</th>\n",
       "      <td>2000</td>\n",
       "    </tr>\n",
       "    <tr>\n",
       "      <th>쌀|잡곡</th>\n",
       "      <td>243</td>\n",
       "    </tr>\n",
       "    <tr>\n",
       "      <th>아이 식기</th>\n",
       "      <td>37</td>\n",
       "    </tr>\n",
       "    <tr>\n",
       "      <th>아이스크림</th>\n",
       "      <td>410</td>\n",
       "    </tr>\n",
       "    <tr>\n",
       "      <th>양고기</th>\n",
       "      <td>31</td>\n",
       "    </tr>\n",
       "    <tr>\n",
       "      <th>양념육|돈까스</th>\n",
       "      <td>220</td>\n",
       "    </tr>\n",
       "    <tr>\n",
       "      <th>영양제|건강식품</th>\n",
       "      <td>584</td>\n",
       "    </tr>\n",
       "    <tr>\n",
       "      <th>올리브|안타파스토</th>\n",
       "      <td>80</td>\n",
       "    </tr>\n",
       "    <tr>\n",
       "      <th>올리브오일|기름</th>\n",
       "      <td>232</td>\n",
       "    </tr>\n",
       "    <tr>\n",
       "      <th>우유|두유|유제품</th>\n",
       "      <td>463</td>\n",
       "    </tr>\n",
       "    <tr>\n",
       "      <th>유아식|아동식</th>\n",
       "      <td>627</td>\n",
       "    </tr>\n",
       "    <tr>\n",
       "      <th>유아용품</th>\n",
       "      <td>552</td>\n",
       "    </tr>\n",
       "    <tr>\n",
       "      <th>이벤트</th>\n",
       "      <td>224</td>\n",
       "    </tr>\n",
       "    <tr>\n",
       "      <th>이유식 재료</th>\n",
       "      <td>37</td>\n",
       "    </tr>\n",
       "    <tr>\n",
       "      <th>장|식초|양념</th>\n",
       "      <td>461</td>\n",
       "    </tr>\n",
       "    <tr>\n",
       "      <th>주방용품</th>\n",
       "      <td>1426</td>\n",
       "    </tr>\n",
       "    <tr>\n",
       "      <th>증정</th>\n",
       "      <td>573</td>\n",
       "    </tr>\n",
       "    <tr>\n",
       "      <th>차|커피</th>\n",
       "      <td>950</td>\n",
       "    </tr>\n",
       "    <tr>\n",
       "      <th>채소</th>\n",
       "      <td>691</td>\n",
       "    </tr>\n",
       "    <tr>\n",
       "      <th>치즈|버터</th>\n",
       "      <td>375</td>\n",
       "    </tr>\n",
       "    <tr>\n",
       "      <th>테이블웨어|홈데코</th>\n",
       "      <td>911</td>\n",
       "    </tr>\n",
       "    <tr>\n",
       "      <th>파스타|면</th>\n",
       "      <td>287</td>\n",
       "    </tr>\n",
       "    <tr>\n",
       "      <th>해산물|조개류</th>\n",
       "      <td>425</td>\n",
       "    </tr>\n",
       "    <tr>\n",
       "      <th>향신료|소스</th>\n",
       "      <td>682</td>\n",
       "    </tr>\n",
       "  </tbody>\n",
       "</table>\n",
       "</div>"
      ],
      "text/plain": [
       "                 MIDDLECAT_COUNTS\n",
       "MIDDLE_CATEGORY                  \n",
       "Kurly's Kitchen                79\n",
       "간편식|간편조리                     1823\n",
       "건어물                           170\n",
       "견과류                           235\n",
       "과일                            626\n",
       "국|찌개|탕                        233\n",
       "기저귀|물티슈                       191\n",
       "기타                           4149\n",
       "김|해조류                         151\n",
       "냉동식품                          459\n",
       "달걀                             56\n",
       "닭|오리고기                         87\n",
       "델리미트                          184\n",
       "돼지고기                          188\n",
       "두부|어묵|소시지                     215\n",
       "디저트|케이크                       582\n",
       "떡|한과                          263\n",
       "물|음료|주스                       991\n",
       "밀가루|믹스                         79\n",
       "바디|스킨|오랄케어                    792\n",
       "반려동물                         1178\n",
       "반찬|김치                         955\n",
       "빵|잼                           888\n",
       "생선                            436\n",
       "생필품                          1803\n",
       "소고기                           444\n",
       "수산가공품                         332\n",
       "스낵|초콜릿|시리얼                   2000\n",
       "쌀|잡곡                          243\n",
       "아이 식기                          37\n",
       "아이스크림                         410\n",
       "양고기                            31\n",
       "양념육|돈까스                       220\n",
       "영양제|건강식품                      584\n",
       "올리브|안타파스토                      80\n",
       "올리브오일|기름                      232\n",
       "우유|두유|유제품                     463\n",
       "유아식|아동식                       627\n",
       "유아용품                          552\n",
       "이벤트                           224\n",
       "이유식 재료                         37\n",
       "장|식초|양념                       461\n",
       "주방용품                         1426\n",
       "증정                            573\n",
       "차|커피                          950\n",
       "채소                            691\n",
       "치즈|버터                         375\n",
       "테이블웨어|홈데코                     911\n",
       "파스타|면                         287\n",
       "해산물|조개류                       425\n",
       "향신료|소스                        682"
      ]
     },
     "execution_count": 50,
     "metadata": {},
     "output_type": "execute_result"
    }
   ],
   "source": [
    "item_middlecat_counts = items.groupby('MIDDLE_CATEGORY').count().loc[:,[\"ITEM_ID\"]].rename(columns={\"ITEM_ID\":\"MIDDLECAT_COUNTS\"})\n",
    "item_middlecat_counts "
   ]
  },
  {
   "cell_type": "code",
   "execution_count": null,
   "metadata": {},
   "outputs": [],
   "source": [
    "#item_maincat_counts = items.groupby('MAIN_CATEGORY').count().loc[:,[\"ITEM_ID\"]].rename(columns={\"ITEM_ID\":\"MAINCAT_COUNTS\"})\n",
    "#item_maincat_counts \n"
   ]
  },
  {
   "cell_type": "markdown",
   "metadata": {},
   "source": [
    "### 데이터 S3 업로드 "
   ]
  },
  {
   "cell_type": "code",
   "execution_count": 51,
   "metadata": {},
   "outputs": [],
   "source": [
    "# File upload에 몇분 소요 (600MB)\n",
    "\n",
    "local_dataset_path=data_dir+\"/\"+WORK_DATE+\"/\"+\"training\"+\"/\"\n",
    "os.makedirs(local_dataset_path,exist_ok=True)\n",
    "\n",
    "interaction_object_key = \"interactions_\" + WORK_DATE + \".csv\"\n",
    "user_object_key=\"users_\"+ WORK_DATE + \".csv\"\n",
    "item_object_key=\"items_\"+WORK_DATE + \".csv\"\n",
    "\n",
    "interaction_file=local_dataset_path+\"/\"+interaction_object_key\n",
    "user_file=local_dataset_path+\"/\"+user_object_key\n",
    "item_file=local_dataset_path+\"/\"+item_object_key\n",
    "\n",
    "df[[\"USER_ID\",\"ITEM_ID\",\"TIMESTAMP\",\"EVENT_TYPE\"]].to_csv(interaction_file,index=False)\n",
    "users.to_csv(user_file,index=False)\n",
    "items.to_csv(item_file,index=False)"
   ]
  },
  {
   "cell_type": "code",
   "execution_count": 52,
   "metadata": {},
   "outputs": [],
   "source": [
    "target=KEY_PREFIX+\"/\"+DATA_PREFIX+\"/\"+interaction_object_key\n",
    "boto3.Session().resource('s3').Bucket(DATA_BUCKET_NAME).Object(target).upload_file(interaction_file)\n",
    "\n",
    "target=KEY_PREFIX+\"/\"+DATA_PREFIX+\"/\"+user_object_key\n",
    "boto3.Session().resource('s3').Bucket(DATA_BUCKET_NAME).Object(target).upload_file(user_file)\n",
    "\n",
    "\n",
    "target=KEY_PREFIX+\"/\"+DATA_PREFIX+\"/\"+item_object_key\n",
    "boto3.Session().resource('s3').Bucket(DATA_BUCKET_NAME).Object(target).upload_file(item_file)"
   ]
  },
  {
   "cell_type": "markdown",
   "metadata": {},
   "source": [
    "## 스키마 생성\n",
    "\n",
    "Personalize가 데이터를 이해하는 방법의 핵심 구성 요소는 아래 정의 된 스키마(schema)에서 비롯됩니다. 이 설정은 CSV 파일을 통해 제공된 데이터를 요약하는 방법을 Personalize 서비스에 알려줍니다. 열(column)과 유형(type)은 위에서 만든 파일의 내용과 일치합니다."
   ]
  },
  {
   "cell_type": "markdown",
   "metadata": {},
   "source": [
    "### Interaction 스키마 생성"
   ]
  },
  {
   "cell_type": "code",
   "execution_count": 53,
   "metadata": {},
   "outputs": [],
   "source": [
    "interaction_schema_name=\"Interaction-schema-\"+WORK_DATE+\"-\"+suffix"
   ]
  },
  {
   "cell_type": "code",
   "execution_count": 54,
   "metadata": {},
   "outputs": [
    {
     "name": "stdout",
     "output_type": "stream",
     "text": [
      "{\n",
      "  \"schemaArn\": \"arn:aws:personalize:ap-northeast-2:870180618679:schema/Interaction-schema-20200710-40722\",\n",
      "  \"ResponseMetadata\": {\n",
      "    \"RequestId\": \"6b072c0a-297f-43fd-b9bf-33ea1f0a8d89\",\n",
      "    \"HTTPStatusCode\": 200,\n",
      "    \"HTTPHeaders\": {\n",
      "      \"content-type\": \"application/x-amz-json-1.1\",\n",
      "      \"date\": \"Fri, 10 Jul 2020 09:05:48 GMT\",\n",
      "      \"x-amzn-requestid\": \"6b072c0a-297f-43fd-b9bf-33ea1f0a8d89\",\n",
      "      \"content-length\": \"104\",\n",
      "      \"connection\": \"keep-alive\"\n",
      "    },\n",
      "    \"RetryAttempts\": 0\n",
      "  }\n",
      "}\n"
     ]
    }
   ],
   "source": [
    "interaction_schema = {\n",
    "    \"type\": \"record\",\n",
    "    \"name\": \"Interactions\",\n",
    "    \"namespace\": \"com.amazonaws.personalize.schema\",\n",
    "    \"fields\": [\n",
    "        {\n",
    "            \"name\": \"USER_ID\",\n",
    "            \"type\": \"string\"\n",
    "        },\n",
    "        {\n",
    "            \"name\": \"ITEM_ID\",\n",
    "            \"type\": \"string\"\n",
    "        },\n",
    "       \n",
    "        {\n",
    "            \"name\": \"TIMESTAMP\",\n",
    "            \"type\": \"long\"\n",
    "        },\n",
    "        { \n",
    "            \"name\": \"EVENT_TYPE\",\n",
    "            \"type\": \"string\"\n",
    "        },\n",
    "    ],\n",
    "    \"version\": \"1.0\"\n",
    "}\n",
    "\n",
    "\n",
    "create_schema_response = personalize.create_schema(\n",
    "    name = interaction_schema_name,\n",
    "    schema = json.dumps(interaction_schema)\n",
    ")\n",
    "\n",
    "interaction_schema_arn = create_schema_response['schemaArn']\n",
    "print(json.dumps(create_schema_response, indent=2))"
   ]
  },
  {
   "cell_type": "markdown",
   "metadata": {},
   "source": [
    "### User 스키마 생성"
   ]
  },
  {
   "cell_type": "code",
   "execution_count": 55,
   "metadata": {},
   "outputs": [],
   "source": [
    "user_schema_name=\"User-schema-\"+WORK_DATE+\"-\"+suffix"
   ]
  },
  {
   "cell_type": "code",
   "execution_count": 56,
   "metadata": {},
   "outputs": [
    {
     "name": "stdout",
     "output_type": "stream",
     "text": [
      "{\n",
      "  \"schemaArn\": \"arn:aws:personalize:ap-northeast-2:870180618679:schema/User-schema-20200710-40722\",\n",
      "  \"ResponseMetadata\": {\n",
      "    \"RequestId\": \"b333cb0c-d5a4-4498-ae91-96ad20cf4c74\",\n",
      "    \"HTTPStatusCode\": 200,\n",
      "    \"HTTPHeaders\": {\n",
      "      \"content-type\": \"application/x-amz-json-1.1\",\n",
      "      \"date\": \"Fri, 10 Jul 2020 09:05:48 GMT\",\n",
      "      \"x-amzn-requestid\": \"b333cb0c-d5a4-4498-ae91-96ad20cf4c74\",\n",
      "      \"content-length\": \"97\",\n",
      "      \"connection\": \"keep-alive\"\n",
      "    },\n",
      "    \"RetryAttempts\": 0\n",
      "  }\n",
      "}\n"
     ]
    }
   ],
   "source": [
    "user_schema = {\n",
    "    \"type\": \"record\",\n",
    "    \"name\": \"Users\",\n",
    "    \"namespace\": \"com.amazonaws.personalize.schema\",\n",
    "    \"fields\": [\n",
    "        {\n",
    "            \"name\": \"USER_ID\",\n",
    "            \"type\": \"string\"\n",
    "        },\n",
    "      {\n",
    "          \"name\": \"LEVEL\",\n",
    "          \"type\": \"string\",\n",
    "          \"categorical\": True\n",
    "      }\n",
    "     \n",
    "    ],\n",
    "    \"version\": \"1.0\"\n",
    "}\n",
    "\n",
    "\n",
    "create_schema_response = personalize.create_schema(\n",
    "    name = user_schema_name,\n",
    "    schema = json.dumps(user_schema)\n",
    ")\n",
    "\n",
    "user_schema_arn = create_schema_response['schemaArn']\n",
    "print(json.dumps(create_schema_response, indent=2))"
   ]
  },
  {
   "cell_type": "code",
   "execution_count": null,
   "metadata": {},
   "outputs": [],
   "source": [
    "item_schema_name=\"Item-schema-\"+WORK_DATE+\"-\"+suffix"
   ]
  },
  {
   "cell_type": "code",
   "execution_count": 57,
   "metadata": {},
   "outputs": [
    {
     "ename": "NameError",
     "evalue": "name 'item_schema_name' is not defined",
     "output_type": "error",
     "traceback": [
      "\u001b[0;31m---------------------------------------------------------------------------\u001b[0m",
      "\u001b[0;31mNameError\u001b[0m                                 Traceback (most recent call last)",
      "\u001b[0;32m<ipython-input-57-400283c232da>\u001b[0m in \u001b[0;36m<module>\u001b[0;34m()\u001b[0m\n\u001b[1;32m     23\u001b[0m \u001b[0;34m\u001b[0m\u001b[0m\n\u001b[1;32m     24\u001b[0m create_metadata_schema_response = personalize.create_schema(\n\u001b[0;32m---> 25\u001b[0;31m     \u001b[0mname\u001b[0m \u001b[0;34m=\u001b[0m \u001b[0mitem_schema_name\u001b[0m\u001b[0;34m,\u001b[0m\u001b[0;34m\u001b[0m\u001b[0m\n\u001b[0m\u001b[1;32m     26\u001b[0m     \u001b[0mschema\u001b[0m \u001b[0;34m=\u001b[0m \u001b[0mjson\u001b[0m\u001b[0;34m.\u001b[0m\u001b[0mdumps\u001b[0m\u001b[0;34m(\u001b[0m\u001b[0mitem_schema\u001b[0m\u001b[0;34m)\u001b[0m\u001b[0;34m\u001b[0m\u001b[0m\n\u001b[1;32m     27\u001b[0m )\n",
      "\u001b[0;31mNameError\u001b[0m: name 'item_schema_name' is not defined"
     ]
    }
   ],
   "source": [
    "item_schema = {\n",
    "    \"type\": \"record\",\n",
    "    \"name\": \"Items\",\n",
    "    \"namespace\": \"com.amazonaws.personalize.schema\",\n",
    "    \"fields\": [\n",
    "    {\n",
    "        \"name\": \"ITEM_ID\",\n",
    "        \"type\": \"string\"\n",
    "    },\n",
    "   \n",
    "    \n",
    "    {\n",
    "        \"name\": \"MIDDLE_CATEGORY\",\n",
    "        \"type\": [\"string\",\"null\"],\n",
    "        \"categorical\": True\n",
    "    }\n",
    "    \n",
    "      \n",
    "        \n",
    "    ],\n",
    "    \"version\": \"1.0\"\n",
    "}\n",
    "\n",
    "create_metadata_schema_response = personalize.create_schema(\n",
    "    name = item_schema_name,\n",
    "    schema = json.dumps(item_schema)\n",
    ")\n",
    "\n",
    "item_schema_arn = create_metadata_schema_response['schemaArn']\n",
    "print(json.dumps(create_metadata_schema_response, indent=2))\n"
   ]
  },
  {
   "cell_type": "markdown",
   "metadata": {},
   "source": [
    "## 데이터 세트 그룹 생성 및 대기\n",
    "\n",
    "Personalize에서 가장 큰 단위는 **데이터 세트 그룹(Dataset Group)** 이며, 이렇게 하면 데이터, 이벤트 추적기(event tracker), 솔루션(solution) 및 캠페인(campaign)이 분리됩니다. 공통의 데이터 수집을 공유하는 것들을 그룹화합니다. 원하는 경우 아래 그룹명을 자유롭게 변경해 주세요."
   ]
  },
  {
   "cell_type": "markdown",
   "metadata": {},
   "source": [
    "### 데이터 세트 그룹 생성"
   ]
  },
  {
   "cell_type": "code",
   "execution_count": null,
   "metadata": {},
   "outputs": [],
   "source": [
    "create_dataset_group_response = personalize.create_dataset_group(\n",
    "    name = DATA_SET_GROUP_NAME\n",
    ")\n",
    "\n",
    "dataset_group_arn = create_dataset_group_response['datasetGroupArn']\n",
    "print(json.dumps(create_dataset_group_response, indent=2))"
   ]
  },
  {
   "cell_type": "markdown",
   "metadata": {},
   "source": [
    "#### 데이터 세트 그룹이 활성화 상태가 될 때까지 대기\n",
    "\n",
    "아래의 모든 항목에서 Dataset Group을 사용하려면 활성화(active)가 되어야 합니다. 아래 셀을 실행하고 DatasetGroup: ACTIVE로 변경될 때까지 기다려 주세요."
   ]
  },
  {
   "cell_type": "code",
   "execution_count": null,
   "metadata": {},
   "outputs": [],
   "source": [
    "max_time = time.time() + 3*60*60 # 3 hours\n",
    "while time.time() < max_time:\n",
    "    describe_dataset_group_response = personalize.describe_dataset_group(\n",
    "        datasetGroupArn = dataset_group_arn\n",
    "    )\n",
    "    status = describe_dataset_group_response[\"datasetGroup\"][\"status\"]\n",
    "    print(\"DatasetGroup: {}\".format(status))\n",
    "    \n",
    "    if status == \"ACTIVE\" or status == \"CREATE FAILED\":\n",
    "        break\n",
    "        \n",
    "    time.sleep(15)"
   ]
  },
  {
   "cell_type": "markdown",
   "metadata": {},
   "source": [
    "### 데이터 세트 생성\n",
    "\n",
    "그룹 다음으로 생성할 것은 실제 데이터 세트입니다. 아래의 코드 셀을 실행하여 데이터 세트을 생성해 주세요."
   ]
  },
  {
   "cell_type": "markdown",
   "metadata": {},
   "source": [
    "### Interaction 데이터 세트 생성"
   ]
  },
  {
   "cell_type": "code",
   "execution_count": null,
   "metadata": {},
   "outputs": [],
   "source": [
    "dataset_type = \"INTERACTIONS\"\n",
    "create_dataset_response = personalize.create_dataset(\n",
    "    name = DATASET_NAME_INTERACTION,\n",
    "    datasetType = dataset_type,\n",
    "    datasetGroupArn = dataset_group_arn,\n",
    "    schemaArn = interaction_schema_arn\n",
    ")\n",
    "\n",
    "interaction_dataset_arn = create_dataset_response['datasetArn']\n",
    "print(json.dumps(create_dataset_response, indent=2))"
   ]
  },
  {
   "cell_type": "markdown",
   "metadata": {},
   "source": [
    "###  USER 데이터 세트 생성 "
   ]
  },
  {
   "cell_type": "code",
   "execution_count": null,
   "metadata": {},
   "outputs": [],
   "source": [
    "dataset_type = \"USERS\"\n",
    "\n",
    "create_dataset_response = personalize.create_dataset(\n",
    "    name = DATASET_NAME_USERS,\n",
    "    datasetType = dataset_type,\n",
    "    datasetGroupArn = dataset_group_arn,\n",
    "    schemaArn = user_schema_arn\n",
    ")\n",
    "\n",
    "user_dataset_arn = create_dataset_response['datasetArn']\n",
    "print(json.dumps(create_dataset_response, indent=2))"
   ]
  },
  {
   "cell_type": "markdown",
   "metadata": {},
   "source": [
    "### ITEM 데이터 세트 생성"
   ]
  },
  {
   "cell_type": "code",
   "execution_count": null,
   "metadata": {},
   "outputs": [],
   "source": [
    "dataset_type = \"ITEMS\"\n",
    "\n",
    "create_dataset_response = personalize.create_dataset(\n",
    "    name = DATASET_NAME_ITEMS,\n",
    "    datasetType = dataset_type,\n",
    "    datasetGroupArn = dataset_group_arn,\n",
    "    schemaArn = item_schema_arn\n",
    ")\n",
    "\n",
    "item_dataset_arn = create_dataset_response['datasetArn']\n",
    "print(json.dumps(create_dataset_response, indent=2))"
   ]
  },
  {
   "cell_type": "markdown",
   "metadata": {},
   "source": [
    "### S3 버킷에 정책 부여\n",
    "\n",
    "Amazon Personalize는 앞서 생성한 S3 버킷의 내용을 읽을 수 있어야 합니다. 아래 코드 셀로 S3 버킷 접근 정책(policy)을 부여합니다."
   ]
  },
  {
   "cell_type": "code",
   "execution_count": null,
   "metadata": {},
   "outputs": [],
   "source": [
    "s3 = boto3.client(\"s3\")\n",
    "\n",
    "policy = {\n",
    "    \"Version\": \"2012-10-17\",\n",
    "    \"Id\": \"PersonalizeS3BucketAccessPolicy\",\n",
    "    \"Statement\": [\n",
    "        {\n",
    "            \"Sid\": \"PersonalizeS3BucketAccessPolicy\",\n",
    "            \"Effect\": \"Allow\",\n",
    "            \"Principal\": {\n",
    "                \"Service\": \"personalize.amazonaws.com\"\n",
    "            },\n",
    "            \"Action\": [\n",
    "                \"s3:*Object\",\n",
    "                \"s3:ListBucket\",\n",
    "            ],\n",
    "            \"Resource\": [\n",
    "                \"arn:aws:s3:::{}\".format(bucket),\n",
    "                \"arn:aws:s3:::{}/*\".format(bucket)\n",
    "            ]\n",
    "        }\n",
    "    ]\n",
    "}\n",
    "\n",
    "s3.put_bucket_policy(Bucket=DATA_BUCKET_NAME, Policy=json.dumps(policy))"
   ]
  },
  {
   "cell_type": "markdown",
   "metadata": {},
   "source": [
    "### Personalize IAM Role 생성\n",
    "\n",
    "또한, Amazon Personalize는 특정 작업들을 실행할 권한을 갖기 위해, AWS에서 역할을 맡을 수 있는 기능이 필요합니다. "
   ]
  },
  {
   "cell_type": "code",
   "execution_count": null,
   "metadata": {},
   "outputs": [],
   "source": [
    "role_arn=\"arn:aws:iam::870180618679:role/Kurly-PersonalizeRetailRole-0612\"\n",
    "'''\n",
    "iam = boto3.client(\"iam\")\n",
    "\n",
    "role_name = ROLE_NAME\n",
    "assume_role_policy_document = {\n",
    "    \"Version\": \"2012-10-17\",\n",
    "    \"Statement\": [\n",
    "        {\n",
    "          \"Effect\": \"Allow\",\n",
    "          \"Principal\": {\n",
    "            \"Service\": \"personalize.amazonaws.com\"\n",
    "          },\n",
    "          \"Action\": \"sts:AssumeRole\"\n",
    "        }\n",
    "    ]\n",
    "}\n",
    "\n",
    "\n",
    "\n",
    "\n",
    "try:\n",
    "    create_role_response = iam.create_role(\n",
    "        RoleName = role_name,\n",
    "        AssumeRolePolicyDocument = json.dumps(assume_role_policy_document)\n",
    "    );\n",
    "\n",
    "    iam.attach_role_policy(\n",
    "        RoleName = role_name,\n",
    "        PolicyArn = \"arn:aws:iam::aws:policy/AmazonS3ReadOnlyAccess\"\n",
    "    );\n",
    "\n",
    "    role_arn = create_role_response[\"Role\"][\"Arn\"]\n",
    "except ClientError as e:\n",
    "    if e.response['Error']['Code'] == 'EntityAlreadyExists':\n",
    "        role_arn = iam.get_role(RoleName=role_name)['Role']['Arn']\n",
    "    else:\n",
    "        raise\n",
    "        \n",
    "\n",
    "# AmazonPersonalizeFullAccess provides access to any S3 bucket with a name that includes \"personalize\" or \"Personalize\" \n",
    "# if you would like to use a bucket with a different name, please consider creating and attaching a new policy\n",
    "# that provides read access to your bucket or attaching the AmazonS3ReadOnlyAccess policy to the role\n",
    "policy_arn = \"arn:aws:iam::aws:policy/service-role/AmazonPersonalizeFullAccess\"\n",
    "iam.attach_role_policy(\n",
    "    RoleName = role_name,\n",
    "    PolicyArn = policy_arn\n",
    ")\n",
    "\n",
    "# Now add S3 support\n",
    "iam.attach_role_policy(\n",
    "    RoleName=role_name,    \n",
    "    PolicyArn='arn:aws:iam::aws:policy/AmazonS3FullAccess'\n",
    ")\n",
    "time.sleep(60) # wait for a minute to allow IAM role policy attachment to propagate\n",
    "\n",
    "\n",
    "print(role_arn)\n",
    "'''"
   ]
  },
  {
   "cell_type": "markdown",
   "metadata": {},
   "source": [
    "### 데이터 세트 Import\n",
    "\n",
    "이전에는 정보를 저장하기 위해 데이터 세트 그룹 및 데이터 세트를 생성했으므로, \n",
    "이제는 모델 구축을 위해 S3에서 Amazon Personalize로 데이터를 로드하는 import job을 실행합니다.\n",
    "\n",
    "#### Interaction 데이터 세트 Import Job 생성"
   ]
  },
  {
   "cell_type": "code",
   "execution_count": null,
   "metadata": {},
   "outputs": [],
   "source": [
    "print(DATA_BUCKET_NAME, KEY_PREFIX+\"/\"+DATA_PREFIX+\"/\"+interaction_object_key)"
   ]
  },
  {
   "cell_type": "code",
   "execution_count": null,
   "metadata": {},
   "outputs": [],
   "source": [
    "create_dataset_import_job_response = personalize.create_dataset_import_job(\n",
    "    jobName = \"kurly-interaction-dataset-import-\" + WORK_DATE,\n",
    "    datasetArn = interaction_dataset_arn,\n",
    "    dataSource = {\n",
    "        \"dataLocation\": \"s3://{}/{}\".format(DATA_BUCKET_NAME, KEY_PREFIX+\"/\"+DATA_PREFIX+\"/\"+interaction_object_key)\n",
    "    },\n",
    "    roleArn = role_arn\n",
    ")\n",
    "\n",
    "interation_dataset_import_job_arn = create_dataset_import_job_response['datasetImportJobArn']\n",
    "print(json.dumps(create_dataset_import_job_response, indent=2))"
   ]
  },
  {
   "cell_type": "code",
   "execution_count": null,
   "metadata": {},
   "outputs": [],
   "source": [
    "create_dataset_import_job_response = personalize.create_dataset_import_job(\n",
    "    jobName = \"kurly-users-dataset-import-\" + WORK_DATE,\n",
    "    datasetArn = user_dataset_arn,\n",
    "    dataSource = {\n",
    "        \"dataLocation\": \"s3://{}/{}\".format(DATA_BUCKET_NAME, KEY_PREFIX+\"/\"+DATA_PREFIX+\"/\"+user_object_key)\n",
    "    },\n",
    "    roleArn = role_arn\n",
    ")\n",
    "\n",
    "user_dataset_import_job_arn = create_dataset_import_job_response['datasetImportJobArn']\n",
    "print(json.dumps(create_dataset_import_job_response, indent=2))"
   ]
  },
  {
   "cell_type": "code",
   "execution_count": null,
   "metadata": {},
   "outputs": [],
   "source": [
    "create_dataset_import_job_response = personalize.create_dataset_import_job(\n",
    "    jobName = \"kurly-item-dataset-import-\" + WORK_DATE,\n",
    "    datasetArn = item_dataset_arn,\n",
    "    dataSource = {\n",
    "        \"dataLocation\": \"s3://{}/{}\".format(DATA_BUCKET_NAME, KEY_PREFIX+\"/\"+DATA_PREFIX+\"/\"+item_object_key)\n",
    "    },\n",
    "    roleArn = role_arn\n",
    ")\n",
    "\n",
    "item_dataset_import_job_arn = create_dataset_import_job_response['datasetImportJobArn']\n",
    "print(json.dumps(create_dataset_import_job_response, indent=2))"
   ]
  },
  {
   "cell_type": "code",
   "execution_count": null,
   "metadata": {},
   "outputs": [],
   "source": [
    "#store values 세션 끊길거 대비 \n",
    "%store BUCKET_NAME\n",
    "%store DATA_BUCKET_NAME\n",
    "%store dataset_group_arn\n",
    "%store interaction_dataset_arn\n",
    "%store user_dataset_arn\n",
    "%store item_dataset_arn\n",
    "%store interation_dataset_import_job_arn\n",
    "%store user_dataset_import_job_arn\n",
    "%store item_dataset_import_job_arn\n",
    "%store ROLE_NAME\n",
    "%store role_arn"
   ]
  },
  {
   "cell_type": "markdown",
   "metadata": {},
   "source": [
    "#### 아이템 데이터 세트 Import Job 생성"
   ]
  },
  {
   "cell_type": "markdown",
   "metadata": {},
   "source": [
    "### 데이터 세트 Import job이 활성화 상태가 될 때까지 대기\n",
    "\n",
    "Import job이 완료되기까지 시간이 걸립니다. 아래 코드 셀의 출력 결과가 DatasetImportJob: ACTIVE가 될 때까지 기다려 주세요."
   ]
  },
  {
   "cell_type": "code",
   "execution_count": null,
   "metadata": {},
   "outputs": [],
   "source": [
    "%%time\n",
    "\n",
    "status = None\n",
    "max_time = time.time() + 3*60*60 # 3 hours\n",
    "while time.time() < max_time:\n",
    "    describe_dataset_import_job_response = personalize.describe_dataset_import_job(\n",
    "        datasetImportJobArn = interation_dataset_import_job_arn\n",
    "    )\n",
    "    \n",
    "    dataset_import_job = describe_dataset_import_job_response[\"datasetImportJob\"]\n",
    "    if \"latestDatasetImportJobRun\" not in dataset_import_job:\n",
    "        status = dataset_import_job[\"status\"]\n",
    "        print(\"DatasetImportJob: {}\".format(status))\n",
    "    else:\n",
    "        status = dataset_import_job[\"latestDatasetImportJobRun\"][\"status\"]\n",
    "        print(\"LatestDatasetImportJobRun: {}\".format(status))\n",
    "    \n",
    "    if status == \"ACTIVE\" or status == \"CREATE FAILED\":\n",
    "        break\n",
    "        \n",
    "    time.sleep(60)"
   ]
  },
  {
   "cell_type": "markdown",
   "metadata": {},
   "source": [
    "## 솔루션 생성 "
   ]
  },
  {
   "cell_type": "code",
   "execution_count": null,
   "metadata": {},
   "outputs": [],
   "source": [
    " # Recipe 선택 \n",
    "hrnn_recipe_arn = \"arn:aws:personalize:::recipe/aws-hrnn-metadata\""
   ]
  },
  {
   "cell_type": "code",
   "execution_count": null,
   "metadata": {},
   "outputs": [],
   "source": [
    "# Solution 생성 \n",
    "create_solution_response = personalize.create_solution(\n",
    "    name = \"Kurly-hrnn-\" + WORK_DATE,\n",
    "    datasetGroupArn = dataset_group_arn,\n",
    "    recipeArn = hrnn_recipe_arn,\n",
    ")\n",
    "\n",
    "hrnn_solution_arn = create_solution_response['solutionArn']\n",
    "print(json.dumps(create_solution_response, indent=2))"
   ]
  },
  {
   "cell_type": "code",
   "execution_count": null,
   "metadata": {},
   "outputs": [],
   "source": [
    "# 솔루션 버전 생성\n",
    "create_solution_version_response = personalize.create_solution_version(\n",
    "    solutionArn = hrnn_solution_arn\n",
    ")\n",
    "\n",
    "hrnn_solution_version_arn = create_solution_version_response['solutionVersionArn']\n",
    "print(json.dumps(create_solution_version_response, indent=2))"
   ]
  },
  {
   "cell_type": "code",
   "execution_count": null,
   "metadata": {},
   "outputs": [],
   "source": [
    "%%time\n",
    "\n",
    "max_time = time.time() + 8*60*60 # 8 hours\n",
    "while time.time() < max_time:\n",
    "      \n",
    "    #hrnn status\n",
    "    describe_solution_version_response = personalize.describe_solution_version(\n",
    "        solutionVersionArn = hrnn_solution_version_arn\n",
    "    )  \n",
    "    status_hrnn = describe_solution_version_response[\"solutionVersion\"][\"status\"]\n",
    "    print(\"HRNN SolutionVersion: {}\".format(status_hrnn))\n",
    "       \n",
    "    if  (status_hrnn == \"ACTIVE\" or status_hrnn == \"CREATE FAILED\"):\n",
    "        break\n",
    " \n",
    "    time.sleep(300)\n",
    "\n",
    "print(\"All solution creation completed\")"
   ]
  },
  {
   "cell_type": "code",
   "execution_count": null,
   "metadata": {},
   "outputs": [],
   "source": [
    "%store hrnn_solution_version_arn\n",
    "%store hrnn_solution_arn\n"
   ]
  },
  {
   "cell_type": "markdown",
   "metadata": {},
   "source": [
    "## 솔루션 평가하기 "
   ]
  },
  {
   "cell_type": "code",
   "execution_count": null,
   "metadata": {},
   "outputs": [],
   "source": [
    "%store -r"
   ]
  },
  {
   "cell_type": "code",
   "execution_count": null,
   "metadata": {},
   "outputs": [],
   "source": [
    "get_solution_metrics_response = personalize.get_solution_metrics(\n",
    "    solutionVersionArn = hrnn_solution_version_arn\n",
    ")\n",
    "\n",
    "print(json.dumps(get_solution_metrics_response, indent=2))\n",
    "\n"
   ]
  },
  {
   "cell_type": "markdown",
   "metadata": {},
   "source": [
    "## Batch Inference"
   ]
  },
  {
   "cell_type": "code",
   "execution_count": null,
   "metadata": {},
   "outputs": [],
   "source": [
    "batch_target_users = df.USER_ID.unique()\n",
    "\n",
    "BATCH_TARGET_USERS_FILE= \"users_for_batch_\"+ WORK_DATE + \".json\"\n",
    "\n",
    "n = 0\n",
    "f = open(data_dir+\"/\"+BATCH_TARGET_USERS_FILE,\"w\")\n",
    "for user in batch_target_users:\n",
    "    f.write(\"{\\\"userId\\\":\\\"%s\\\"}\\n\" % user)\n",
    "    n = n + 1\n",
    "    #for the test\n",
    "    #if n> 100:\n",
    "    #    break\n",
    "    \n",
    "f.close()\n",
    "print(BATCH_TARGET_USERS_FILE)\n",
    "print(n)"
   ]
  },
  {
   "cell_type": "code",
   "execution_count": null,
   "metadata": {},
   "outputs": [],
   "source": [
    "# Upload files to S3\n",
    "S3_BATCH_FILE_PATH=KEY_PREFIX+\"/\"+\"batch\"+\"/\"\n",
    "\n",
    "boto3.Session().resource('s3').Bucket(DATA_BUCKET_NAME).Object(S3_BATCH_FILE_PATH+BATCH_TARGET_USERS_FILE).upload_file(data_dir+\"/\"+BATCH_TARGET_USERS_FILE)\n",
    "\n",
    "s3_input_path = \"s3://\" + DATA_BUCKET_NAME + \"/\"+S3_BATCH_FILE_PATH+BATCH_TARGET_USERS_FILE\n",
    "print(s3_input_path)"
   ]
  },
  {
   "cell_type": "code",
   "execution_count": null,
   "metadata": {},
   "outputs": [],
   "source": [
    "# Define the output path\n",
    "s3_output_path = \"s3://\" +DATA_BUCKET_NAME +\"/\"+S3_BATCH_FILE_PATH\n",
    "print(s3_output_path)"
   ]
  },
  {
   "cell_type": "code",
   "execution_count": null,
   "metadata": {},
   "outputs": [],
   "source": [
    "batchInferenceJobArn = personalize.create_batch_inference_job (\n",
    "    solutionVersionArn = hrnn_solution_version_arn,\n",
    "    jobName = \"Kurly-Batch-Inference-Job-HRNN-\"+WORK_DATE+suffix,\n",
    "    roleArn = role_arn,\n",
    "    jobInput = \n",
    "     {\"s3DataSource\": {\"path\": s3_input_path}},\n",
    "    jobOutput = \n",
    "     {\"s3DataDestination\":{\"path\": s3_output_path}}\n",
    ")\n",
    "batchInferenceJobArn = batchInferenceJobArn['batchInferenceJobArn']"
   ]
  },
  {
   "cell_type": "code",
   "execution_count": null,
   "metadata": {
    "scrolled": true
   },
   "outputs": [],
   "source": [
    "current_time = datetime.now()\n",
    "print(\"Import Started on: \", current_time.strftime(\"%I:%M:%S %p\"))\n",
    "\n",
    "max_time = time.time() + 3*60*60 # 3 hours\n",
    "while time.time() < max_time:\n",
    "    describe_dataset_inference_job_response = personalize.describe_batch_inference_job(\n",
    "        batchInferenceJobArn = batchInferenceJobArn\n",
    "    )\n",
    "    status = describe_dataset_inference_job_response[\"batchInferenceJob\"]['status']\n",
    "    print(\"DatasetInferenceJob: {}\".format(status))\n",
    "    \n",
    "    if status == \"ACTIVE\" or status == \"CREATE FAILED\":\n",
    "        break\n",
    "        \n",
    "    time.sleep(60)\n",
    "    \n",
    "current_time = datetime.now()\n",
    "print(\"Import Completed on: \", current_time.strftime(\"%I:%M:%S %p\"))"
   ]
  },
  {
   "cell_type": "code",
   "execution_count": null,
   "metadata": {},
   "outputs": [],
   "source": [
    "s3 = boto3.client('s3')\n",
    "export_name = BATCH_TARGET_USERS_FILE + \".out\"\n",
    "\n",
    "s3.download_file(DATA_BUCKET_NAME,S3_BATCH_FILE_PATH+export_name,data_dir+\"/\"+export_name)\n",
    "print(S3_BATCH_FILE_PATH+export_name,data_dir+\"/\"+export_name)\n",
    "# Update DF rendering\n",
    "pd.set_option('display.max_rows', 30)\n",
    "count=0\n",
    "with open(data_dir+export_name) as json_file:\n",
    "    # Get the first line and parse it\n",
    "    line = json.loads(json_file.readline())\n",
    "    # Do the same for the other lines\n",
    "    while line:\n",
    "        # extract the user ID \n",
    "        col_header = \"User: \" + line['input']['userId']\n",
    "        # Create a list for all the artists\n",
    "        recommendation_list = []\n",
    "        # Add all the entries\n",
    "        for item in line['output']['recommendedItems']:\n",
    "            #title = get_movie_title(item)\n",
    "            #recommendation_list.append(title)\n",
    "            recommendation_list.append(item)\n",
    "        if count>0:\n",
    "            new_rec_DF = pd.DataFrame(recommendation_list, columns = [col_header])\n",
    "            batch_recommendations_df = batch_recommendations_df.join(new_rec_DF)\n",
    "            count+=1\n",
    "        else:\n",
    "            batch_recommendations_df = pd.DataFrame(recommendation_list, columns=[col_header])\n",
    "            count+=1\n",
    "        try:\n",
    "            line = json.loads(json_file.readline())\n",
    "        except:\n",
    "            line = None\n",
    "batch_recommendations_df\n",
    "print(count)"
   ]
  },
  {
   "cell_type": "code",
   "execution_count": null,
   "metadata": {},
   "outputs": [],
   "source": [
    "\n",
    "def read_batch_result(filename, key_name):\n",
    "    result = {}\n",
    "    fp = open(filename)\n",
    "    reader = jsonlines.Reader(fp)\n",
    "    count = 0\n",
    "    for record in reader:\n",
    "        result[record[\"input\"][key_name]] = str.join(\",\",record[\"output\"][\"recommendedItems\"])\n",
    "        count += 1\n",
    "    reader.close()\n",
    "    fp.close()\n",
    "    \n",
    "    print(\"Found records:\", count, len(result))\n",
    "    return result\n",
    "\n",
    "def unique_count(result):\n",
    "    recommend_keys = {}\n",
    "    \n",
    "    duplicate_cnt = 0\n",
    "    unique_cnt = 0\n",
    "    for k in result:\n",
    "        key = result[k]\n",
    "        \n",
    "        if key not in recommend_keys:\n",
    "            unique_cnt += 1            \n",
    "            recommend_keys[key] = { \"count\": 1, \"keys\": k }\n",
    "        else:\n",
    "            recommend_keys[key][\"count\"] = recommend_keys[key][\"count\"] + 1\n",
    "            #recommend_keys[key][\"keys\"] = recommend_keys[key][\"keys\"] + \",\" + k\n",
    "            duplicate_cnt += 1\n",
    "        #print(f'dup:%10d, unique:%10d, %s is processing…\\r' % (duplicate_cnt, unique_cnt, k), end=\"\")\n",
    "\n",
    "    return recommend_keys, unique_cnt, duplicate_cnt\n",
    "\n",
    "hrnn_result = read_batch_result(\"poc_data/\"+\"users_for_batch_20200612.json.out\", \"userId\")\n",
    "recommend_keys, unique_cnt, duplicate_cnt = unique_count(hrnn_result)\n",
    "\n",
    "print(f'dup:%10d, unique:%10d\\n' % (duplicate_cnt, unique_cnt))\n",
    "cnt = 10\n",
    "for i in sorted(recommend_keys, key=lambda x: (recommend_keys[x]['count']), reverse=True):\n",
    "    print(recommend_keys[i], i)\n",
    "    if cnt < 0: \n",
    "        break\n",
    "    cnt -=1"
   ]
  },
  {
   "cell_type": "code",
   "execution_count": null,
   "metadata": {},
   "outputs": [],
   "source": [
    "%store batchInferenceJobArn"
   ]
  },
  {
   "cell_type": "markdown",
   "metadata": {},
   "source": [
    "## 캠페인 생성하기 "
   ]
  },
  {
   "cell_type": "code",
   "execution_count": null,
   "metadata": {},
   "outputs": [],
   "source": [
    "'''\n",
    "create_campaign_response = personalize.create_campaign(\n",
    "    name = \"Customer-hrnn-campaign-\" + WORK_DATE,\n",
    "    solutionVersionArn = hrnn_solution_version_arn,\n",
    "    minProvisionedTPS = 1\n",
    ")\n",
    "\n",
    "hrnn_campaign_arn = create_campaign_response['campaignArn']\n",
    "print(json.dumps(create_campaign_response, indent=2))\n",
    "'''"
   ]
  },
  {
   "cell_type": "code",
   "execution_count": null,
   "metadata": {},
   "outputs": [],
   "source": [
    "'''\n",
    "user_id= test_user_id\n",
    "get_recommendations_response = personalize_runtime.get_recommendations(\n",
    "    campaignArn = hrnn_campaign_arn,\n",
    "    userId = str(user_id),\n",
    ")\n",
    "# Update DF rendering\n",
    "pd.set_option('display.max_rows', 30)\n",
    "\n",
    "print(\"Recommendations for user: \", user_id)\n",
    "\n",
    "item_list = get_recommendations_response['itemList']\n",
    "\n",
    "recommendation_title_list = []\n",
    "recommendation_id_list=[]\n",
    "for item in item_list:\n",
    "    recommendation_title_list.append(title)\n",
    "    recommendation_id_list.append(item['itemId'])\n",
    "recommendations_df = pd.DataFrame(recommendation_title_list, columns = ['OriginalRecs'])\n",
    "recommendations_df\n",
    "'''"
   ]
  },
  {
   "cell_type": "code",
   "execution_count": null,
   "metadata": {},
   "outputs": [],
   "source": [
    "%store hrnn_campaign_arn\n"
   ]
  }
 ],
 "metadata": {
  "kernelspec": {
   "display_name": "conda_python3",
   "language": "python",
   "name": "conda_python3"
  },
  "language_info": {
   "codemirror_mode": {
    "name": "ipython",
    "version": 3
   },
   "file_extension": ".py",
   "mimetype": "text/x-python",
   "name": "python",
   "nbconvert_exporter": "python",
   "pygments_lexer": "ipython3",
   "version": "3.6.5"
  }
 },
 "nbformat": 4,
 "nbformat_minor": 4
}
